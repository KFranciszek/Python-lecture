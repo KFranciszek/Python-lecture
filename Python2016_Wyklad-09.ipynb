{
 "cells": [
  {
   "cell_type": "markdown",
   "metadata": {},
   "source": [
    "# Język Python - Wykład 9"
   ]
  },
  {
   "cell_type": "markdown",
   "metadata": {},
   "source": [
    "## Wydaje obliczenia numeryczne"
   ]
  },
  {
   "cell_type": "markdown",
   "metadata": {},
   "source": [
    "Tworzenie tablic"
   ]
  },
  {
   "cell_type": "code",
   "execution_count": 1,
   "metadata": {
    "collapsed": true
   },
   "outputs": [],
   "source": [
    "def matrix(rows, cols):\n",
    "    return [[0. for col in range(cols)] for row in range(rows)]"
   ]
  },
  {
   "cell_type": "code",
   "execution_count": 2,
   "metadata": {
    "collapsed": false
   },
   "outputs": [
    {
     "name": "stdout",
     "output_type": "stream",
     "text": [
      "[[0.0, 0.0, 0.0, 0.0, 0.0, 0.0, 0.0, 0.0, 0.0, 0.0],\n",
      " [0.0, 0.0, 0.0, 0.0, 0.0, 0.0, 0.0, 0.0, 0.0, 0.0],\n",
      " [0.0, 0.0, 0.0, 0.0, 0.0, 0.0, 0.0, 0.0, 0.0, 0.0],\n",
      " [0.0, 0.0, 0.0, 0.0, 0.0, 0.0, 0.0, 0.0, 0.0, 0.0],\n",
      " [0.0, 0.0, 0.0, 0.0, 0.0, 0.0, 0.0, 0.0, 0.0, 0.0],\n",
      " [0.0, 0.0, 0.0, 0.0, 0.0, 0.0, 0.0, 0.0, 0.0, 0.0],\n",
      " [0.0, 0.0, 0.0, 0.0, 0.0, 0.0, 0.0, 0.0, 0.0, 0.0],\n",
      " [0.0, 0.0, 0.0, 0.0, 0.0, 0.0, 0.0, 0.0, 0.0, 0.0],\n",
      " [0.0, 0.0, 0.0, 0.0, 0.0, 0.0, 0.0, 0.0, 0.0, 0.0],\n",
      " [0.0, 0.0, 0.0, 0.0, 0.0, 0.0, 0.0, 0.0, 0.0, 0.0]]\n"
     ]
    }
   ],
   "source": [
    "A = matrix(10, 10)\n",
    "from pprint import pprint\n",
    "print(A)"
   ]
  },
  {
   "cell_type": "code",
   "execution_count": 4,
   "metadata": {
    "collapsed": false
   },
   "outputs": [
    {
     "name": "stdout",
     "output_type": "stream",
     "text": [
      "[[ 0.  0.  0.  0.  0.  0.  0.  0.  0.  0.]\n",
      " [ 0.  0.  0.  0.  0.  0.  0.  0.  0.  0.]\n",
      " [ 0.  0.  0.  0.  0.  0.  0.  0.  0.  0.]\n",
      " [ 0.  0.  0.  0.  0.  0.  0.  0.  0.  0.]\n",
      " [ 0.  0.  0.  0.  0.  0.  0.  0.  0.  0.]\n",
      " [ 0.  0.  0.  0.  0.  0.  0.  0.  0.  0.]\n",
      " [ 0.  0.  0.  0.  0.  0.  0.  0.  0.  0.]\n",
      " [ 0.  0.  0.  0.  0.  0.  0.  0.  0.  0.]\n",
      " [ 0.  0.  0.  0.  0.  0.  0.  0.  0.  0.]\n",
      " [ 0.  0.  0.  0.  0.  0.  0.  0.  0.  0.]]\n"
     ]
    }
   ],
   "source": [
    "import numpy as np\n",
    "B = np.zeros((10, 10))\n",
    "print(B)"
   ]
  },
  {
   "cell_type": "code",
   "execution_count": 8,
   "metadata": {
    "collapsed": false
   },
   "outputs": [
    {
     "name": "stdout",
     "output_type": "stream",
     "text": [
      "[[ 0.  0.  0.  0.  0.  0.  0.  0.  0.  0.]\n",
      " [ 0.  0.  0.  0.  0.  0.  0.  0.  0.  0.]\n",
      " [ 0.  0.  0.  0.  0.  0.  0.  0.  0.  0.]\n",
      " [ 0.  0.  0.  0.  0.  0.  0.  0.  0.  0.]\n",
      " [ 0.  0.  0.  0.  0.  0.  0.  0.  0.  0.]\n",
      " [ 0.  0.  0.  0.  0.  0.  0.  0.  0.  0.]\n",
      " [ 0.  0.  0.  0.  0.  0.  0.  0.  0.  0.]\n",
      " [ 0.  0.  0.  0.  0.  0.  0.  0.  0.  0.]\n",
      " [ 0.  0.  0.  0.  0.  0.  0.  0.  0.  0.]\n",
      " [ 0.  0.  0.  0.  0.  0.  0.  0.  0.  0.]]\n"
     ]
    }
   ],
   "source": [
    "C = np.array(A)\n",
    "print(C)"
   ]
  },
  {
   "cell_type": "code",
   "execution_count": 9,
   "metadata": {
    "collapsed": false
   },
   "outputs": [
    {
     "name": "stdout",
     "output_type": "stream",
     "text": [
      "[[ 1.  2.]\n",
      " [ 4.  5.]\n",
      " [ 6.  7.]]\n"
     ]
    }
   ],
   "source": [
    "D = np.array([[1., 2.], [4., 5.], [6., 7.]])\n",
    "print(D)"
   ]
  },
  {
   "cell_type": "code",
   "execution_count": 10,
   "metadata": {
    "collapsed": false
   },
   "outputs": [
    {
     "name": "stdout",
     "output_type": "stream",
     "text": [
      "1.0\n",
      "7.0\n"
     ]
    }
   ],
   "source": [
    "print(D[0, 0])\n",
    "print(D[2, 1])"
   ]
  },
  {
   "cell_type": "code",
   "execution_count": 11,
   "metadata": {
    "collapsed": false
   },
   "outputs": [
    {
     "name": "stdout",
     "output_type": "stream",
     "text": [
      "[ 1.  2.]\n"
     ]
    }
   ],
   "source": [
    "print(D[0])"
   ]
  },
  {
   "cell_type": "code",
   "execution_count": 12,
   "metadata": {
    "collapsed": false
   },
   "outputs": [
    {
     "name": "stdout",
     "output_type": "stream",
     "text": [
      "1.0\n"
     ]
    }
   ],
   "source": [
    "print(D[0][0])"
   ]
  },
  {
   "cell_type": "code",
   "execution_count": 13,
   "metadata": {
    "collapsed": false
   },
   "outputs": [
    {
     "name": "stdout",
     "output_type": "stream",
     "text": [
      "[ 1.  4.  6.]\n"
     ]
    }
   ],
   "source": [
    "print(D[:, 0])"
   ]
  },
  {
   "cell_type": "code",
   "execution_count": 14,
   "metadata": {
    "collapsed": false
   },
   "outputs": [
    {
     "name": "stdout",
     "output_type": "stream",
     "text": [
      "2 (3, 2)\n"
     ]
    }
   ],
   "source": [
    "print(D.ndim, D.shape)"
   ]
  },
  {
   "cell_type": "code",
   "execution_count": 15,
   "metadata": {
    "collapsed": false
   },
   "outputs": [
    {
     "name": "stdout",
     "output_type": "stream",
     "text": [
      "[[ 1. -3.]\n",
      " [ 4.  5.]\n",
      " [ 6.  7.]]\n"
     ]
    }
   ],
   "source": [
    "D[0, 1] = -3\n",
    "print(D)"
   ]
  },
  {
   "cell_type": "code",
   "execution_count": 16,
   "metadata": {
    "collapsed": false
   },
   "outputs": [
    {
     "name": "stdout",
     "output_type": "stream",
     "text": [
      "[[-6. -7.]\n",
      " [ 4.  5.]\n",
      " [ 6.  7.]]\n"
     ]
    }
   ],
   "source": [
    "D[0] = -D[2]\n",
    "print(D)"
   ]
  },
  {
   "cell_type": "code",
   "execution_count": 18,
   "metadata": {
    "collapsed": false
   },
   "outputs": [
    {
     "name": "stdout",
     "output_type": "stream",
     "text": [
      "[[-6. -7.]\n",
      " [ 4.  5.]\n",
      " [ 6.  7.]]\n"
     ]
    }
   ],
   "source": [
    "D = np.array([[1., 2.], [4., 5.], [6., 7.]])\n",
    "D[0, :] = -D[2, :]\n",
    "print(D)"
   ]
  },
  {
   "cell_type": "code",
   "execution_count": 19,
   "metadata": {
    "collapsed": false
   },
   "outputs": [
    {
     "name": "stdout",
     "output_type": "stream",
     "text": [
      "[[ 0. -7.]\n",
      " [ 4.  5.]\n",
      " [ 6.  7.]]\n",
      "[[ 0. -7.]\n",
      " [ 4.  5.]\n",
      " [ 6.  7.]]\n"
     ]
    }
   ],
   "source": [
    "E = D # referencje\n",
    "E[0, 0] = 0\n",
    "print(E)\n",
    "print(D)"
   ]
  },
  {
   "cell_type": "code",
   "execution_count": 20,
   "metadata": {
    "collapsed": false
   },
   "outputs": [
    {
     "name": "stdout",
     "output_type": "stream",
     "text": [
      "[[ 3. -7.]\n",
      " [ 4.  5.]\n",
      " [ 6.  7.]]\n",
      "[[ 3. -7.]\n",
      " [ 4.  5.]\n",
      " [ 6.  7.]]\n"
     ]
    }
   ],
   "source": [
    "F = D[:, :] # to tez!\n",
    "F[0, 0] = 3\n",
    "print(F)\n",
    "print(D)"
   ]
  },
  {
   "cell_type": "code",
   "execution_count": 21,
   "metadata": {
    "collapsed": false
   },
   "outputs": [
    {
     "name": "stdout",
     "output_type": "stream",
     "text": [
      "[[ 666.   -7.]\n",
      " [   4.    5.]\n",
      " [   6.    7.]]\n",
      "[[ 666.   -7.]\n",
      " [   4.    5.]\n",
      " [   6.    7.]]\n"
     ]
    }
   ],
   "source": [
    "F[:, :] = D # i to ...\n",
    "F[0, 0] = 666\n",
    "print(F)\n",
    "print(D)"
   ]
  },
  {
   "cell_type": "code",
   "execution_count": 22,
   "metadata": {
    "collapsed": false
   },
   "outputs": [
    {
     "name": "stdout",
     "output_type": "stream",
     "text": [
      "[[ 123.   -7.]\n",
      " [   4.    5.]\n",
      " [   6.    7.]]\n",
      "[[ 666.   -7.]\n",
      " [   4.    5.]\n",
      " [   6.    7.]]\n"
     ]
    }
   ],
   "source": [
    "F = np.array(D) # to jest ok\n",
    "F[0, 0] = 123\n",
    "print(F)\n",
    "print(D)"
   ]
  },
  {
   "cell_type": "code",
   "execution_count": 23,
   "metadata": {
    "collapsed": false
   },
   "outputs": [
    {
     "name": "stdout",
     "output_type": "stream",
     "text": [
      "[[ 11.  -7.]\n",
      " [  4.   5.]\n",
      " [  6.   7.]]\n",
      "[[ 666.   -7.]\n",
      " [   4.    5.]\n",
      " [   6.    7.]]\n"
     ]
    }
   ],
   "source": [
    "F = np.copy(D) # to tez\n",
    "F[0, 0] = 11\n",
    "print(F)\n",
    "print(D)"
   ]
  },
  {
   "cell_type": "code",
   "execution_count": 25,
   "metadata": {
    "collapsed": false
   },
   "outputs": [
    {
     "name": "stdout",
     "output_type": "stream",
     "text": [
      "[[ 0.  0.]\n",
      " [ 0.  0.]\n",
      " [ 0.  0.]]\n",
      "[[ 11.  -7.]\n",
      " [  4.   5.]\n",
      " [  6.   7.]]\n",
      "\n",
      "[[ 11.  -7.]\n",
      " [  0.   0.]\n",
      " [  0.   0.]]\n",
      "[[ 11.  -7.]\n",
      " [  4.   5.]\n",
      " [  6.   7.]]\n",
      "\n",
      "[[ 11.  -7.]\n",
      " [  0.   0.]\n",
      " [  0.   0.]]\n",
      "[[ 15.  -7.]\n",
      " [  4.   5.]\n",
      " [  6.   7.]]\n"
     ]
    }
   ],
   "source": [
    "G = np.zeros(F.shape)\n",
    "print(G)\n",
    "print(F)\n",
    "\n",
    "G[0] = F[0]\n",
    "print()\n",
    "print(G)\n",
    "print(F)\n",
    "\n",
    "F[0][0] = 15\n",
    "print()\n",
    "print(G)\n",
    "print(F)"
   ]
  },
  {
   "cell_type": "code",
   "execution_count": 40,
   "metadata": {
    "collapsed": false
   },
   "outputs": [
    {
     "name": "stdout",
     "output_type": "stream",
     "text": [
      "[[ 666.   -7.]\n",
      " [   4.    5.]\n",
      " [   6.    7.]]\n",
      "\n",
      "[[ 4.  5.]\n",
      " [ 6.  7.]]\n",
      "\n",
      "[-7.  5.  7.]\n",
      "\n",
      "[[ 0.  0.  0.  0.  0.  0.  0.  0.  0.  0.]\n",
      " [ 0.  0.  0.  0.  0.  0.  0.  0.  0.  0.]\n",
      " [ 0.  0.  0.  0.  0.  0.  0.  0.  0.  0.]]\n"
     ]
    }
   ],
   "source": [
    "print(D)\n",
    "print()\n",
    "print(D[1:3])\n",
    "print()\n",
    "print(D[:, -1])\n",
    "print()\n",
    "print(C[3:6])"
   ]
  },
  {
   "cell_type": "code",
   "execution_count": 41,
   "metadata": {
    "collapsed": false
   },
   "outputs": [
    {
     "name": "stdout",
     "output_type": "stream",
     "text": [
      "(100,) 1\n",
      "[ 0  1  2  3  4  5  6  7  8  9 10 11 12 13 14 15 16 17 18 19 20 21 22 23 24\n",
      " 25 26 27 28 29 30 31 32 33 34 35 36 37 38 39 40 41 42 43 44 45 46 47 48 49\n",
      " 50 51 52 53 54 55 56 57 58 59 60 61 62 63 64 65 66 67 68 69 70 71 72 73 74\n",
      " 75 76 77 78 79 80 81 82 83 84 85 86 87 88 89 90 91 92 93 94 95 96 97 98 99]\n"
     ]
    }
   ],
   "source": [
    "X = np.array(range(100))\n",
    "print(X.shape, X.ndim)\n",
    "print(X)"
   ]
  },
  {
   "cell_type": "code",
   "execution_count": 42,
   "metadata": {
    "collapsed": false
   },
   "outputs": [
    {
     "name": "stdout",
     "output_type": "stream",
     "text": [
      "[[ 0  1  2  3  4]\n",
      " [ 5  6  7  8  9]\n",
      " [10 11 12 13 14]\n",
      " [15 16 17 18 19]\n",
      " [20 21 22 23 24]\n",
      " [25 26 27 28 29]\n",
      " [30 31 32 33 34]\n",
      " [35 36 37 38 39]\n",
      " [40 41 42 43 44]\n",
      " [45 46 47 48 49]\n",
      " [50 51 52 53 54]\n",
      " [55 56 57 58 59]\n",
      " [60 61 62 63 64]\n",
      " [65 66 67 68 69]\n",
      " [70 71 72 73 74]\n",
      " [75 76 77 78 79]\n",
      " [80 81 82 83 84]\n",
      " [85 86 87 88 89]\n",
      " [90 91 92 93 94]\n",
      " [95 96 97 98 99]]\n"
     ]
    }
   ],
   "source": [
    "print(X.reshape(20, 5))"
   ]
  },
  {
   "cell_type": "code",
   "execution_count": 43,
   "metadata": {
    "collapsed": false
   },
   "outputs": [
    {
     "name": "stdout",
     "output_type": "stream",
     "text": [
      "[[ 0  1  2  3  4  5  6  7  8  9]\n",
      " [10 11 12 13 14 15 16 17 18 19]\n",
      " [20 21 22 23 24 25 26 27 28 29]\n",
      " [30 31 32 33 34 35 36 37 38 39]\n",
      " [40 41 42 43 44 45 46 47 48 49]\n",
      " [50 51 52 53 54 55 56 57 58 59]\n",
      " [60 61 62 63 64 65 66 67 68 69]\n",
      " [70 71 72 73 74 75 76 77 78 79]\n",
      " [80 81 82 83 84 85 86 87 88 89]\n",
      " [90 91 92 93 94 95 96 97 98 99]]\n"
     ]
    }
   ],
   "source": [
    "print(X.reshape(10, 10))"
   ]
  },
  {
   "cell_type": "code",
   "execution_count": 44,
   "metadata": {
    "collapsed": false
   },
   "outputs": [
    {
     "ename": "ValueError",
     "evalue": "total size of new array must be unchanged",
     "output_type": "error",
     "traceback": [
      "\u001b[0;31m---------------------------------------------------------------------------\u001b[0m",
      "\u001b[0;31mValueError\u001b[0m                                Traceback (most recent call last)",
      "\u001b[0;32m<ipython-input-44-b5f0d2f3d3ec>\u001b[0m in \u001b[0;36m<module>\u001b[0;34m()\u001b[0m\n\u001b[0;32m----> 1\u001b[0;31m \u001b[0mprint\u001b[0m\u001b[1;33m(\u001b[0m\u001b[0mX\u001b[0m\u001b[1;33m.\u001b[0m\u001b[0mreshape\u001b[0m\u001b[1;33m(\u001b[0m\u001b[1;36m13\u001b[0m\u001b[1;33m,\u001b[0m \u001b[1;36m3\u001b[0m\u001b[1;33m)\u001b[0m\u001b[1;33m)\u001b[0m\u001b[1;33m\u001b[0m\u001b[0m\n\u001b[0m",
      "\u001b[0;31mValueError\u001b[0m: total size of new array must be unchanged"
     ]
    }
   ],
   "source": [
    "print(X.reshape(13, 3))"
   ]
  },
  {
   "cell_type": "code",
   "execution_count": 45,
   "metadata": {
    "collapsed": false
   },
   "outputs": [
    {
     "name": "stdout",
     "output_type": "stream",
     "text": [
      "[[ 0  1  2  3  4  5  6  7  8  9 10 11 12 13 14 15 16 17 18 19]\n",
      " [20 21 22 23 24 25 26 27 28 29 30 31 32 33 34 35 36 37 38 39]\n",
      " [40 41 42 43 44 45 46 47 48 49 50 51 52 53 54 55 56 57 58 59]\n",
      " [60 61 62 63 64 65 66 67 68 69 70 71 72 73 74 75 76 77 78 79]\n",
      " [80 81 82 83 84 85 86 87 88 89 90 91 92 93 94 95 96 97 98 99]]\n"
     ]
    }
   ],
   "source": [
    "print(X.reshape(-1, 20))"
   ]
  },
  {
   "cell_type": "code",
   "execution_count": 46,
   "metadata": {
    "collapsed": false
   },
   "outputs": [
    {
     "ename": "ValueError",
     "evalue": "can only specify one unknown dimension",
     "output_type": "error",
     "traceback": [
      "\u001b[0;31m---------------------------------------------------------------------------\u001b[0m",
      "\u001b[0;31mValueError\u001b[0m                                Traceback (most recent call last)",
      "\u001b[0;32m<ipython-input-46-c91af4e810a3>\u001b[0m in \u001b[0;36m<module>\u001b[0;34m()\u001b[0m\n\u001b[0;32m----> 1\u001b[0;31m \u001b[0mprint\u001b[0m\u001b[1;33m(\u001b[0m\u001b[0mX\u001b[0m\u001b[1;33m.\u001b[0m\u001b[0mreshape\u001b[0m\u001b[1;33m(\u001b[0m\u001b[1;33m-\u001b[0m\u001b[1;36m1\u001b[0m\u001b[1;33m,\u001b[0m \u001b[1;33m-\u001b[0m\u001b[1;36m1\u001b[0m\u001b[1;33m)\u001b[0m\u001b[1;33m)\u001b[0m\u001b[1;33m\u001b[0m\u001b[0m\n\u001b[0m",
      "\u001b[0;31mValueError\u001b[0m: can only specify one unknown dimension"
     ]
    }
   ],
   "source": [
    "print(X.reshape(-1, -1))"
   ]
  },
  {
   "cell_type": "code",
   "execution_count": 54,
   "metadata": {
    "collapsed": false
   },
   "outputs": [
    {
     "name": "stdout",
     "output_type": "stream",
     "text": [
      "[[ 0  1  2  3  4  5  6  7  8  9]\n",
      " [10 11 12 13 14 15 16 17 18 19]\n",
      " [20 21 22 23 24 25 26 27 28 29]\n",
      " [30 31 32 33 34 35 36 37 38 39]\n",
      " [40 41 42 43 44 45 46 47 48 49]\n",
      " [50 51 52 53 54 55 56 57 58 59]\n",
      " [60 61 62 63 64 65 66 67 68 69]\n",
      " [70 71 72 73 74 75 76 77 78 79]\n",
      " [80 81 82 83 84 85 86 87 88 89]\n",
      " [90 91 92 93 94 95 96 97 98 99]]\n",
      "(10, 10) 2\n",
      "\n",
      "[[ 0  1  2  3  4  5  6  7  8  9 10 11 12 13 14 15 16 17 18 19 20 21 22 23\n",
      "  24 25 26 27 28 29 30 31 32 33 34 35 36 37 38 39 40 41 42 43 44 45 46 47\n",
      "  48 49 50 51 52 53 54 55 56 57 58 59 60 61 62 63 64 65 66 67 68 69 70 71\n",
      "  72 73 74 75 76 77 78 79 80 81 82 83 84 85 86 87 88 89 90 91 92 93 94 95\n",
      "  96 97 98 99]]\n",
      "\n",
      "(1, 100) 2\n"
     ]
    }
   ],
   "source": [
    "Y = X.reshape(10, 10)\n",
    "print(Y)\n",
    "print(Y.shape, Y.ndim)\n",
    "print()\n",
    "print(Y.reshape(1, -1))\n",
    "print()\n",
    "print(Y.reshape(1, -1).shape, Y.reshape(1, -1).ndim)"
   ]
  },
  {
   "cell_type": "code",
   "execution_count": 52,
   "metadata": {
    "collapsed": false
   },
   "outputs": [
    {
     "name": "stdout",
     "output_type": "stream",
     "text": [
      "[ 0  1  2  3  4  5  6  7  8  9 10 11 12 13 14 15 16 17 18 19 20 21 22 23 24\n",
      " 25 26 27 28 29 30 31 32 33 34 35 36 37 38 39 40 41 42 43 44 45 46 47 48 49\n",
      " 50 51 52 53 54 55 56 57 58 59 60 61 62 63 64 65 66 67 68 69 70 71 72 73 74\n",
      " 75 76 77 78 79 80 81 82 83 84 85 86 87 88 89 90 91 92 93 94 95 96 97 98 99]\n",
      "(100,) 1\n"
     ]
    }
   ],
   "source": [
    "print(Y.ravel())\n",
    "print(Y.ravel().shape, Y.ravel().ndim)"
   ]
  },
  {
   "cell_type": "code",
   "execution_count": 55,
   "metadata": {
    "collapsed": false
   },
   "outputs": [
    {
     "name": "stdout",
     "output_type": "stream",
     "text": [
      "[[61 62 63]\n",
      " [71 72 73]\n",
      " [81 82 83]\n",
      " [91 92 93]]\n"
     ]
    }
   ],
   "source": [
    "Z = Y[6:10, 1:4]\n",
    "print(Z)"
   ]
  },
  {
   "cell_type": "code",
   "execution_count": 56,
   "metadata": {
    "collapsed": false
   },
   "outputs": [
    {
     "name": "stdout",
     "output_type": "stream",
     "text": [
      "[[122 124 126]\n",
      " [142 144 146]\n",
      " [162 164 166]\n",
      " [182 184 186]]\n",
      "[[63 64 65]\n",
      " [73 74 75]\n",
      " [83 84 85]\n",
      " [93 94 95]]\n",
      "[[122 124 126]\n",
      " [142 144 146]\n",
      " [162 164 166]\n",
      " [182 184 186]]\n",
      "[[ 0.03278689  0.03225806  0.03174603]\n",
      " [ 0.02816901  0.02777778  0.02739726]\n",
      " [ 0.02469136  0.02439024  0.02409639]\n",
      " [ 0.02197802  0.02173913  0.02150538]]\n",
      "[[ 30.5  31.   31.5]\n",
      " [ 35.5  36.   36.5]\n",
      " [ 40.5  41.   41.5]\n",
      " [ 45.5  46.   46.5]]\n",
      "[[-61 -62 -63]\n",
      " [-71 -72 -73]\n",
      " [-81 -82 -83]\n",
      " [-91 -92 -93]]\n",
      "[[3721 3844 3969]\n",
      " [5041 5184 5329]\n",
      " [6561 6724 6889]\n",
      " [8281 8464 8649]]\n",
      "[[ 7.81024968  7.87400787  7.93725393]\n",
      " [ 8.42614977  8.48528137  8.54400375]\n",
      " [ 9.          9.05538514  9.11043358]\n",
      " [ 9.53939201  9.59166305  9.64365076]]\n"
     ]
    }
   ],
   "source": [
    "print(Z + Z)\n",
    "print(2 + Z)\n",
    "print(2 * Z)\n",
    "print(2./ Z)\n",
    "print(Z / 2)\n",
    "print(-Z)\n",
    "print(Z ** 2)\n",
    "print(np.sqrt(Z))"
   ]
  },
  {
   "cell_type": "code",
   "execution_count": 57,
   "metadata": {
    "collapsed": false
   },
   "outputs": [
    {
     "name": "stdout",
     "output_type": "stream",
     "text": [
      "[[0 1]\n",
      " [2 3]\n",
      " [4 5]]\n",
      "[[ 0  1]\n",
      " [ 4  9]\n",
      " [16 25]]\n"
     ]
    }
   ],
   "source": [
    "Z = np.array(range(6)).reshape(3, 2)\n",
    "print(Z)\n",
    "\n",
    "print(Z * Z)\n"
   ]
  },
  {
   "cell_type": "code",
   "execution_count": 58,
   "metadata": {
    "collapsed": false
   },
   "outputs": [
    {
     "ename": "ValueError",
     "evalue": "shapes (3,2) and (3,2) not aligned: 2 (dim 1) != 3 (dim 0)",
     "output_type": "error",
     "traceback": [
      "\u001b[0;31m---------------------------------------------------------------------------\u001b[0m",
      "\u001b[0;31mValueError\u001b[0m                                Traceback (most recent call last)",
      "\u001b[0;32m<ipython-input-58-a3c2dc97212e>\u001b[0m in \u001b[0;36m<module>\u001b[0;34m()\u001b[0m\n\u001b[0;32m----> 1\u001b[0;31m \u001b[0mprint\u001b[0m\u001b[1;33m(\u001b[0m\u001b[0mZ\u001b[0m\u001b[1;33m.\u001b[0m\u001b[0mdot\u001b[0m\u001b[1;33m(\u001b[0m\u001b[0mZ\u001b[0m\u001b[1;33m)\u001b[0m\u001b[1;33m)\u001b[0m\u001b[1;33m\u001b[0m\u001b[0m\n\u001b[0m",
      "\u001b[0;31mValueError\u001b[0m: shapes (3,2) and (3,2) not aligned: 2 (dim 1) != 3 (dim 0)"
     ]
    }
   ],
   "source": [
    "print(Z.dot(Z))"
   ]
  },
  {
   "cell_type": "code",
   "execution_count": 59,
   "metadata": {
    "collapsed": false
   },
   "outputs": [
    {
     "name": "stdout",
     "output_type": "stream",
     "text": [
      "[[ 1  3  5]\n",
      " [ 3 13 23]\n",
      " [ 5 23 41]]\n"
     ]
    }
   ],
   "source": [
    "print(Z.dot(Z.T))"
   ]
  },
  {
   "cell_type": "code",
   "execution_count": 60,
   "metadata": {
    "collapsed": false
   },
   "outputs": [
    {
     "name": "stdout",
     "output_type": "stream",
     "text": [
      "15 0 5 2.5\n"
     ]
    }
   ],
   "source": [
    "print(Z.sum(), Z.min(), Z.max(), Z.mean())"
   ]
  },
  {
   "cell_type": "code",
   "execution_count": 61,
   "metadata": {
    "collapsed": false
   },
   "outputs": [
    {
     "name": "stdout",
     "output_type": "stream",
     "text": [
      "[[ 1  3  5]\n",
      " [ 3 13 23]\n",
      " [ 5 23 41]]\n"
     ]
    }
   ],
   "source": [
    "B = np.mat(Z) # B = np.matrix(Z)\n",
    "print(B * B.T)"
   ]
  },
  {
   "cell_type": "code",
   "execution_count": 62,
   "metadata": {
    "collapsed": false
   },
   "outputs": [
    {
     "name": "stdout",
     "output_type": "stream",
     "text": [
      "[0 1] 1\n",
      "[2 3] 1\n",
      "\n",
      "3\n",
      "[[0 0]\n",
      " [2 3]]\n",
      "\n",
      "[[3]]\n",
      "[[0 0]\n",
      " [2 3]]\n"
     ]
    }
   ],
   "source": [
    "print(Z[0], Z[0].ndim)\n",
    "print(Z[1], Z[0].ndim)\n",
    "print()\n",
    "print(Z[0].dot(Z[1]))\n",
    "print(np.outer(Z[0], Z[1]))\n",
    "print()\n",
    "print(np.mat(Z[0]) * np.mat(Z[1]).T)\n",
    "print(np.mat(Z[0]).T * np.mat(Z[1]))"
   ]
  },
  {
   "cell_type": "code",
   "execution_count": 65,
   "metadata": {
    "collapsed": false
   },
   "outputs": [
    {
     "name": "stdout",
     "output_type": "stream",
     "text": [
      "[[0 1]\n",
      " [2 3]\n",
      " [4 5]]\n",
      "\n",
      "[2 3]\n",
      "\n",
      "[[2 4]\n",
      " [4 6]\n",
      " [6 8]]\n"
     ]
    }
   ],
   "source": [
    "print(Z)\n",
    "print()\n",
    "print(Z[1])\n",
    "print()\n",
    "print(Z + Z[1])"
   ]
  },
  {
   "cell_type": "code",
   "execution_count": 66,
   "metadata": {
    "collapsed": false
   },
   "outputs": [
    {
     "ename": "ValueError",
     "evalue": "operands could not be broadcast together with shapes (3,2) (3,) ",
     "output_type": "error",
     "traceback": [
      "\u001b[0;31m---------------------------------------------------------------------------\u001b[0m",
      "\u001b[0;31mValueError\u001b[0m                                Traceback (most recent call last)",
      "\u001b[0;32m<ipython-input-66-e2dd4b75afae>\u001b[0m in \u001b[0;36m<module>\u001b[0;34m()\u001b[0m\n\u001b[0;32m----> 1\u001b[0;31m \u001b[0mprint\u001b[0m\u001b[1;33m(\u001b[0m\u001b[0mZ\u001b[0m \u001b[1;33m+\u001b[0m \u001b[0mZ\u001b[0m\u001b[1;33m[\u001b[0m\u001b[1;33m:\u001b[0m\u001b[1;33m,\u001b[0m \u001b[1;36m0\u001b[0m\u001b[1;33m]\u001b[0m\u001b[1;33m)\u001b[0m\u001b[1;33m\u001b[0m\u001b[0m\n\u001b[0m",
      "\u001b[0;31mValueError\u001b[0m: operands could not be broadcast together with shapes (3,2) (3,) "
     ]
    }
   ],
   "source": [
    "print(Z + Z[:, 0])"
   ]
  },
  {
   "cell_type": "code",
   "execution_count": 74,
   "metadata": {
    "collapsed": false
   },
   "outputs": [
    {
     "name": "stdout",
     "output_type": "stream",
     "text": [
      "[0 2 4]\n"
     ]
    }
   ],
   "source": [
    "print(Z[:, 0])"
   ]
  },
  {
   "cell_type": "code",
   "execution_count": 75,
   "metadata": {
    "collapsed": false
   },
   "outputs": [
    {
     "name": "stdout",
     "output_type": "stream",
     "text": [
      "[[0 2 4]]\n",
      "\n",
      "[[0]\n",
      " [2]\n",
      " [4]]\n",
      "\n",
      "[[0]\n",
      " [2]\n",
      " [4]]\n"
     ]
    }
   ],
   "source": [
    "print(Z[np.newaxis, :, 0])\n",
    "print()\n",
    "print(Z[:, 0, np.newaxis])\n",
    "print()\n",
    "print(Z[:, 0][:, np.newaxis])"
   ]
  },
  {
   "cell_type": "code",
   "execution_count": 76,
   "metadata": {
    "collapsed": false
   },
   "outputs": [
    {
     "name": "stdout",
     "output_type": "stream",
     "text": [
      "[[0 1]\n",
      " [2 3]\n",
      " [4 5]]\n",
      "\n",
      "[[0 1]\n",
      " [4 5]\n",
      " [8 9]]\n"
     ]
    }
   ],
   "source": [
    "print(Z)\n",
    "print()\n",
    "print(Z + Z[:, 0, np.newaxis])"
   ]
  },
  {
   "cell_type": "code",
   "execution_count": 77,
   "metadata": {
    "collapsed": false
   },
   "outputs": [
    {
     "name": "stdout",
     "output_type": "stream",
     "text": [
      "[[0 1 0 1]\n",
      " [2 3 2 3]\n",
      " [4 5 4 5]]\n",
      "[[0 1 0 1]\n",
      " [2 3 2 3]\n",
      " [4 5 4 5]]\n",
      "\n",
      "[[0 1]\n",
      " [2 3]\n",
      " [4 5]\n",
      " [0 1]\n",
      " [2 3]\n",
      " [4 5]]\n",
      "[[0 1]\n",
      " [2 3]\n",
      " [4 5]\n",
      " [0 1]\n",
      " [2 3]\n",
      " [4 5]]\n"
     ]
    }
   ],
   "source": [
    "print(np.hstack((Z, Z)))\n",
    "print(np.concatenate((Z, Z), axis=1))\n",
    "print()\n",
    "print(np.vstack((Z, Z)))\n",
    "print(np.concatenate((Z, Z), axis=0))"
   ]
  },
  {
   "cell_type": "code",
   "execution_count": 78,
   "metadata": {
    "collapsed": false
   },
   "outputs": [
    {
     "name": "stdout",
     "output_type": "stream",
     "text": [
      "[0 1] (2,)\n",
      "[2 3] (2,)\n",
      "[4 5] (2,)\n",
      "[0 2 4] (3,)\n",
      "[1 3 5] (3,)\n"
     ]
    }
   ],
   "source": [
    "for row in Z:\n",
    "    print(row, row.shape)\n",
    "    \n",
    "for col in Z.T:\n",
    "    print(col, col.shape)\n",
    "    "
   ]
  },
  {
   "cell_type": "code",
   "execution_count": 79,
   "metadata": {
    "collapsed": false
   },
   "outputs": [
    {
     "name": "stdout",
     "output_type": "stream",
     "text": [
      "['T', '__abs__', '__add__', '__and__', '__array__', '__array_finalize__', '__array_interface__', '__array_prepare__', '__array_priority__', '__array_struct__', '__array_wrap__', '__bool__', '__class__', '__contains__', '__copy__', '__deepcopy__', '__delattr__', '__delitem__', '__dir__', '__divmod__', '__doc__', '__eq__', '__float__', '__floordiv__', '__format__', '__ge__', '__getattribute__', '__getitem__', '__gt__', '__hash__', '__iadd__', '__iand__', '__ifloordiv__', '__ilshift__', '__imod__', '__imul__', '__index__', '__init__', '__int__', '__invert__', '__ior__', '__ipow__', '__irshift__', '__isub__', '__iter__', '__itruediv__', '__ixor__', '__le__', '__len__', '__lshift__', '__lt__', '__mod__', '__mul__', '__ne__', '__neg__', '__new__', '__or__', '__pos__', '__pow__', '__radd__', '__rand__', '__rdivmod__', '__reduce__', '__reduce_ex__', '__repr__', '__rfloordiv__', '__rlshift__', '__rmod__', '__rmul__', '__ror__', '__rpow__', '__rrshift__', '__rshift__', '__rsub__', '__rtruediv__', '__rxor__', '__setattr__', '__setitem__', '__setstate__', '__sizeof__', '__str__', '__sub__', '__subclasshook__', '__truediv__', '__xor__', 'all', 'any', 'argmax', 'argmin', 'argpartition', 'argsort', 'astype', 'base', 'byteswap', 'choose', 'clip', 'compress', 'conj', 'conjugate', 'copy', 'ctypes', 'cumprod', 'cumsum', 'data', 'diagonal', 'dot', 'dtype', 'dump', 'dumps', 'fill', 'flags', 'flat', 'flatten', 'getfield', 'imag', 'item', 'itemset', 'itemsize', 'max', 'mean', 'min', 'nbytes', 'ndim', 'newbyteorder', 'nonzero', 'partition', 'prod', 'ptp', 'put', 'ravel', 'real', 'repeat', 'reshape', 'resize', 'round', 'searchsorted', 'setfield', 'setflags', 'shape', 'size', 'sort', 'squeeze', 'std', 'strides', 'sum', 'swapaxes', 'take', 'tobytes', 'tofile', 'tolist', 'tostring', 'trace', 'transpose', 'var', 'view']\n"
     ]
    }
   ],
   "source": [
    "print(dir(Z))"
   ]
  },
  {
   "cell_type": "code",
   "execution_count": 80,
   "metadata": {
    "collapsed": false
   },
   "outputs": [
    {
     "name": "stdout",
     "output_type": "stream",
     "text": [
      "[[0 1]\n",
      " [2 3]\n",
      " [4 5]]\n",
      "1.70782512766 2.91666666667 0 3\n",
      "5\n",
      "5\n"
     ]
    }
   ],
   "source": [
    "print(Z)\n",
    "print(Z.std(), Z.var(), Z.prod(), Z.trace())\n",
    "print(Z.argmax())\n",
    "print(Z.item(Z.argmax()))"
   ]
  },
  {
   "cell_type": "code",
   "execution_count": 81,
   "metadata": {
    "collapsed": false
   },
   "outputs": [
    {
     "name": "stdout",
     "output_type": "stream",
     "text": [
      "[0 1 2 3 4 5]\n",
      "[0 1 2 3 4 5]\n"
     ]
    }
   ],
   "source": [
    "print(Z.ravel())\n",
    "print(Z.flatten())"
   ]
  },
  {
   "cell_type": "code",
   "execution_count": 82,
   "metadata": {
    "collapsed": false
   },
   "outputs": [
    {
     "name": "stdout",
     "output_type": "stream",
     "text": [
      "[[-1  1]\n",
      " [ 2  3]\n",
      " [ 4  5]]\n",
      "[[-1  1]\n",
      " [ 2  3]\n",
      " [ 4  5]]\n"
     ]
    }
   ],
   "source": [
    "Z.ravel()[0] = -1\n",
    "print(Z)\n",
    "Z.flatten()[0] = 12\n",
    "print(Z)"
   ]
  },
  {
   "cell_type": "markdown",
   "metadata": {},
   "source": [
    "### OK, ale po co?"
   ]
  },
  {
   "cell_type": "code",
   "execution_count": 83,
   "metadata": {
    "collapsed": false
   },
   "outputs": [],
   "source": [
    "a = np.arange(100)\n",
    "b = range(100)"
   ]
  },
  {
   "cell_type": "code",
   "execution_count": 84,
   "metadata": {
    "collapsed": false
   },
   "outputs": [
    {
     "ename": "AttributeError",
     "evalue": "'numpy.ndarray' object has no attribute 'append'",
     "output_type": "error",
     "traceback": [
      "\u001b[0;31m---------------------------------------------------------------------------\u001b[0m",
      "\u001b[0;31mAttributeError\u001b[0m                            Traceback (most recent call last)",
      "\u001b[0;32m<ipython-input-84-68a7f1a429ee>\u001b[0m in \u001b[0;36m<module>\u001b[0;34m()\u001b[0m\n\u001b[0;32m----> 1\u001b[0;31m \u001b[0ma\u001b[0m\u001b[1;33m.\u001b[0m\u001b[0mappend\u001b[0m\u001b[1;33m(\u001b[0m\u001b[1;36m1\u001b[0m\u001b[1;33m)\u001b[0m\u001b[1;33m\u001b[0m\u001b[0m\n\u001b[0m",
      "\u001b[0;31mAttributeError\u001b[0m: 'numpy.ndarray' object has no attribute 'append'"
     ]
    }
   ],
   "source": [
    "a.append(1)"
   ]
  },
  {
   "cell_type": "code",
   "execution_count": 85,
   "metadata": {
    "collapsed": false
   },
   "outputs": [
    {
     "name": "stdout",
     "output_type": "stream",
     "text": [
      "0.12235791661805706\n",
      "4.75218016279041\n"
     ]
    }
   ],
   "source": [
    "from timeit import timeit\n",
    "\n",
    "print(timeit('np.arange(100000).sum()', setup='import numpy as np', number=1000))\n",
    "print(timeit('sum(range(100000))', number=1000))"
   ]
  },
  {
   "cell_type": "code",
   "execution_count": null,
   "metadata": {
    "collapsed": false
   },
   "outputs": [],
   "source": [
    "from itertools import imap,starmap,izip\n",
    "from operator import mul\n",
    "\n",
    "def d0(v1,v2):\n",
    "    \"\"\"                                                                                                     \n",
    "    d0 is Nominal approach:                                                                                 \n",
    "    multiply/add in a loop                                                                                  \n",
    "    \"\"\"\n",
    "    out = 0\n",
    "    for k in range(len(v1)):\n",
    "        out += v1[k] * v2[k]\n",
    "    return out\n",
    "\n",
    "def d1(v1,v2):\n",
    "    \"\"\"                                                                                                     \n",
    "    d1 uses an imap (from itertools)                                                                        \n",
    "    \"\"\"\n",
    "    return sum(imap(mul,v1,v2))\n",
    "\n",
    "def d2(v1,v2):\n",
    "    \"\"\"                                                                                                     \n",
    "    d2 uses a conventional map                                                                              \n",
    "    \"\"\"\n",
    "    return sum(map(mul,v1,v2))\n",
    "\n",
    "def d3(v1,v2):\n",
    "    \"\"\"                                                                                                     \n",
    "    d3 uses a starmap (itertools) to apply the mul operator on an izipped (v1,v2)                           \n",
    "    \"\"\"\n",
    "    return sum(starmap(mul,izip(v1,v2)))\n",
    "\n",
    "def d4(v1,v2):\n",
    "    return np.dot(v1, v2)"
   ]
  },
  {
   "cell_type": "raw",
   "metadata": {},
   "source": [
    "d0 elapsed:  12.1977242918\n",
    "d1 elapsed:  13.885232341\n",
    "d2 elapsed:  13.7929552499\n",
    "d3 elapsed:  11.0952246724\n",
    "d4 elapsed:  3.22535741274"
   ]
  },
  {
   "cell_type": "markdown",
   "metadata": {},
   "source": [
    "### Bardziej zaawansowane użycie"
   ]
  },
  {
   "cell_type": "code",
   "execution_count": 87,
   "metadata": {
    "collapsed": false
   },
   "outputs": [
    {
     "name": "stdout",
     "output_type": "stream",
     "text": [
      "[[-1  1]\n",
      " [ 2  3]\n",
      " [ 4  5]]\n",
      "[[False False]\n",
      " [False False]\n",
      " [False False]]\n"
     ]
    }
   ],
   "source": [
    "print(Z)\n",
    "print(Z > 72)"
   ]
  },
  {
   "cell_type": "code",
   "execution_count": 88,
   "metadata": {
    "collapsed": false
   },
   "outputs": [
    {
     "name": "stdout",
     "output_type": "stream",
     "text": [
      "[]\n"
     ]
    }
   ],
   "source": [
    "print(Z[Z > 72])"
   ]
  },
  {
   "cell_type": "code",
   "execution_count": 89,
   "metadata": {
    "collapsed": false
   },
   "outputs": [
    {
     "ename": "ValueError",
     "evalue": "NumPy boolean array indexing assignment cannot assign 7 input values to the 0 output values where the mask is true",
     "output_type": "error",
     "traceback": [
      "\u001b[0;31m---------------------------------------------------------------------------\u001b[0m",
      "\u001b[0;31mValueError\u001b[0m                                Traceback (most recent call last)",
      "\u001b[0;32m<ipython-input-89-cd1c6220a5df>\u001b[0m in \u001b[0;36m<module>\u001b[0;34m()\u001b[0m\n\u001b[0;32m----> 1\u001b[0;31m \u001b[0mZ\u001b[0m\u001b[1;33m[\u001b[0m\u001b[0mZ\u001b[0m \u001b[1;33m>\u001b[0m \u001b[1;36m72\u001b[0m\u001b[1;33m]\u001b[0m \u001b[1;33m=\u001b[0m \u001b[0mnp\u001b[0m\u001b[1;33m.\u001b[0m\u001b[0marray\u001b[0m\u001b[1;33m(\u001b[0m\u001b[0mrange\u001b[0m\u001b[1;33m(\u001b[0m\u001b[1;36m7\u001b[0m\u001b[1;33m)\u001b[0m\u001b[1;33m)\u001b[0m\u001b[1;33m\u001b[0m\u001b[0m\n\u001b[0m\u001b[1;32m      2\u001b[0m \u001b[0mprint\u001b[0m\u001b[1;33m(\u001b[0m\u001b[0mZ\u001b[0m\u001b[1;33m)\u001b[0m\u001b[1;33m\u001b[0m\u001b[0m\n",
      "\u001b[0;31mValueError\u001b[0m: NumPy boolean array indexing assignment cannot assign 7 input values to the 0 output values where the mask is true"
     ]
    }
   ],
   "source": [
    "Z[Z > 72] = np.array(range(7))\n",
    "print(Z)"
   ]
  },
  {
   "cell_type": "code",
   "execution_count": 90,
   "metadata": {
    "collapsed": false
   },
   "outputs": [
    {
     "name": "stdout",
     "output_type": "stream",
     "text": [
      "3\n",
      "3\n",
      "3\n"
     ]
    }
   ],
   "source": [
    "print(Z[(1, 1)])\n",
    "print(Z[1, 1])\n",
    "print(Z[1][1])"
   ]
  },
  {
   "cell_type": "code",
   "execution_count": 91,
   "metadata": {
    "collapsed": false
   },
   "outputs": [
    {
     "name": "stdout",
     "output_type": "stream",
     "text": [
      "[[-1  1]\n",
      " [ 2  3]\n",
      " [ 4  5]]\n",
      "False\n",
      "True\n"
     ]
    }
   ],
   "source": [
    "print(Z)\n",
    "print(np.all(Z > -1))\n",
    "print(np.any(Z > 0))"
   ]
  },
  {
   "cell_type": "code",
   "execution_count": 92,
   "metadata": {
    "collapsed": false
   },
   "outputs": [
    {
     "name": "stdout",
     "output_type": "stream",
     "text": [
      "[[ 1 -1  0]]\n"
     ]
    }
   ],
   "source": [
    "X = np.matrix([[1, -1, 0]])\n",
    "print(X)"
   ]
  },
  {
   "cell_type": "code",
   "execution_count": 93,
   "metadata": {
    "collapsed": false
   },
   "outputs": [
    {
     "name": "stdout",
     "output_type": "stream",
     "text": [
      "[[ inf -inf  nan]]\n",
      "[[-inf  inf  nan]]\n"
     ]
    },
    {
     "name": "stderr",
     "output_type": "stream",
     "text": [
      "C:\\Python34\\lib\\site-packages\\ipykernel\\__main__.py:1: RuntimeWarning: divide by zero encountered in true_divide\n",
      "  if __name__ == '__main__':\n",
      "C:\\Python34\\lib\\site-packages\\ipykernel\\__main__.py:1: RuntimeWarning: invalid value encountered in true_divide\n",
      "  if __name__ == '__main__':\n",
      "C:\\Python34\\lib\\site-packages\\ipykernel\\__main__.py:2: RuntimeWarning: divide by zero encountered in true_divide\n",
      "  from ipykernel import kernelapp as app\n",
      "C:\\Python34\\lib\\site-packages\\ipykernel\\__main__.py:2: RuntimeWarning: invalid value encountered in true_divide\n",
      "  from ipykernel import kernelapp as app\n"
     ]
    }
   ],
   "source": [
    "print(X / 0.)\n",
    "print(X / 0. * -1)"
   ]
  },
  {
   "cell_type": "code",
   "execution_count": 97,
   "metadata": {
    "collapsed": false
   },
   "outputs": [
    {
     "name": "stdout",
     "output_type": "stream",
     "text": [
      "[[ inf -inf  nan]]\n",
      "[[ 10000.    -inf     nan]]\n",
      "[[ 10000. -10000.     nan]]\n",
      "[[ 10000. -10000.     nan]]\n"
     ]
    },
    {
     "name": "stderr",
     "output_type": "stream",
     "text": [
      "C:\\Python34\\lib\\site-packages\\ipykernel\\__main__.py:1: RuntimeWarning: divide by zero encountered in true_divide\n",
      "  if __name__ == '__main__':\n",
      "C:\\Python34\\lib\\site-packages\\ipykernel\\__main__.py:1: RuntimeWarning: invalid value encountered in true_divide\n",
      "  if __name__ == '__main__':\n"
     ]
    }
   ],
   "source": [
    "Y =  X / 0.\n",
    "print(Y)\n",
    "Y[Y == np.inf] = 10000\n",
    "print(Y)\n",
    "Y[Y == -np.inf] = -10000\n",
    "print(Y)\n",
    "Y[Y == np.NaN] = 0\n",
    "print(Y)"
   ]
  },
  {
   "cell_type": "code",
   "execution_count": 98,
   "metadata": {
    "collapsed": false
   },
   "outputs": [
    {
     "name": "stdout",
     "output_type": "stream",
     "text": [
      "[[ inf -inf  nan]]\n",
      "[[ 10000. -10000.      0.]]\n"
     ]
    },
    {
     "name": "stderr",
     "output_type": "stream",
     "text": [
      "C:\\Python34\\lib\\site-packages\\ipykernel\\__main__.py:1: RuntimeWarning: divide by zero encountered in true_divide\n",
      "  if __name__ == '__main__':\n",
      "C:\\Python34\\lib\\site-packages\\ipykernel\\__main__.py:1: RuntimeWarning: invalid value encountered in true_divide\n",
      "  if __name__ == '__main__':\n"
     ]
    }
   ],
   "source": [
    "Y =  X / 0.\n",
    "print(Y)\n",
    "Y[Y == np.inf] = 10000\n",
    "Y[Y == -np.inf] = -10000\n",
    "# Y[Y is np.NaN] = 0 # To zamieni cala macierz na 0, poniewaz Y is np.NaN zwraca False\n",
    "Y[np.isnan(Y)] = 0 # poprawne usuniecie nanow\n",
    "print(Y)"
   ]
  },
  {
   "cell_type": "code",
   "execution_count": 99,
   "metadata": {
    "collapsed": false
   },
   "outputs": [
    {
     "name": "stdout",
     "output_type": "stream",
     "text": [
      "False\n",
      "True\n",
      "\n",
      "True\n",
      "True\n"
     ]
    }
   ],
   "source": [
    "print(np.NaN == np.NaN)\n",
    "print(np.NaN is np.NaN)\n",
    "print()\n",
    "print(None == None)\n",
    "print(None is None)"
   ]
  },
  {
   "cell_type": "code",
   "execution_count": 100,
   "metadata": {
    "collapsed": false
   },
   "outputs": [
    {
     "name": "stdout",
     "output_type": "stream",
     "text": [
      "float64\n",
      "[[ 10000. -10000.      0.]]\n",
      "\n",
      "int64\n",
      "[[10600 -9400   600]]\n",
      "\n",
      "int8\n",
      "[[104  72  88]]\n",
      "\n",
      "float64\n",
      "[[ 104.5   72.5   88.5]]\n"
     ]
    }
   ],
   "source": [
    "print(Y.dtype)\n",
    "print(Y)\n",
    "Z = Y.astype(np.int64) + 600\n",
    "print()\n",
    "print(Z.dtype)\n",
    "print(Z)\n",
    "Z = Z.astype(np.int8) \n",
    "print()\n",
    "print(Z.dtype)\n",
    "print(Z)\n",
    "Z = Z + 0.5\n",
    "print()\n",
    "print(Z.dtype)\n",
    "print(Z)"
   ]
  },
  {
   "cell_type": "code",
   "execution_count": 101,
   "metadata": {
    "collapsed": false
   },
   "outputs": [
    {
     "name": "stdout",
     "output_type": "stream",
     "text": [
      "[[ 104.5   72.5   88.5]]\n",
      "(24, 8)\n",
      "\n",
      "[[104  72  88]]\n",
      "(3, 1)\n",
      "\n",
      "[[ 104.5   72.5   88.5]]\n",
      "(8, 24)\n"
     ]
    }
   ],
   "source": [
    "print(Z)\n",
    "print(Z.strides)\n",
    "print()\n",
    "print(Z.astype(np.int8))\n",
    "print(Z.astype(np.int8).strides)\n",
    "print()\n",
    "print(Z)\n",
    "print(Z.T.strides)"
   ]
  },
  {
   "cell_type": "code",
   "execution_count": 102,
   "metadata": {
    "collapsed": false
   },
   "outputs": [
    {
     "ename": "TypeError",
     "evalue": "ufunc 'bitwise_and' not supported for the input types, and the inputs could not be safely coerced to any supported types according to the casting rule ''safe''",
     "output_type": "error",
     "traceback": [
      "\u001b[0;31m---------------------------------------------------------------------------\u001b[0m",
      "\u001b[0;31mTypeError\u001b[0m                                 Traceback (most recent call last)",
      "\u001b[0;32m<ipython-input-102-6bdef5399332>\u001b[0m in \u001b[0;36m<module>\u001b[0;34m()\u001b[0m\n\u001b[0;32m----> 1\u001b[0;31m \u001b[0mprint\u001b[0m\u001b[1;33m(\u001b[0m\u001b[0mZ\u001b[0m \u001b[1;33m&\u001b[0m \u001b[0mZ\u001b[0m\u001b[1;33m)\u001b[0m\u001b[1;33m\u001b[0m\u001b[0m\n\u001b[0m",
      "\u001b[0;31mTypeError\u001b[0m: ufunc 'bitwise_and' not supported for the input types, and the inputs could not be safely coerced to any supported types according to the casting rule ''safe''"
     ]
    }
   ],
   "source": [
    "print(Z & Z)"
   ]
  },
  {
   "cell_type": "code",
   "execution_count": 103,
   "metadata": {
    "collapsed": false
   },
   "outputs": [
    {
     "name": "stdout",
     "output_type": "stream",
     "text": [
      "[[104  72  88]] [[114  82  98]]\n",
      "[[96 64 64]] [[26 26 58]]\n",
      "\n",
      "[[ True  True  True]] [[False False False]]\n",
      "[[ True  True  True]]\n"
     ]
    },
    {
     "name": "stderr",
     "output_type": "stream",
     "text": [
      "C:\\Python34\\lib\\site-packages\\ipykernel\\__main__.py:7: DeprecationWarning: numpy boolean negative, the `-` operator, is deprecated, use the `~` operator or the logical_not function instead.\n",
      "C:\\Python34\\lib\\site-packages\\ipykernel\\__main__.py:8: DeprecationWarning: numpy boolean negative, the `-` operator, is deprecated, use the `~` operator or the logical_not function instead.\n"
     ]
    }
   ],
   "source": [
    "A = Z.astype(np.int8)\n",
    "B = Z.astype(np.int8)+10\n",
    "print(A, B)\n",
    "print(A & B, A ^ B)\n",
    "print()\n",
    "C = Z.astype(np.bool)\n",
    "print(C, -C)\n",
    "print(C | -C)"
   ]
  },
  {
   "cell_type": "code",
   "execution_count": null,
   "metadata": {
    "collapsed": true
   },
   "outputs": [],
   "source": []
  }
 ],
 "metadata": {
  "kernelspec": {
   "display_name": "Python 3",
   "language": "python",
   "name": "python3"
  },
  "language_info": {
   "codemirror_mode": {
    "name": "ipython",
    "version": 3
   },
   "file_extension": ".py",
   "mimetype": "text/x-python",
   "name": "python",
   "nbconvert_exporter": "python",
   "pygments_lexer": "ipython3",
   "version": "3.4.4"
  }
 },
 "nbformat": 4,
 "nbformat_minor": 0
}
