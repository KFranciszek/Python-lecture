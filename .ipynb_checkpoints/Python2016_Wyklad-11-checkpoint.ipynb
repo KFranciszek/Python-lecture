{
 "cells": [
  {
   "cell_type": "markdown",
   "metadata": {},
   "source": [
    "# Programowanie w języku Python - wykład 11"
   ]
  },
  {
   "cell_type": "markdown",
   "metadata": {},
   "source": [
    "## GUI - co wybrać?"
   ]
  },
  {
   "cell_type": "markdown",
   "metadata": {},
   "source": [
    "### wxWindows"
   ]
  },
  {
   "cell_type": "markdown",
   "metadata": {},
   "source": [
    "<img src=\"W11/wx.png\">"
   ]
  },
  {
   "cell_type": "markdown",
   "metadata": {},
   "source": [
    "### pyGTK"
   ]
  },
  {
   "cell_type": "markdown",
   "metadata": {},
   "source": [
    "<img src=\"W11/gtk.png\">"
   ]
  },
  {
   "cell_type": "markdown",
   "metadata": {},
   "source": [
    "### pyQT"
   ]
  },
  {
   "cell_type": "markdown",
   "metadata": {},
   "source": [
    "<img src=\"W11/qt.png\">"
   ]
  },
  {
   "cell_type": "markdown",
   "metadata": {},
   "source": [
    "### *\"Whatever you choose.... do not use Tkinter\"*"
   ]
  },
  {
   "cell_type": "code",
   "execution_count": 1,
   "metadata": {
    "collapsed": false
   },
   "outputs": [],
   "source": [
    "import tkinter as tk\n",
    "\n",
    "root = tk.Tk()\n",
    "tk.Label(root, text=\"Hello, world\").pack()\n",
    "root.mainloop()"
   ]
  },
  {
   "cell_type": "markdown",
   "metadata": {},
   "source": [
    "1. Łatwy w użyciu\n",
    "2. Dostępny wszędzie (Windows, OSX, Linux)\n",
    "3. Dojrzały (pierwsza wersja 1991, wersja 8.5 w 2007)"
   ]
  },
  {
   "cell_type": "markdown",
   "metadata": {},
   "source": [
    "##### Większość snippetów pochodzi od Jan Bodnar'a (tutorial do Tkintera, 2010)"
   ]
  },
  {
   "cell_type": "markdown",
   "metadata": {},
   "source": [
    "### Uklad relacyjny"
   ]
  },
  {
   "cell_type": "code",
   "execution_count": null,
   "metadata": {
    "collapsed": false
   },
   "outputs": [],
   "source": [
    "from tkinter import Tk, Listbox, mainloop, END\n",
    "\n",
    "root = Tk()\n",
    "\n",
    "listbox = Listbox(root)\n",
    "listbox.pack()\n",
    "\n",
    "for i in range(20):\n",
    "    listbox.insert(END, str(i))\n",
    "\n",
    "mainloop()"
   ]
  },
  {
   "cell_type": "code",
   "execution_count": null,
   "metadata": {
    "collapsed": false
   },
   "outputs": [],
   "source": [
    "from tkinter import Tk, Listbox, mainloop, END, BOTH\n",
    "\n",
    "root = Tk()\n",
    "\n",
    "listbox = Listbox(root)\n",
    "listbox.pack(fill=BOTH, expand=1)\n",
    "\n",
    "for i in range(20):\n",
    "    listbox.insert(END, str(i))\n",
    "\n",
    "mainloop()"
   ]
  },
  {
   "cell_type": "code",
   "execution_count": null,
   "metadata": {
    "collapsed": true
   },
   "outputs": [],
   "source": [
    "from Tkinter import Tk, Listbox, mainloop, Label\n",
    "\n",
    "root = Tk()\n",
    "\n",
    "w = Label(root, text=\"Red\", bg=\"red\", fg=\"white\")\n",
    "w.pack()\n",
    "w = Label(root, text=\"Green\", bg=\"green\", fg=\"black\")\n",
    "w.pack()\n",
    "w = Label(root, text=\"Blue\", bg=\"blue\", fg=\"white\")\n",
    "w.pack()\n",
    "\n",
    "mainloop()"
   ]
  },
  {
   "cell_type": "code",
   "execution_count": null,
   "metadata": {
    "collapsed": true
   },
   "outputs": [],
   "source": [
    "from Tkinter import Tk, Listbox, mainloop, Label, X, LEFT\n",
    "\n",
    "root = Tk()\n",
    "\n",
    "w = Label(root, text=\"Red\", bg=\"red\", fg=\"white\")\n",
    "w.pack(fill=X)\n",
    "w = Label(root, text=\"Green\", bg=\"green\", fg=\"black\")\n",
    "w.pack(fill=X)\n",
    "w = Label(root, text=\"Blue\", bg=\"blue\", fg=\"white\")\n",
    "w.pack(fill=X)\n",
    "\n",
    "mainloop()"
   ]
  },
  {
   "cell_type": "code",
   "execution_count": null,
   "metadata": {
    "collapsed": false
   },
   "outputs": [],
   "source": [
    "from Tkinter import Tk, Listbox, mainloop, Label, Y, X, LEFT\n",
    "\n",
    "root = Tk()\n",
    "\n",
    "w = Label(root, text=\"Red\", bg=\"red\", fg=\"white\")\n",
    "w.pack(side=LEFT, fill=X, expand=1)\n",
    "w = Label(root, text=\"Green\", bg=\"green\", fg=\"black\")\n",
    "w.pack(side=LEFT, fill=Y)\n",
    "w = Label(root, text=\"Blue\", bg=\"blue\", fg=\"white\")\n",
    "w.pack(side=LEFT)\n",
    "\n",
    "mainloop()"
   ]
  },
  {
   "cell_type": "markdown",
   "metadata": {},
   "source": [
    "### Uklad gridu"
   ]
  },
  {
   "cell_type": "code",
   "execution_count": null,
   "metadata": {
    "collapsed": false
   },
   "outputs": [],
   "source": [
    "from Tkinter import Tk, Label, Entry, mainloop\n",
    "\n",
    "root = Tk()\n",
    "\n",
    "Label(root, text=\"First\").grid(row=0)\n",
    "Label(root, text=\"Second\").grid(row=1)\n",
    "\n",
    "e1 = Entry(root)\n",
    "e2 = Entry(root)\n",
    "\n",
    "e1.grid(row=0, column=1)\n",
    "e2.grid(row=1, column=1)\n",
    "\n",
    "mainloop()"
   ]
  },
  {
   "cell_type": "code",
   "execution_count": null,
   "metadata": {
    "collapsed": false
   },
   "outputs": [],
   "source": [
    "import Tkinter as tk\n",
    "import random\n",
    "    \n",
    "root = tk.Tk()\n",
    "# width x height + x_offset + y_offset:\n",
    "root.geometry(\"170x200+30+30\") \n",
    "     \n",
    "languages = ['Python','Perl','C++','Java','Tcl/Tk']\n",
    "labels = range(5)\n",
    "for i in range(5):\n",
    "   ct = [random.randrange(256) for x in range(3)]\n",
    "   brightness = int(round(0.299*ct[0] + 0.587*ct[1] + 0.114*ct[2]))\n",
    "   ct_hex = \"%02x%02x%02x\" % tuple(ct)\n",
    "   bg_colour = '#' + \"\".join(ct_hex)\n",
    "   l = tk.Label(root, \n",
    "                text=languages[i], \n",
    "                fg='White' if brightness < 120 else 'Black', \n",
    "                bg=bg_colour)\n",
    "   l.place(x = 20, y = 30 + i*30, width=120, height=25)\n",
    "          \n",
    "root.mainloop()"
   ]
  },
  {
   "cell_type": "markdown",
   "metadata": {},
   "source": [
    "#### Menu glowne"
   ]
  },
  {
   "cell_type": "code",
   "execution_count": null,
   "metadata": {
    "collapsed": true
   },
   "outputs": [],
   "source": [
    "from Tkinter import Tk, Frame, Menu\n",
    "\n",
    "\n",
    "class Example(Frame):\n",
    "  \n",
    "    def __init__(self, parent):\n",
    "        Frame.__init__(self, parent)     \n",
    "        self.parent = parent        \n",
    "        self.initUI()\n",
    "        \n",
    "    def initUI(self):\n",
    "      \n",
    "        self.parent.title(\"Simple menu\")\n",
    "        \n",
    "        menubar = Menu(self.parent)\n",
    "        self.parent.config(menu=menubar)\n",
    "        \n",
    "        fileMenu = Menu(menubar)\n",
    "        fileMenu.add_command(label=\"Exit\", command=self.onExit)\n",
    "        menubar.add_cascade(label=\"File\", menu=fileMenu)       \n",
    "\n",
    "    def onExit(self):\n",
    "        self.quit()\n",
    "\n",
    "\n",
    "def main():\n",
    "  \n",
    "    root = Tk()\n",
    "    root.geometry(\"250x150+300+300\")\n",
    "    app = Example(root)\n",
    "    root.mainloop()  \n",
    "\n",
    "\n",
    "if __name__ == '__main__':\n",
    "    main()  "
   ]
  },
  {
   "cell_type": "code",
   "execution_count": null,
   "metadata": {
    "collapsed": true
   },
   "outputs": [],
   "source": [
    "from Tkinter import Tk, Frame, Menu\n",
    "\n",
    "\n",
    "class Example(Frame):\n",
    "  \n",
    "    def __init__(self, parent):\n",
    "        Frame.__init__(self, parent)       \n",
    "        self.parent = parent     \n",
    "        self.initUI()\n",
    "        \n",
    "    def initUI(self):\n",
    "      \n",
    "        self.parent.title(\"Submenu\")\n",
    "        \n",
    "        menubar = Menu(self.parent)\n",
    "        self.parent.config(menu=menubar)\n",
    "        \n",
    "        fileMenu = Menu(menubar)       \n",
    "        \n",
    "        submenu = Menu(fileMenu)\n",
    "        submenu.add_command(label=\"New feed\")\n",
    "        submenu.add_command(label=\"Bookmarks\")\n",
    "        submenu.add_command(label=\"Mail\")\n",
    "        fileMenu.add_cascade(label='Import', menu=submenu, underline=0)\n",
    "        \n",
    "        fileMenu.add_separator()\n",
    "        \n",
    "        fileMenu.add_command(label=\"Exit\", underline=0, command=self.onExit)\n",
    "        menubar.add_cascade(label=\"File\", underline=0, menu=fileMenu)                 \n",
    "\n",
    "    def onExit(self):\n",
    "        self.quit()\n",
    "\n",
    "\n",
    "def main():\n",
    "  \n",
    "    root = Tk()\n",
    "    root.geometry(\"250x150+300+300\")\n",
    "    app = Example(root)\n",
    "    root.mainloop()  \n",
    "\n",
    "\n",
    "if __name__ == '__main__':\n",
    "    main()  "
   ]
  },
  {
   "cell_type": "markdown",
   "metadata": {},
   "source": [
    "#### Menu kontekstowe"
   ]
  },
  {
   "cell_type": "code",
   "execution_count": null,
   "metadata": {
    "collapsed": false
   },
   "outputs": [],
   "source": [
    "from Tkinter import Tk, Frame, Menu\n",
    "\n",
    "\n",
    "class Example(Frame):\n",
    "  \n",
    "    def __init__(self, parent):\n",
    "        Frame.__init__(self, parent)   \n",
    "        self.parent = parent\n",
    "        self.initUI()\n",
    "        \n",
    "    def initUI(self):\n",
    "      \n",
    "        self.parent.title(\"Popup menu\")\n",
    "        self.menu = Menu(self.parent, tearoff=0)\n",
    "        self.menu.add_command(label=\"Beep\", command=self.beep)\n",
    "        self.menu.add_command(label=\"Exit\", command=self.onExit)\n",
    "\n",
    "        self.parent.bind(\"<Button-3>\", self.showMenu)\n",
    "        self.pack()  \n",
    "        \n",
    "    def showMenu(self, e):\n",
    "        self.menu.post(e.x_root, e.y_root)\n",
    "       \n",
    "    def beep(self):\n",
    "        print 'Beeeeeeeep!'\n",
    "\n",
    "    def onExit(self):\n",
    "        self.quit()\n",
    "\n",
    "\n",
    "def main():\n",
    "  \n",
    "    root = Tk()\n",
    "    root.geometry(\"250x150+300+300\")\n",
    "    app = Example(root)\n",
    "    root.mainloop()  \n",
    "\n",
    "\n",
    "if __name__ == '__main__':\n",
    "    main()  "
   ]
  },
  {
   "cell_type": "markdown",
   "metadata": {},
   "source": [
    "#### Pasek narzędzi"
   ]
  },
  {
   "cell_type": "code",
   "execution_count": null,
   "metadata": {
    "collapsed": false
   },
   "outputs": [],
   "source": [
    "from PIL import Image, ImageTk\n",
    "from Tkinter import Tk, Frame, Menu\n",
    "from Tkinter import Button, LEFT, TOP, X, FLAT, RAISED\n",
    "\n",
    "class Example(Frame):\n",
    "  \n",
    "    def __init__(self, parent):\n",
    "        Frame.__init__(self, parent)   \n",
    "         \n",
    "        self.parent = parent\n",
    "        \n",
    "        self.initUI()\n",
    "        \n",
    "    def initUI(self):\n",
    "      \n",
    "        self.parent.title(\"Toolbar\")\n",
    "        \n",
    "        menubar = Menu(self.parent)\n",
    "        self.fileMenu = Menu(self.parent, tearoff=0)\n",
    "        self.fileMenu.add_command(label=\"Exit\", command=self.onExit)\n",
    "        menubar.add_cascade(label=\"File\", menu=self.fileMenu)\n",
    "        \n",
    "        toolbar = Frame(self.parent, bd=1, relief=RAISED)\n",
    "\n",
    "        self.img = Image.open(\"/home/lejlot/Dropbox/python/L10_img/exit.png\")\n",
    "        eimg = ImageTk.PhotoImage(self.img, master = self.parent)  \n",
    "\n",
    "        exitButton = Button(toolbar, image=eimg, relief=FLAT,\n",
    "            command=self.quit)\n",
    "        exitButton.image = eimg\n",
    "        exitButton.pack(side=LEFT, padx=2, pady=2)\n",
    "       \n",
    "        toolbar.pack(side=TOP, fill=X)\n",
    "        self.parent.config(menu=menubar)\n",
    "        self.pack()\n",
    "        \n",
    "       \n",
    "    def onExit(self):\n",
    "        self.quit()\n",
    "\n",
    "\n",
    "def main():\n",
    "  \n",
    "    root = Tk()\n",
    "    root.geometry(\"250x150+300+300\")\n",
    "    app = Example(root)\n",
    "    root.mainloop()  \n",
    "\n",
    "\n",
    "if __name__ == '__main__':\n",
    "    main()  "
   ]
  },
  {
   "cell_type": "markdown",
   "metadata": {},
   "source": [
    "#### Komunikaty"
   ]
  },
  {
   "cell_type": "code",
   "execution_count": null,
   "metadata": {
    "collapsed": false
   },
   "outputs": [],
   "source": [
    "from ttk import Frame, Button, Style\n",
    "from Tkinter import Tk, BOTH\n",
    "import tkMessageBox as box\n",
    "\n",
    "\n",
    "class Example(Frame):\n",
    "  \n",
    "    def __init__(self, parent):\n",
    "        Frame.__init__(self, parent)   \n",
    "         \n",
    "        self.parent = parent        \n",
    "        self.initUI()\n",
    "        \n",
    "    def initUI(self):\n",
    "      \n",
    "        self.parent.title(\"Message boxes\")\n",
    "        self.style = Style()\n",
    "        self.style.theme_use(\"default\")        \n",
    "        self.pack()\n",
    "        \n",
    "        error = Button(self, text=\"Error\", command=self.onError)\n",
    "        error.grid()\n",
    "        warning = Button(self, text=\"Warning\", command=self.onWarn)\n",
    "        warning.grid(row=1, column=0)\n",
    "        question = Button(self, text=\"Question\", command=self.onQuest)\n",
    "        question.grid(row=0, column=1)\n",
    "        inform = Button(self, text=\"Information\", command=self.onInfo)\n",
    "        inform.grid(row=1, column=1)\n",
    "\n",
    "\n",
    "    def onError(self):\n",
    "        box.showerror(\"Error\", \"Could not open file\")\n",
    "        \n",
    "    def onWarn(self):\n",
    "        box.showwarning(\"Warning\", \"Deprecated function call\")\n",
    "        \n",
    "    def onQuest(self):\n",
    "        answer = box.askquestion(\"Question\", \"Are you sure to quit?\")\n",
    "        box.showinfo('', 'You answered %s' % answer)\n",
    "        \n",
    "    def onInfo(self):\n",
    "        box.showinfo(\"Information\", \"Download completed\")\n",
    "         \n",
    "\n",
    "def main():\n",
    "  \n",
    "    root = Tk()\n",
    "    ex = Example(root)\n",
    "    root.geometry(\"300x150+300+300\")\n",
    "    root.mainloop()  \n",
    "\n",
    "\n",
    "if __name__ == '__main__':\n",
    "    main()  "
   ]
  },
  {
   "cell_type": "markdown",
   "metadata": {},
   "source": [
    "#### Wybieranie koloru"
   ]
  },
  {
   "cell_type": "code",
   "execution_count": null,
   "metadata": {
    "collapsed": true
   },
   "outputs": [],
   "source": [
    "from Tkinter import Tk, Frame, Button, BOTH, SUNKEN\n",
    "import tkColorChooser \n",
    "\n",
    "class Example(Frame):\n",
    "  \n",
    "    def __init__(self, parent):\n",
    "        Frame.__init__(self, parent)   \n",
    "         \n",
    "        self.parent = parent        \n",
    "        self.initUI()\n",
    "        \n",
    "    def initUI(self):\n",
    "      \n",
    "        self.parent.title(\"Color chooser\")      \n",
    "        self.pack(fill=BOTH, expand=1)\n",
    "        \n",
    "        self.btn = Button(self, text=\"Choose Color\", \n",
    "            command=self.onChoose)\n",
    "        self.btn.place(x=30, y=30)\n",
    "        \n",
    "        self.frame = Frame(self, border=1, \n",
    "            relief=SUNKEN, width=100, height=100)\n",
    "        self.frame.place(x=160, y=30)\n",
    "\n",
    "    def onChoose(self):\n",
    "      \n",
    "        (rgb, hx) = tkColorChooser.askcolor()\n",
    "        self.frame.config(bg=hx)\n",
    "         \n",
    "\n",
    "def main():\n",
    "  \n",
    "    root = Tk()\n",
    "    ex = Example(root)\n",
    "    root.geometry(\"300x150+300+300\")\n",
    "    root.mainloop()  \n",
    "\n",
    "\n",
    "if __name__ == '__main__':\n",
    "    main()  "
   ]
  },
  {
   "cell_type": "markdown",
   "metadata": {},
   "source": [
    "#### Okna dialogowe i pliki"
   ]
  },
  {
   "cell_type": "code",
   "execution_count": null,
   "metadata": {
    "collapsed": true
   },
   "outputs": [],
   "source": [
    "from Tkinter import Frame, Tk, BOTH, Text, Menu, END\n",
    "import tkFileDialog \n",
    "\n",
    "class Example(Frame):\n",
    "  \n",
    "    def __init__(self, parent):\n",
    "        Frame.__init__(self, parent)   \n",
    "         \n",
    "        self.parent = parent        \n",
    "        self.initUI()\n",
    "        \n",
    "    def initUI(self):\n",
    "      \n",
    "        self.parent.title(\"File dialog\")\n",
    "        self.pack(fill=BOTH, expand=1)\n",
    "        \n",
    "        menubar = Menu(self.parent)\n",
    "        self.parent.config(menu=menubar)\n",
    "        \n",
    "        fileMenu = Menu(menubar)\n",
    "        fileMenu.add_command(label=\"Open\", command=self.onOpen)\n",
    "        menubar.add_cascade(label=\"File\", menu=fileMenu)        \n",
    "        \n",
    "        self.txt = Text(self)\n",
    "        self.txt.pack(fill=BOTH, expand=1)\n",
    "\n",
    "\n",
    "    def onOpen(self):\n",
    "      \n",
    "        ftypes = [('Python files', '*.py'), ('All files', '*')]\n",
    "        dlg = tkFileDialog.Open(self, filetypes = ftypes)\n",
    "        fl = dlg.show()\n",
    "        \n",
    "        if fl != '':\n",
    "            text = self.readFile(fl)\n",
    "            self.txt.insert(END, text)\n",
    "\n",
    "    def readFile(self, filename):\n",
    "\n",
    "        f = open(filename, \"r\")\n",
    "        text = f.read()\n",
    "        return text\n",
    "         \n",
    "\n",
    "def main():\n",
    "  \n",
    "    root = Tk()\n",
    "    ex = Example(root)\n",
    "    root.geometry(\"300x250+300+300\")\n",
    "    root.mainloop()  \n",
    "\n",
    "\n",
    "if __name__ == '__main__':\n",
    "    main()  "
   ]
  },
  {
   "cell_type": "markdown",
   "metadata": {},
   "source": [
    "#### Proste rysowanie"
   ]
  },
  {
   "cell_type": "code",
   "execution_count": null,
   "metadata": {
    "collapsed": true
   },
   "outputs": [],
   "source": [
    "from Tkinter import Tk, Canvas, Frame, BOTH\n",
    "\n",
    "\n",
    "class Example(Frame):\n",
    "  \n",
    "    def __init__(self, parent):\n",
    "        Frame.__init__(self, parent)   \n",
    "         \n",
    "        self.parent = parent        \n",
    "        self.initUI()\n",
    "        \n",
    "    def initUI(self):\n",
    "      \n",
    "        self.parent.title(\"Colors\")        \n",
    "        self.pack(fill=BOTH, expand=1)\n",
    "\n",
    "        canvas = Canvas(self)\n",
    "        canvas.create_rectangle(30, 10, 120, 80, \n",
    "            outline=\"#fb0\", fill=\"#fb0\")\n",
    "        canvas.create_rectangle(150, 10, 240, 80, \n",
    "            outline=\"#f50\", fill=\"#f50\")\n",
    "        canvas.create_rectangle(270, 10, 370, 80, \n",
    "            outline=\"#05f\", fill=\"#05f\")            \n",
    "        canvas.pack(fill=BOTH, expand=1)\n",
    "\n",
    "\n",
    "def main():\n",
    "  \n",
    "    root = Tk()\n",
    "    ex = Example(root)\n",
    "    root.geometry(\"400x100+300+300\")\n",
    "    root.mainloop()  \n",
    "\n",
    "\n",
    "if __name__ == '__main__':\n",
    "    main()  "
   ]
  },
  {
   "cell_type": "markdown",
   "metadata": {},
   "source": [
    "#### Rysowanie kształtów"
   ]
  },
  {
   "cell_type": "code",
   "execution_count": null,
   "metadata": {
    "collapsed": true
   },
   "outputs": [],
   "source": [
    "from Tkinter import Tk, Canvas, Frame, BOTH\n",
    "\n",
    "\n",
    "class Example(Frame):\n",
    "  \n",
    "    def __init__(self, parent):\n",
    "        Frame.__init__(self, parent)   \n",
    "         \n",
    "        self.parent = parent        \n",
    "        self.initUI()\n",
    "        \n",
    "    def initUI(self):\n",
    "      \n",
    "        self.parent.title(\"Shapes\")        \n",
    "        self.pack(fill=BOTH, expand=1)\n",
    "\n",
    "        canvas = Canvas(self)\n",
    "        canvas.create_oval(10, 10, 80, 80, outline=\"red\", \n",
    "            fill=\"green\", width=2)\n",
    "        canvas.create_oval(110, 10, 210, 80, outline=\"#f11\", \n",
    "            fill=\"#1f1\", width=2)\n",
    "        canvas.create_rectangle(230, 10, 290, 60, \n",
    "            outline=\"#f11\", fill=\"#1f1\", width=2)\n",
    "        canvas.create_arc(30, 200, 90, 100, start=0, \n",
    "            extent=210, outline=\"#f11\", fill=\"#1f1\", width=2)\n",
    "            \n",
    "        points = [150, 100, 200, 120, 240, 180, 210, \n",
    "            200, 150, 150, 100, 200]\n",
    "        canvas.create_polygon(points, outline='red', \n",
    "            fill='green', width=2)\n",
    "        \n",
    "        canvas.pack(fill=BOTH, expand=1)\n",
    "\n",
    "\n",
    "def main():\n",
    "  \n",
    "    root = Tk()\n",
    "    ex = Example(root)\n",
    "    root.geometry(\"330x220+300+300\")\n",
    "    root.mainloop()  \n",
    "\n",
    "\n",
    "if __name__ == '__main__':\n",
    "    main()  "
   ]
  },
  {
   "cell_type": "markdown",
   "metadata": {},
   "source": [
    "#### Wyświetlanie obrazków"
   ]
  },
  {
   "cell_type": "code",
   "execution_count": null,
   "metadata": {
    "collapsed": false
   },
   "outputs": [],
   "source": [
    "from Tkinter import Tk, Canvas, Frame, BOTH, NW\n",
    "from PIL import Image, ImageTk\n",
    "\n",
    "class Example(Frame):\n",
    "  \n",
    "    def __init__(self, parent):\n",
    "        Frame.__init__(self, parent)   \n",
    "         \n",
    "        self.parent = parent        \n",
    "        self.initUI()\n",
    "        \n",
    "    def initUI(self):\n",
    "      \n",
    "        self.parent.title(\"Cracow\")        \n",
    "        self.pack(fill=BOTH, expand=1)\n",
    "        \n",
    "        self.img = Image.open(\"/home/lejlot/Dropbox/python/L10_img/cracow.png\")\n",
    "        self.tatras = ImageTk.PhotoImage(self.img, master = self.parent)\n",
    "\n",
    "        canvas = Canvas(self, width=self.img.size[0]+20, \n",
    "           height=self.img.size[1]+20)\n",
    "        canvas.create_image(10, 10, anchor=NW, image=self.tatras)\n",
    "        canvas.pack(fill=BOTH, expand=1)\n",
    "\n",
    "\n",
    "def main():\n",
    "  \n",
    "    root = Tk()\n",
    "    ex = Example(root)\n",
    "    root.mainloop()  \n",
    "\n",
    "\n",
    "if __name__ == '__main__':\n",
    "    main()  "
   ]
  },
  {
   "cell_type": "code",
   "execution_count": null,
   "metadata": {
    "collapsed": true
   },
   "outputs": [],
   "source": [
    "from Tkinter import Tk, Canvas, Frame, BOTH, W\n",
    "\n",
    "\n",
    "class Example(Frame):\n",
    "  \n",
    "    def __init__(self, parent):\n",
    "        Frame.__init__(self, parent)   \n",
    "         \n",
    "        self.parent = parent        \n",
    "        self.initUI()\n",
    "        \n",
    "    def initUI(self):\n",
    "      \n",
    "        self.parent.title(\"Lyrics\")        \n",
    "        self.pack(fill=BOTH, expand=1)\n",
    "\n",
    "        canvas = Canvas(self)\n",
    "        canvas.create_text(20, 30, anchor=W, font=\"Verdana\",\n",
    "            text=\"Most relationships seem so transitory\")\n",
    "        canvas.create_text(20, 60, anchor=W, font=\"Verdana\",\n",
    "            text=\"They're good but not the permanent one\")\n",
    "        canvas.create_text(20, 130, anchor=W, font=\"Verdana\",\n",
    "            text=\"Who doesn't long for someone to hold\")\n",
    "        canvas.create_text(20, 160, anchor=W, font=\"Verdana\",\n",
    "            text=\"Who knows how to love without being told\")                   \n",
    "        canvas.create_text(20, 190, anchor=W, font=\"Verdana\",\n",
    "            text=\"Somebody tell me why I'm on my own\")            \n",
    "        canvas.create_text(20, 220, anchor=W, font=\"Verdana\",\n",
    "            text=\"If there's a soulmate for everyone\")               \n",
    "        canvas.pack(fill=BOTH, expand=1)\n",
    "\n",
    "\n",
    "def main():\n",
    "  \n",
    "    root = Tk()\n",
    "    ex = Example(root)\n",
    "    root.geometry(\"420x250+300+300\")\n",
    "    root.mainloop()  \n",
    "\n",
    "\n",
    "if __name__ == '__main__':\n",
    "    main()  "
   ]
  },
  {
   "cell_type": "markdown",
   "metadata": {},
   "source": [
    "#### Lączenie zdarzenia z widgetu z funkcją"
   ]
  },
  {
   "cell_type": "code",
   "execution_count": null,
   "metadata": {
    "collapsed": false
   },
   "outputs": [],
   "source": [
    "from ttk import Frame, Label, Style\n",
    "from Tkinter import Tk, BOTH, Listbox, StringVar, END\n",
    "\n",
    "\n",
    "class Example(Frame):\n",
    "  \n",
    "    def __init__(self, parent):\n",
    "        Frame.__init__(self, parent)   \n",
    "         \n",
    "        self.parent = parent        \n",
    "        self.initUI()\n",
    "        \n",
    "    def initUI(self):\n",
    "      \n",
    "        self.parent.title(\"Listbox\") \n",
    "        \n",
    "        self.pack(fill=BOTH, expand=1)\n",
    "\n",
    "        acts = ['Scarlett Johansson', 'Rachel Weiss', \n",
    "            'Natalie Portman', 'Jessica Alba']\n",
    "\n",
    "        lb = Listbox(self)\n",
    "        for i in acts:\n",
    "            lb.insert(END, i)\n",
    "            \n",
    "        lb.bind(\"<<ListboxSelect>>\", self.onSelect)    \n",
    "            \n",
    "        lb.place(x=20, y=20)\n",
    "\n",
    "        self.var = StringVar()\n",
    "        self.label = Label(self, text=0, textvariable=self.var)        \n",
    "        self.label.place(x=20, y=210)\n",
    "\n",
    "    def onSelect(self, val):\n",
    "      \n",
    "        sender = val.widget\n",
    "        idx = sender.curselection()\n",
    "        value = sender.get(idx)   \n",
    "\n",
    "        self.var.set(value)\n",
    "         \n",
    "\n",
    "def main():\n",
    "  \n",
    "    root = Tk()\n",
    "    ex = Example(root)\n",
    "    root.geometry(\"300x250+300+300\")\n",
    "    root.mainloop()  \n",
    "\n",
    "\n",
    "if __name__ == '__main__':\n",
    "    main() "
   ]
  },
  {
   "cell_type": "markdown",
   "metadata": {},
   "source": [
    "#### Dodajmy troche ruchu"
   ]
  },
  {
   "cell_type": "code",
   "execution_count": null,
   "metadata": {
    "collapsed": false
   },
   "outputs": [],
   "source": [
    "from ttk import Frame, Label, Style\n",
    "from Tkinter import Tk, BOTH, Button, StringVar, END\n",
    "\n",
    "\n",
    "class Example(Frame):\n",
    "  \n",
    "    def __init__(self, parent):\n",
    "        Frame.__init__(self, parent)   \n",
    "         \n",
    "        self.parent = parent        \n",
    "        self.initUI()\n",
    "        \n",
    "    def initUI(self):\n",
    "        self.parent.title(\"Time\") \n",
    "        self.pack(fill=BOTH, expand=1)\n",
    "\n",
    "        self.pos = {'x': 20, 'y': 20}\n",
    "        self.moves = {'forward': {'x': 1, 'y': 1}, \n",
    "                      'backward': {'x': -1, 'y': -1}}\n",
    "        \n",
    "        self.button = Button(self)\n",
    "        \n",
    "        self.button.bind(\"<Button-1>\", self.forward)    \n",
    "        self.button.bind(\"<Button-3>\", self.backward)    \n",
    "        \n",
    "        self.button.place(**self.pos)\n",
    "        self.moving = False\n",
    "        self.direction = None\n",
    "        \n",
    "    def forward(self, event):\n",
    "        self.moving = not self.moving\n",
    "        if self.moving:\n",
    "            self.direction = 'forward'\n",
    "            self.after(10, self.move)\n",
    "                \n",
    "    def backward(self, event):\n",
    "        self.moving = not self.moving\n",
    "        if self.moving:\n",
    "            self.direction = 'backward'\n",
    "            self.after(10, self.move)\n",
    "        \n",
    "    def move(self):\n",
    "        self.pos['x'] += self.moves[self.direction]['x']\n",
    "        self.pos['y'] += self.moves[self.direction]['y']\n",
    "        self.button.place(**self.pos)\n",
    "        if self.moving:\n",
    "            self.after(10, self.move)\n",
    "\n",
    "def main():\n",
    "  \n",
    "    root = Tk()\n",
    "    ex = Example(root)\n",
    "    root.geometry(\"300x250+300+300\")\n",
    "    root.mainloop()  \n",
    "\n",
    "\n",
    "if __name__ == '__main__':\n",
    "    main() "
   ]
  },
  {
   "cell_type": "markdown",
   "metadata": {},
   "source": [
    "#### No to czas na grę!"
   ]
  },
  {
   "cell_type": "code",
   "execution_count": null,
   "metadata": {
    "collapsed": false
   },
   "outputs": [],
   "source": [
    "from ttk import Frame, Label, Style\n",
    "from Tkinter import Tk, BOTH, Button, StringVar, END\n",
    "from math import sqrt\n",
    "\n",
    "class Example(Frame):\n",
    "  \n",
    "    def __init__(self, parent):\n",
    "        Frame.__init__(self, parent)   \n",
    "         \n",
    "        self.parent = parent        \n",
    "        self.initUI()\n",
    "        \n",
    "    def initUI(self):\n",
    "        self.parent.title(\"Time\") \n",
    "        self.pack(fill=BOTH, expand=1)\n",
    "\n",
    "        self.pos = {'x': 100, 'y': 100}\n",
    "        s = sqrt(2)/2\n",
    "        self.moves = {'w': {'x': 0, 'y': -1}, \n",
    "                      'x': {'x': 0, 'y': 1},\n",
    "                      'a': {'x': -1, 'y': 0},\n",
    "                      'd': {'x': 1, 'y': 0},\n",
    "                      'q': {'x': -s, 'y': -s},\n",
    "                      'e': {'x': s, 'y': -s},\n",
    "                      'z': {'x': -s, 'y': s},\n",
    "                      'c': {'x': s, 'y': s},\n",
    "                      's': {'x': 0, 'y': 0}}\n",
    "        \n",
    "        \n",
    "        self.parent.bind(\"<Key>\", self.keyStroke)    \n",
    "        \n",
    "        self.button = Button(self)\n",
    "        self.button.place(**self.pos)\n",
    "        \n",
    "        self.moving = False\n",
    "        self.direction = None\n",
    "        \n",
    "    def keyStroke(self, event):\n",
    "        if event.char in self.moves:\n",
    "            self.force = self.moves[event.char]\n",
    "            if not self.moving:\n",
    "                self.after(10, self.move)\n",
    "            self.moving = True\n",
    "\n",
    "    def move(self):\n",
    "        self.pos['x'] += self.force['x']\n",
    "        self.pos['y'] += self.force['y']\n",
    "        self.button.place(**self.pos)\n",
    "        self.after(10, self.move)\n",
    "        self.parent.title('x=%(x).2f y=%(y).2f' % (self.pos))\n",
    "            \n",
    "def main():\n",
    "  \n",
    "    root = Tk()\n",
    "    ex = Example(root)\n",
    "    root.geometry(\"300x250+300+300\")\n",
    "    root.mainloop()  \n",
    "\n",
    "\n",
    "if __name__ == '__main__':\n",
    "    main() "
   ]
  }
 ],
 "metadata": {
  "kernelspec": {
   "display_name": "Python 3",
   "language": "python",
   "name": "python3"
  },
  "language_info": {
   "codemirror_mode": {
    "name": "ipython",
    "version": 3
   },
   "file_extension": ".py",
   "mimetype": "text/x-python",
   "name": "python",
   "nbconvert_exporter": "python",
   "pygments_lexer": "ipython3",
   "version": "3.4.4"
  }
 },
 "nbformat": 4,
 "nbformat_minor": 0
}
