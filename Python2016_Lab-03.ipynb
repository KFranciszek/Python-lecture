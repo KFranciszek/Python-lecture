{
 "cells": [
  {
   "cell_type": "markdown",
   "metadata": {},
   "source": [
    "## Język Python - Laboratorium 3."
   ]
  },
  {
   "cell_type": "markdown",
   "metadata": {},
   "source": [
    "*Rozwiązania wszystkich zadań przesyłamy w jednym pliku o nazwie L03_ImieNazwisko.ipynb (notebook) lub L03_ImieNazwisko.py\n",
    "(skrypt) (proszę nie używać polskich znaków w nazwach plików). Rozwiązanie należy przesłać w przeciągu pięciu dni\n",
    "od zakończenia zajęć.*\n"
   ]
  },
  {
   "cell_type": "markdown",
   "metadata": {},
   "source": [
    "## ZADANIE 1"
   ]
  },
  {
   "cell_type": "markdown",
   "metadata": {},
   "source": [
    "Uzupełnij definicje poniższych funkcji/generatorów. (1pkt)"
   ]
  },
  {
   "cell_type": "code",
   "execution_count": null,
   "metadata": {
    "collapsed": false
   },
   "outputs": [],
   "source": [
    "def natural_numbers(k=0):\n",
    "    \"\"\"Tworzy generator liczb naturalnych od liczby k\"\"\"\n",
    "    pass\n",
    "\n",
    "import types\n",
    "print(isinstance(natural_numbers(), types.GeneratorType))\n",
    "\n",
    "for i, n in enumerate(natural_numbers()):\n",
    "    print(i, i == n)\n",
    "    if i > 20:\n",
    "        break\n",
    "        \n",
    "for i, n in enumerate(natural_numbers(1)):\n",
    "    print(i, i+1 == n)\n",
    "    if i > 20:\n",
    "        break"
   ]
  },
  {
   "cell_type": "code",
   "execution_count": null,
   "metadata": {
    "collapsed": false
   },
   "outputs": [],
   "source": [
    "def factorials():\n",
    "    \"\"\"Tworzy generator kolejnych silnii\"\"\"\n",
    "    pass\n",
    "\n",
    "import types\n",
    "print(isinstance(factorials(), types.GeneratorType))\n",
    "\n",
    "results = [1, 2, 6, 24, 120, 720, 5040]\n",
    "for truth, answer in zip(results, factorials()):\n",
    "    print(truth, truth == answer)"
   ]
  },
  {
   "cell_type": "markdown",
   "metadata": {},
   "source": [
    "## ZADANIE 2\n",
    "Uzupenij definicje. **Nie używaj** comprehension, zamiast tego użyj paradygmatu funkcyjnego. Każde rozwiązanie powinno być jednolinijkowe. (1.5 pkt)"
   ]
  },
  {
   "cell_type": "code",
   "execution_count": null,
   "metadata": {
    "collapsed": false
   },
   "outputs": [],
   "source": [
    "def celsius_to_fahrenheit(x):\n",
    "    \"\"\"Konwertuje liste temperatur w stopniach Celsjusza do skali Fahrenheita\"\"\"\n",
    "    pass\n",
    "\n",
    "print(celsius_to_fahrenheit([0, 10, 100]) == [32.0, 50.0, 212.0])\n",
    "print(celsius_to_fahrenheit([-123, 0]) == [-189.4, 32.0])"
   ]
  },
  {
   "cell_type": "code",
   "execution_count": null,
   "metadata": {
    "collapsed": false
   },
   "outputs": [],
   "source": [
    "def product_greater_than(x, k=0):\n",
    "    \"\"\"Zwraca iloczyn liczb w liście x większych od k\"\"\"\n",
    "    pass\n",
    "\n",
    "print(product_greater_than([1, 2, 3]) == 6)\n",
    "print(product_greater_than([1, 2, 3], 2) == 3)\n",
    "print(product_greater_than([-4, 5, 10, 23, 123], -5) == -565800)"
   ]
  },
  {
   "cell_type": "code",
   "execution_count": null,
   "metadata": {
    "collapsed": false
   },
   "outputs": [],
   "source": [
    "def create_sentence(x, k=0):\n",
    "    \"\"\"Łączy słowa (o długości co najmniej k) z listy x w zdanie\"\"\"\n",
    "    pass\n",
    "\n",
    "print(create_sentence(['ala', 'ma', 'kota']) == 'ala ma kota')\n",
    "print(create_sentence(['ala']) == 'ala')\n",
    "print(create_sentence(['ala', 'ma', 'pieknego', 'kota'], k=3) == 'ala pieknego kota')"
   ]
  },
  {
   "cell_type": "markdown",
   "metadata": {},
   "source": [
    "## ZADANIE 3\n",
    "Dopisz brakujące metody/dekoratory poniższych funkcji/obiektów. (1.5 pkt)"
   ]
  },
  {
   "cell_type": "code",
   "execution_count": null,
   "metadata": {
    "collapsed": false
   },
   "outputs": [],
   "source": [
    "import sys\n",
    "sys.float_info.epsilon #epsilon maszynowy\n",
    "\n",
    "def derivate(epsilon=None):\n",
    "    \"\"\"\n",
    "    zwraca pochodną funkcji w punkcie, wg. wzoru f'(x) = [f(x+h) - f(x)]/h, \n",
    "    gdzie h jest parametrem dekoratora, jeśli nie zostanie podany, należy przyjąć 1000 * epsilon maszynowy\n",
    "    \"\"\"\n",
    "    pass\n",
    "\n",
    "@derivate(0.01)\n",
    "def f(x):\n",
    "    return x*x\n",
    "\n",
    "@derivate(0.00001)\n",
    "def g(x):\n",
    "    return x*x*x+3\n",
    "\n",
    "print(test(f(100), 200.0))\n",
    "print(round(f(0)) == 0.0)\n",
    "\n",
    "print(test(g(100), 30000.0))\n",
    "print(round(g(0)) == 0.0)\n",
    "\n",
    "def test(a, b, eps=1):\n",
    "    return abs(round(a)-round(b)) < eps\n",
    "\n",
    "from random import random\n",
    "for x in [random()*1000. for _ in range(20)]:\n",
    "    print(f(x), 2*x, test(f(x), 2*x))\n",
    "    print(g(x), 3*x**2, test(g(x), 3*x**2))"
   ]
  },
  {
   "cell_type": "code",
   "execution_count": null,
   "metadata": {
    "collapsed": false
   },
   "outputs": [],
   "source": [
    "class FrozenDictionary(object):\n",
    "    \"\"\"\n",
    "    Odpowiednik frozenset dla zbiorów, czyli słownik, który nie jest modyfikowalny,\n",
    "    a dzięki temu może być np. elementem zbiorów, albo kluczem w innym słowniku.\n",
    "    \"\"\"\n",
    "    \n",
    "    def __init__(self, dictionary):\n",
    "        \"\"\"Tworzy nowy zamrożony słownik z podanego słownika\"\"\"\n",
    "        pass\n",
    "    \n",
    "    def __hash__(self):\n",
    "        \"\"\"Zwraca hasz słownika (int)\"\"\"\n",
    "        pass\n",
    "    \n",
    "    def __eq__(self, d):\n",
    "        \"\"\"Porównuje nasz słownik z zamrożonym słownikiem d\"\"\"\n",
    "        pass\n",
    "    \n",
    "    def __repr__(self):\n",
    "        \"\"\"Zwraca reprezentację naszego słownika jako string\"\"\"\n",
    "        pass\n",
    "        \n",
    "dicts = [FrozenDictionary({'ala': 4}), FrozenDictionary({'ala': 1, 'jacek': 0}), \\\n",
    "         FrozenDictionary({'ala': 4}), FrozenDictionary({'ala': 2}), FrozenDictionary({'jacek': 0, 'ala': 1})]\n",
    "\n",
    "s = set(dicts)\n",
    "print(dicts[0] == dicts[2])\n",
    "print(dicts[0] != dicts[3])\n",
    "print(len(s) == 3)\n",
    "for d in dicts:\n",
    "    print(d in s)\n",
    "\n",
    "# Powinno wyświetlić coś w stylu set([{'ala': 4}, {'ala': 1, 'jacek': 0}, {'ala': 2}])\n",
    "print(s)\n"
   ]
  },
  {
   "cell_type": "markdown",
   "metadata": {},
   "source": [
    "## Zadanie dodatkowe\n",
    "\n",
    "(1.5 pkt)\n",
    "Stwórz dekorator `cached` służący do cachowania wywołań dowolnej funkcji, tzn. chcemy by:\n",
    "\n",
    "* wywołanie funkcji z określonymi argumentami miało miejsce tylko raz\n",
    "* funkcja mogła przyjmować dowolną liczbę nazwanych i nienazwanych argumentów\n",
    "* nie musi reagować poprawnie na domyślne argumenty, tzn. wywołanie funkcji z domyślnymi argumentami a podanie dokładnie takich samych może być traktowane jako dwa różne wywołania\n",
    "* na opakowanej funkcji można wywołać `.cache_reset()`, który usunie cache z pamięci\n",
    "* wywołanie `.cache_status()` zwraca string z opisem w postaci:\n",
    "\n",
    "  Function FUNCTION_NAME called X times, evaluated Y times\n",
    "  "
   ]
  },
  {
   "cell_type": "code",
   "execution_count": null,
   "metadata": {
    "collapsed": false
   },
   "outputs": [],
   "source": [
    "from random import random\n",
    "\n",
    "@cached\n",
    "def foo(x, y=1, z=4):\n",
    "    return random()\n",
    "        \n",
    "print(foo(3) == foo(3))\n",
    "print(foo(4) == foo(4))\n",
    "print(foo(3, z=-1, y=3) == foo(3, y=3, z=-1))\n",
    "print(foo(3) != foo(x=3))\n",
    "a = foo(3)\n",
    "foo.cache_reset()\n",
    "print(a != foo(3))\n",
    "print(foo.cache_status() == 'Function foo called 10 times, evaluated 5 times')               "
   ]
  }
 ],
 "metadata": {
  "kernelspec": {
   "display_name": "Python 3",
   "language": "python",
   "name": "python3"
  },
  "language_info": {
   "codemirror_mode": {
    "name": "ipython",
    "version": 3
   },
   "file_extension": ".py",
   "mimetype": "text/x-python",
   "name": "python",
   "nbconvert_exporter": "python",
   "pygments_lexer": "ipython3",
   "version": "3.4.4"
  }
 },
 "nbformat": 4,
 "nbformat_minor": 0
}
