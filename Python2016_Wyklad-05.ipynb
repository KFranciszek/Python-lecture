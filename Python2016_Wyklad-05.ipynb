{
 "cells": [
  {
   "cell_type": "markdown",
   "metadata": {},
   "source": [
    "# Język Python - Wykład 5."
   ]
  },
  {
   "cell_type": "markdown",
   "metadata": {},
   "source": [
    "## Wyrażenia regularne"
   ]
  },
  {
   "cell_type": "markdown",
   "metadata": {},
   "source": [
    "Some people, when confronted with a problem, think \"I\n",
    "know, I'll use regular expressions.\" Now they have two\n",
    "problems.\n",
    "-- Jamie Zawinski, '<alt.religion.emacs>' (08/12/1997)\n"
   ]
  },
  {
   "cell_type": "code",
   "execution_count": null,
   "metadata": {
    "collapsed": false
   },
   "outputs": [],
   "source": [
    "import re"
   ]
  },
  {
   "cell_type": "markdown",
   "metadata": {},
   "source": [
    "## Metaznaki"
   ]
  },
  {
   "cell_type": "markdown",
   "metadata": {},
   "source": [
    " [ ... ] - zakres znaków („klasa”)\n",
    " \n",
    " ^ - operator dopełnienia mnogościowego\n",
    " \n",
    " . - dowolny znak ale nie koniec linii\n",
    " \n",
    " \\d – cyfry – odpowiada [0-9]\n",
    " \n",
    " \\D – nie-cyfry – odpowiada [^0-9]\n",
    " \n",
    " \\s – biały znak – odpowiada [ \\t\\n\\r\\f\\v]\n",
    " \n",
    " \\S – nie-biały znak – odpowiada [^ \\t\\n\\r\\f\\v].\n",
    " \n",
    " \\w – znak alfanumeryczny – odpowiada [a-zA-Z0-9_] \n",
    " \n",
    " \\W – znak niealfanumeryczny – odpowiada [^a-zA-Z0-9_] \n",
    " \n",
    "  | - „lub” ab|bc\n",
    "  \n",
    "  ^ - oznaczenie początku linii ^From: \n",
    "  \n",
    " \\$ - oznaczenie końca linii End.$\n",
    "  \n",
    " \\A – początek\n",
    " \n",
    " \\Z – koniec\n",
    " \n",
    " \\b – granica słowa (! - uwaga na backspace -> w środku [] jest to backspace )\n",
    " \n",
    " \\B - negacja \\b\n",
    " \n",
    " \\* - powielenie 0 lub więcej razy („gwiazdka Kleene'a”)\n",
    "  \n",
    "{min,max} - dopuszczalna ilość wystąpień\n",
    "\n",
    " \\+ - „Plus Kleene'a” - 1 lub więcej\n",
    "  \n",
    "  ? - 0 lub 1 razy"
   ]
  },
  {
   "cell_type": "markdown",
   "metadata": {},
   "source": [
    "## Użycie"
   ]
  },
  {
   "cell_type": "code",
   "execution_count": null,
   "metadata": {
    "collapsed": false
   },
   "outputs": [],
   "source": [
    "p = re.compile('ab|bc')\n",
    "print(p)"
   ]
  },
  {
   "cell_type": "code",
   "execution_count": null,
   "metadata": {
    "collapsed": false
   },
   "outputs": [],
   "source": [
    "print(p.match('bc'))"
   ]
  },
  {
   "cell_type": "code",
   "execution_count": null,
   "metadata": {
    "collapsed": false
   },
   "outputs": [],
   "source": [
    "print(p.match('ba'))"
   ]
  },
  {
   "cell_type": "code",
   "execution_count": null,
   "metadata": {
    "collapsed": false
   },
   "outputs": [],
   "source": [
    "print(re.search('b', 'abc'))"
   ]
  },
  {
   "cell_type": "code",
   "execution_count": null,
   "metadata": {
    "collapsed": false
   },
   "outputs": [],
   "source": [
    "print(re.match('b', 'abc'))"
   ]
  },
  {
   "cell_type": "code",
   "execution_count": null,
   "metadata": {
    "collapsed": false
   },
   "outputs": [],
   "source": [
    "print(re.match('a', 'abc'))"
   ]
  },
  {
   "cell_type": "code",
   "execution_count": null,
   "metadata": {
    "collapsed": false
   },
   "outputs": [],
   "source": [
    "print(re.split(r'\\W+', 'Words, words, words.'))"
   ]
  },
  {
   "cell_type": "code",
   "execution_count": null,
   "metadata": {
    "collapsed": false
   },
   "outputs": [],
   "source": [
    "print(re.split(r'(\\W+)', 'Words, words, words.'))"
   ]
  },
  {
   "cell_type": "code",
   "execution_count": null,
   "metadata": {
    "collapsed": false
   },
   "outputs": [],
   "source": [
    "text = 'ddabababababcc'\n",
    "p = re.compile('(ab)+')\n",
    "span = p.search(text).span()\n",
    "print(span)\n",
    "print(text[span[0]:span[1]])"
   ]
  },
  {
   "cell_type": "code",
   "execution_count": null,
   "metadata": {
    "collapsed": false
   },
   "outputs": [],
   "source": [
    "p = re.compile('a/{,3}b')\n",
    "print(p.match('ab'))\n",
    "print(p.match('a/b'))\n",
    "print(p.match('a//b'))\n",
    "print(p.match('a///b'))\n",
    "print(p.match('a////b'))"
   ]
  },
  {
   "cell_type": "code",
   "execution_count": null,
   "metadata": {
    "collapsed": false
   },
   "outputs": [],
   "source": [
    "print(re.search(r'\\bfoo\\b', 'bar foo baz').group())"
   ]
  },
  {
   "cell_type": "code",
   "execution_count": null,
   "metadata": {
    "collapsed": false
   },
   "outputs": [],
   "source": [
    "print(re.findall(r'[0-9]', 'a1b2c3d4e5'))"
   ]
  },
  {
   "cell_type": "code",
   "execution_count": null,
   "metadata": {
    "collapsed": false
   },
   "outputs": [],
   "source": [
    "for m in re.finditer(r'[0-9]','a1b2c3d4e5'):\n",
    "    print(m.group(0), m.span())"
   ]
  },
  {
   "cell_type": "markdown",
   "metadata": {},
   "source": [
    "## Notacja „raw string”"
   ]
  },
  {
   "cell_type": "raw",
   "metadata": {},
   "source": [
    "Cel: \\section\n",
    "Wyrażenie: \\\\section\n",
    "Stała łańcuchowa: \\\\\\\\section"
   ]
  },
  {
   "cell_type": "code",
   "execution_count": null,
   "metadata": {
    "collapsed": false
   },
   "outputs": [],
   "source": [
    "re.match(r\"\\W(.)\\1\\W\", \" ff \").group()"
   ]
  },
  {
   "cell_type": "code",
   "execution_count": null,
   "metadata": {
    "collapsed": false
   },
   "outputs": [],
   "source": [
    "re.match(\"\\\\W(.)\\\\1\\\\W\", \" ff \").group()"
   ]
  },
  {
   "cell_type": "markdown",
   "metadata": {},
   "source": [
    "## Niezachłanne dopasowania"
   ]
  },
  {
   "cell_type": "raw",
   "metadata": {},
   "source": [
    "- *?\n",
    "- +?\n",
    "- ??\n",
    "- {m,n}?"
   ]
  },
  {
   "cell_type": "code",
   "execution_count": null,
   "metadata": {
    "collapsed": false
   },
   "outputs": [],
   "source": [
    "s = '<html><head><title>Title</title>'"
   ]
  },
  {
   "cell_type": "code",
   "execution_count": null,
   "metadata": {
    "collapsed": false
   },
   "outputs": [],
   "source": [
    "print(re.match('<.*>', s).group())"
   ]
  },
  {
   "cell_type": "code",
   "execution_count": null,
   "metadata": {
    "collapsed": false
   },
   "outputs": [],
   "source": [
    "print(re.match('<.*?>', s).group())"
   ]
  },
  {
   "cell_type": "markdown",
   "metadata": {},
   "source": [
    "## Grupowanie"
   ]
  },
  {
   "cell_type": "code",
   "execution_count": null,
   "metadata": {
    "collapsed": false
   },
   "outputs": [],
   "source": [
    "p = re.compile('(a(b)c)d')\n",
    "m = p.match('abcd')"
   ]
  },
  {
   "cell_type": "code",
   "execution_count": null,
   "metadata": {
    "collapsed": false
   },
   "outputs": [],
   "source": [
    "m.group(0)"
   ]
  },
  {
   "cell_type": "code",
   "execution_count": null,
   "metadata": {
    "collapsed": false
   },
   "outputs": [],
   "source": [
    "m.group(1)"
   ]
  },
  {
   "cell_type": "code",
   "execution_count": null,
   "metadata": {
    "collapsed": false
   },
   "outputs": [],
   "source": [
    "m.group(2)"
   ]
  },
  {
   "cell_type": "code",
   "execution_count": null,
   "metadata": {
    "collapsed": false
   },
   "outputs": [],
   "source": [
    "#Match dates formatted like MM/DD/YYYY, MM-DD-YY,...\n",
    "import re\n",
    "\n",
    "date = '01/12/2013'\n",
    "\n",
    "regex = re.compile(r'^(?P<day>\\d\\d)[-/](?P<month>\\d\\d)[-/](?P<year>\\d\\d(?:\\d\\d)?)$')\n",
    "\n",
    "match = regex.match(date)"
   ]
  },
  {
   "cell_type": "code",
   "execution_count": null,
   "metadata": {
    "collapsed": false
   },
   "outputs": [],
   "source": [
    "print(match.group(0), match.group(1), match.group(2), match.group(3))"
   ]
  },
  {
   "cell_type": "code",
   "execution_count": null,
   "metadata": {
    "collapsed": false
   },
   "outputs": [],
   "source": [
    "print(match.group('day'), match.group('month'), match.group('year'))"
   ]
  },
  {
   "cell_type": "code",
   "execution_count": null,
   "metadata": {
    "collapsed": false
   },
   "outputs": [],
   "source": [
    "print(match.groups())"
   ]
  },
  {
   "cell_type": "code",
   "execution_count": null,
   "metadata": {
    "collapsed": false
   },
   "outputs": [],
   "source": [
    "print(regex.groupindex)"
   ]
  },
  {
   "cell_type": "code",
   "execution_count": null,
   "metadata": {
    "collapsed": false
   },
   "outputs": [],
   "source": [
    "re.match(r'(ala) \\1', 'ala ala').group(0)"
   ]
  },
  {
   "cell_type": "markdown",
   "metadata": {},
   "source": [
    "## Extension Notation (?...)"
   ]
  },
  {
   "cell_type": "markdown",
   "metadata": {},
   "source": [
    "Nazwana grupa (?P<name>...)\n",
    "\n",
    "Powielenie (?P=)\n",
    "\n",
    "Nieprzechwytująca grupa (?:foo)\n",
    "\n",
    "Positive Lookahead (?=...)\n",
    "\n",
    "Negative Lookahead (?!...)\n",
    "\n",
    "Positive look behind (?<=regex)\n",
    "\n",
    "Negative look behind (?<!regex)\n",
    "\n",
    "Warunkowe wyrażenie (?(id/name)yes-pattern|no-pattern)"
   ]
  },
  {
   "cell_type": "markdown",
   "metadata": {},
   "source": [
    "### Powielenie (?P=<name>)"
   ]
  },
  {
   "cell_type": "code",
   "execution_count": null,
   "metadata": {
    "collapsed": false
   },
   "outputs": [],
   "source": [
    "p = re.compile(r'(?P<word>\\b\\w+)\\s+(?P=word)')"
   ]
  },
  {
   "cell_type": "code",
   "execution_count": null,
   "metadata": {
    "collapsed": false
   },
   "outputs": [],
   "source": [
    "p.match('ala ala').group()"
   ]
  },
  {
   "cell_type": "code",
   "execution_count": null,
   "metadata": {
    "collapsed": false
   },
   "outputs": [],
   "source": [
    "p = re.compile(r'(?P<word>\\b\\w+)\\s+\\1')"
   ]
  },
  {
   "cell_type": "code",
   "execution_count": null,
   "metadata": {
    "collapsed": false
   },
   "outputs": [],
   "source": [
    "p.match('ala ala').group()"
   ]
  },
  {
   "cell_type": "markdown",
   "metadata": {},
   "source": [
    "### Nieprzechwytująca grupa (?:foo)"
   ]
  },
  {
   "cell_type": "code",
   "execution_count": null,
   "metadata": {
    "collapsed": false
   },
   "outputs": [],
   "source": [
    "re.match(r'(\\w+@\\w+(?:\\.\\w+)+)','adres@uj.edu.pl').groups()"
   ]
  },
  {
   "cell_type": "markdown",
   "metadata": {},
   "source": [
    "### Positive Lookahead (?=...)"
   ]
  },
  {
   "cell_type": "code",
   "execution_count": null,
   "metadata": {
    "collapsed": false
   },
   "outputs": [],
   "source": [
    "re.match(r'(\\w+(?=@\\w+(?:.\\w+)+))','adres@uj.edu.pl').group()"
   ]
  },
  {
   "cell_type": "code",
   "execution_count": null,
   "metadata": {
    "collapsed": false
   },
   "outputs": [],
   "source": [
    "re.match(r'(\\w+(?=@\\w+(?:.\\w+)+)@)','adres@uj.edu.pl').group()"
   ]
  },
  {
   "cell_type": "markdown",
   "metadata": {},
   "source": [
    "### Negative Lookahead (?!...)"
   ]
  },
  {
   "cell_type": "code",
   "execution_count": null,
   "metadata": {
    "collapsed": false
   },
   "outputs": [],
   "source": [
    "s='plik.py'\n",
    "re.match(r'(.*)[.](?!bat$|exe$).*$',s).group(1)"
   ]
  },
  {
   "cell_type": "code",
   "execution_count": null,
   "metadata": {
    "collapsed": false
   },
   "outputs": [],
   "source": [
    "s='plik.bat'\n",
    "re.match(r'(.*)[.](?!bat$|exe$).*$',s).group(1)"
   ]
  },
  {
   "cell_type": "markdown",
   "metadata": {},
   "source": [
    "### Positive Lookbehind"
   ]
  },
  {
   "cell_type": "code",
   "execution_count": null,
   "metadata": {
    "collapsed": false
   },
   "outputs": [],
   "source": [
    "s='From: adres@uj.edu.pl'\n",
    "re.search(r'(?<=From: )(.*)',s).groups()"
   ]
  },
  {
   "cell_type": "code",
   "execution_count": null,
   "metadata": {
    "collapsed": false
   },
   "outputs": [],
   "source": [
    "s='From: adres@uj.edu.pl'\n",
    "re.search(r'(?<=F*)(.*)',s).groups()"
   ]
  },
  {
   "cell_type": "markdown",
   "metadata": {},
   "source": [
    "### Negative Lookbehind "
   ]
  },
  {
   "cell_type": "code",
   "execution_count": null,
   "metadata": {
    "collapsed": false
   },
   "outputs": [],
   "source": [
    "s='From: adres@uj.edu.pl'\n",
    "re.search(r'(?<!^Subject)(?<=: )(.*)',s).group()"
   ]
  },
  {
   "cell_type": "markdown",
   "metadata": {},
   "source": [
    "## Flagi"
   ]
  },
  {
   "cell_type": "raw",
   "metadata": {},
   "source": [
    "re.compile( regex, flags)\n",
    "DOTALL , S\n",
    " re.compile(„.*”, re.S)\n",
    "IGNORECASE, I\n",
    "LOCALE, L\n",
    "MULTILINE, M\n",
    "VERBOSE, X\n",
    "\n",
    "re.compile( „a*”, re.I | re.M )\n",
    "re.compile(„(?xm)a*”)\n"
   ]
  },
  {
   "cell_type": "markdown",
   "metadata": {},
   "source": [
    "### re.VERBOSE"
   ]
  },
  {
   "cell_type": "code",
   "execution_count": null,
   "metadata": {
    "collapsed": false
   },
   "outputs": [],
   "source": [
    "pat = re.compile(r\"\\s*(?P<header>[^:]+)\\s*:(?P<value>.*?)\\s*$\")"
   ]
  },
  {
   "cell_type": "code",
   "execution_count": null,
   "metadata": {
    "collapsed": false
   },
   "outputs": [],
   "source": [
    "pat.match('From: adres@uj.edu.pl').groups()"
   ]
  },
  {
   "cell_type": "code",
   "execution_count": null,
   "metadata": {
    "collapsed": false
   },
   "outputs": [],
   "source": [
    "pat = re.compile(r\"\"\"\n",
    "    \\s*               # Skip leading whitespace\n",
    "    (?P<header>[^:]+) # Header name\n",
    "    \\s* :             # Whitespace, and a colon\n",
    "    (?P<value>.*?)    # The header's value -- *? used to\n",
    "                      # lose the following trailing whitespace\n",
    "    \\s*$\n",
    "\"\"\", re.VERBOSE)\n"
   ]
  },
  {
   "cell_type": "code",
   "execution_count": null,
   "metadata": {
    "collapsed": false
   },
   "outputs": [],
   "source": [
    "pat.match('From: adres@uj.edu.pl').groups()"
   ]
  },
  {
   "cell_type": "markdown",
   "metadata": {},
   "source": [
    "### re.IGNORECASE"
   ]
  },
  {
   "cell_type": "code",
   "execution_count": null,
   "metadata": {
    "collapsed": false
   },
   "outputs": [],
   "source": [
    "re.match(r'(?i)ala','Ala').group()"
   ]
  },
  {
   "cell_type": "markdown",
   "metadata": {},
   "source": [
    "### re.MULTILINE re.DOTALL"
   ]
  },
  {
   "cell_type": "code",
   "execution_count": null,
   "metadata": {
    "collapsed": false
   },
   "outputs": [],
   "source": [
    "s=\"\"\"Ala ma\n",
    "kota\"\"\"\n",
    "\n",
    "print(re.match(r'^A.*ta$', s))\n",
    "print(re.match(r'(?ms)^A.*ta$', s))"
   ]
  },
  {
   "cell_type": "code",
   "execution_count": null,
   "metadata": {
    "collapsed": false
   },
   "outputs": [],
   "source": [
    "p = re.compile('.*', re.DEBUG)\n",
    "\n",
    "\n",
    "p = re.compile('(<)?(\\w+@\\w+(?:\\.\\w+)+)(?(1)>)', re.DEBUG)\n",
    "\n"
   ]
  },
  {
   "cell_type": "markdown",
   "metadata": {},
   "source": [
    "## Podstawienie"
   ]
  },
  {
   "cell_type": "raw",
   "metadata": {},
   "source": [
    "re.sub(pattern, repl, string)\n",
    "regex.sub(repl,string)"
   ]
  },
  {
   "cell_type": "code",
   "execution_count": null,
   "metadata": {
    "collapsed": false
   },
   "outputs": [],
   "source": [
    "#urlify - turn URLs into HTML links\n",
    "import re\n",
    "\n",
    "text = 'Check the web site, http://www.oreilly.com/catalog/regexppr.'\n",
    "\n",
    "pattern = r'''\n",
    "    \\b                                    # start at word boundary\n",
    "    (                                     # capture to \\1\n",
    "    (https?|telnet|gopher|file|wais|ftp) :# resource and colon\n",
    "    [\\w/#~:.?+=&%@!\\-] +?                 # one or more valid chars\n",
    "                                          # take little as possible\n",
    "    )\n",
    "    (?=                                   # lookahead\n",
    "    [.:?\\-] *                             # for possible punc\n",
    "    (?: [^\\w/#~:.?+=&%@!\\-]               # invalid character\n",
    "    | $ )                                 # or end of string\n",
    "    )'''\n",
    "\n",
    "regex = re.compile(pattern, re.IGNORECASE | re.VERBOSE)\n",
    "result = regex.sub(r'<a href=\"\\1\">\\1</a>', text)\n",
    "\n",
    "print(result)"
   ]
  },
  {
   "cell_type": "markdown",
   "metadata": {},
   "source": [
    "### Podstawienie funkcją"
   ]
  },
  {
   "cell_type": "code",
   "execution_count": null,
   "metadata": {
    "collapsed": false
   },
   "outputs": [],
   "source": [
    "import random\n",
    "def repl(m):\n",
    "    inner_word = list(m.group())\n",
    "    random.shuffle(inner_word)\n",
    "    return \"\".join(inner_word)\n"
   ]
  },
  {
   "cell_type": "code",
   "execution_count": null,
   "metadata": {
    "collapsed": false
   },
   "outputs": [],
   "source": [
    "text = \"Professor Abdolmalek, please report your absences promptly.\"\n",
    "re.sub(\"(?:\\w)(\\w+)(?:\\w)\", repl, text)"
   ]
  },
  {
   "cell_type": "code",
   "execution_count": null,
   "metadata": {
    "collapsed": false
   },
   "outputs": [],
   "source": [
    "indent = lambda s: min(map(len,re.findall('^ *(?=\\S)', s, re.MULTILINE)))\n",
    "flush_left = lambda s: re.sub('^ {%d}' % indent(s), '', s, flags=re.MULTILINE)"
   ]
  },
  {
   "cell_type": "code",
   "execution_count": null,
   "metadata": {
    "collapsed": false
   },
   "outputs": [],
   "source": [
    "s=\"\"\"    \n",
    "    Bardzo\n",
    "       roznie\n",
    "     wciety\n",
    "    tekst \n",
    "\"\"\"\n",
    "print(s)\n",
    "print()\n",
    "print(flush_left(s))"
   ]
  },
  {
   "cell_type": "code",
   "execution_count": null,
   "metadata": {
    "collapsed": true
   },
   "outputs": [],
   "source": []
  }
 ],
 "metadata": {
  "kernelspec": {
   "display_name": "Python 3",
   "language": "python",
   "name": "python3"
  },
  "language_info": {
   "codemirror_mode": {
    "name": "ipython",
    "version": 3
   },
   "file_extension": ".py",
   "mimetype": "text/x-python",
   "name": "python",
   "nbconvert_exporter": "python",
   "pygments_lexer": "ipython3",
   "version": "3.4.4"
  }
 },
 "nbformat": 4,
 "nbformat_minor": 0
}
