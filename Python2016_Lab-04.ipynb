{
 "cells": [
  {
   "cell_type": "markdown",
   "metadata": {},
   "source": [
    "## Język Python - Laboratorium 4."
   ]
  },
  {
   "cell_type": "markdown",
   "metadata": {},
   "source": [
    "## ZADANIE 1"
   ]
  },
  {
   "cell_type": "markdown",
   "metadata": {},
   "source": [
    "Napisz manager kontekstu, który zapisze do pliku podanego w argumencie czas wykonywania się tego bloku kodu. Przydatny będzie moduł `time` oraz funkcja `open`"
   ]
  },
  {
   "cell_type": "code",
   "execution_count": null,
   "metadata": {
    "collapsed": false
   },
   "outputs": [],
   "source": [
    "from time import sleep, time\n",
    "import os\n",
    "\n",
    "class LoggingTime:    \n",
    "    pass\n",
    "\n",
    "for valid in range(6):\n",
    "    \n",
    "    with LoggingTime('tmp.txt'):\n",
    "        sleep(valid)\n",
    "        \n",
    "    with open('tmp.txt') as fh:\n",
    "        value = float(fh.read())\n",
    "        print('Took %fs, should take %ds, is it ok? %s' % (value, valid, round(value) == round(valid)))\n",
    "        \n",
    "    os.remove('tmp.txt')"
   ]
  },
  {
   "cell_type": "markdown",
   "metadata": {},
   "source": [
    "## ZADANIE 2\n",
    "Napisz manager kontekstu, który sprawi, że funkcja generująca kolejne liczby fibonnaciego \"przesunie\" się o zadaną liczbę pozycji na czas kontekstu. Po wyjściu z kontekstu powinna wracać do wyjściowego stanu. Innymi slowy, chcemy móc w obrębie \"with\" pracować z liczbami fibonnaciego o k dalszymi, ale po skończeniu się \"with\" chcemy żeby wyjściowa zmienna była nienaruszona. Manager powinien działać z dowolną klasą, która posiada metodę \"next_value\"."
   ]
  },
  {
   "cell_type": "code",
   "execution_count": null,
   "metadata": {
    "collapsed": false
   },
   "outputs": [],
   "source": [
    "class Fibonnaci:\n",
    "    \n",
    "    def __init__(self):\n",
    "        self.fib = 0\n",
    "        self.last = -1           \n",
    "        \n",
    "    def next_value(self):\n",
    "        if self.last == -1:\n",
    "            self.last = 0\n",
    "            self.fib = 1\n",
    "        else:\n",
    "            self.last, self.fib = self.fib, self.fib + self.last\n",
    "        return self.fib\n",
    "    \n",
    "    def current_value(self):\n",
    "        return self.fib\n",
    "    \n",
    "class Shifted:\n",
    "    \n",
    "    pass\n",
    "    \n",
    "F = Fibonnaci()\n",
    "x = F.next_value()\n",
    "\n",
    "with Shifted(F, 0) as fib:\n",
    "    for i, v in zip(range(1, 10), [1,  2, 3, 5, 8, 13, 21, 34, 55]):\n",
    "        f = fib.next_value()\n",
    "        print(\"Iteration %d\\t Value %d \\t Valid %s\" % (i, f, f == v))\n",
    "\n",
    "# Teraz F powinno dalej wskazywac na x\n",
    "print('Is F still correct? %s' % (x == F.current_value()))\n",
    "\n",
    "with Shifted(F, 9) as fib:\n",
    "    for i, v in zip(range(1, 10), [89, 144, 233, 377, 610, 987, 1597, 2584, 4181]):\n",
    "        f = fib.next_value()\n",
    "        print(\"Iteration %d\\t Value %d \\t Valid %s\" % (i, f, f == v))"
   ]
  },
  {
   "cell_type": "markdown",
   "metadata": {},
   "source": [
    "## ZADANIE 3\n",
    "Napisz klasę \"Bag of words\", która będzie \"workiem słów\" z zadanego dokumentu. Oznacza to, że ma w sobie przechowywać informacje o tym ile razy każde słowo wystąpiło w dokumencie. Dodatkowo ma udostępniać następującą funkcjonalność:\n",
    "\n",
    "* Można utworzyć go na dwa sposoby:\n",
    "\n",
    "         bow = BagOfWords(\"ala ma kota ala ma ala\")\n",
    "         bow = BagOfWords(open(\"plik.txt\"))\n",
    "         \n",
    "* Możliwość wyświetlania go po prostu pisząc `print(bow)` (kolejność taka sama jak przy przeglądaniu forem)\n",
    "\n",
    "        ala:3, ma:2, kota:1\n",
    "\n",
    "* Sprawdzanie czy jakieś słowo należy do naszego worka pisząc \n",
    "\n",
    "        if 'ala' in bow:\n",
    "            ...\n",
    "            \n",
    "* Przeglądanie słów w worku od najczęściej do najrzadziej występującego, czyli\n",
    "\n",
    "        for word in bow:\n",
    "            print(word)\n",
    "     \n",
    "  powinniśmy zobaczyć \n",
    "  \n",
    "        ala\n",
    "        ma\n",
    "        kota\n",
    "        \n",
    "* Możliwość dodawania dwóch worków, pisząc\n",
    "\n",
    "        bow1 = BagOfWords(\"ala ma kota ala ma ala\")\n",
    "        bow2 = BagOfWords(\"tomek tez ma kota\")\n",
    "        bow3 = bow1 + bow2\n",
    "        print('tomek' in bow1) # False\n",
    "        print('tomek' in bow3) # True\n",
    "        print('ala' in bow3) # True\n",
    "        print(bow3) # ala:3, ma:3, kota:2, tez:1, tomek:1\n",
    "        \n",
    "* Odczytywanie częstości wystąpień słów poprzez nawiasy kwadratowe \n",
    "\n",
    "        print(bow1[\"ala\"]) # 3\n",
    "        print(bow3[\"ala\"]) # 3\n",
    "\n",
    "* Aktualizację cześtości wystąpień\n",
    "\n",
    "        bow3['tomek'] = 10\n",
    "        for el in bow3:\n",
    "            print(el)\n",
    "            \n",
    "  powinno wyświetlić najpierw \"tomek\""
   ]
  },
  {
   "cell_type": "code",
   "execution_count": null,
   "metadata": {
    "collapsed": false
   },
   "outputs": [],
   "source": [
    "class BagOfWords:\n",
    "    \n",
    "    pass"
   ]
  },
  {
   "cell_type": "markdown",
   "metadata": {},
   "source": [
    "Napisz klasę pochodną o nazwie `SetOfWords`, która zapamiętuje jedynie które słowa wystąpiły, bez zliczania ile razy. Powinno zmienić się wyświetlanie (zamiast 'ala:3, ma:2, kota:1' powinniśmy zobaczyć 'ala, ma, kota'), postaraj się napisać ją jak najwydajniej. Z których elementów obecnych wewnątrz klasy `BagOfWords` możesz zrezygnować? Dlaczego? Jak dużo kodu musisz zmodyfikować by mieć z jednej strony poprawną implementację a z drugiej jak najmniej zmienić klasy bazowej?"
   ]
  },
  {
   "cell_type": "code",
   "execution_count": null,
   "metadata": {
    "collapsed": false
   },
   "outputs": [],
   "source": [
    "class SetOfWords(BagOfWords):\n",
    "    \n",
    "    pass"
   ]
  },
  {
   "cell_type": "markdown",
   "metadata": {},
   "source": [
    "## Zadanie dodatkowe\n",
    "\n",
    "Przerób implementację `BagOfWords` na `BagOfPairsOfWords`, gdzie zamiast przechowywać liczność pojedynczych słów, przechowuj jak wiele razy wystąpiły obok siebie pary słów, np.\n",
    "\n",
    "        \"ala ma kota ala ma psa\"\n",
    "        \n",
    "zawiera następujące pary:\n",
    "\n",
    "        (None, 'ala'): 1\n",
    "        ('ala', 'ma'): 2\n",
    "        ('ma', 'kota'): 1\n",
    "        ('kota', 'ala'): 1\n",
    "        ('ma', 'psa'): 1\n",
    "        ('psa', None): 1\n",
    "        \n",
    "Powinny działać wszystkie funkcjonalności `BagOfWords`, po prostu pracujemy na parach, czyli np.\n",
    "\n",
    "        bopow = BagOfPairsOfWords('ala ma kota ala ma psa')\n",
    "        bopow[('ala', 'ma')] == 2\n",
    "        ('ala', 'ma') in bopow\n",
    "        for word1, word2 in bopow:\n",
    "            print(word1, word2, bopow[(word1, word2)])\n",
    "            \n",
    "Dodatkowo jeśli użytkownik poprosi o słowo, zamiast o parę to powinien dostać wszystkie słowa, z którymi zadane występuje w parze, czyli np.\n",
    "\n",
    "        for word in bopow['ala']:\n",
    "            print word, bopow[('ala', word)]\n",
    "            \n",
    "wyświetla \n",
    "\n",
    "        ma, 2\n"
   ]
  },
  {
   "cell_type": "code",
   "execution_count": null,
   "metadata": {
    "collapsed": true
   },
   "outputs": [],
   "source": [
    ""
   ]
  }
 ],
 "metadata": {
  "kernelspec": {
   "display_name": "Python 3",
   "language": "python",
   "name": "python3"
  },
  "language_info": {
   "codemirror_mode": {
    "name": "ipython",
    "version": 3.0
   },
   "file_extension": ".py",
   "mimetype": "text/x-python",
   "name": "python",
   "nbconvert_exporter": "python",
   "pygments_lexer": "ipython3",
   "version": "3.4.4"
  }
 },
 "nbformat": 4,
 "nbformat_minor": 0
}