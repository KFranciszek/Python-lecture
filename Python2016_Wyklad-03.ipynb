{
 "cells": [
  {
   "cell_type": "markdown",
   "metadata": {},
   "source": [
    "# Język Python - Wykład 3"
   ]
  },
  {
   "cell_type": "markdown",
   "metadata": {},
   "source": [
    "## Closures (Domknięcia)"
   ]
  },
  {
   "cell_type": "markdown",
   "metadata": {},
   "source": [
    "#### Domknięcie - funkcja wraz z otoczeniem referencyjnym (wszystkie zmienne z czasu utworzenia) - dostępne nawet po opuszczeniu otoczenia leksykalnego"
   ]
  },
  {
   "cell_type": "markdown",
   "metadata": {},
   "source": [
    "Funkcje zagnieżdzone:"
   ]
  },
  {
   "cell_type": "code",
   "execution_count": 1,
   "metadata": {
    "collapsed": true
   },
   "outputs": [],
   "source": [
    "def outer():\n",
    "    x = 137\n",
    "    def inner():\n",
    "        print(x)\n",
    "    inner()"
   ]
  },
  {
   "cell_type": "code",
   "execution_count": 4,
   "metadata": {
    "collapsed": false
   },
   "outputs": [
    {
     "name": "stdout",
     "output_type": "stream",
     "text": [
      "137\n"
     ]
    }
   ],
   "source": [
    "outer()"
   ]
  },
  {
   "cell_type": "markdown",
   "metadata": {},
   "source": [
    "Funkcje jako obiekty"
   ]
  },
  {
   "cell_type": "code",
   "execution_count": 5,
   "metadata": {
    "collapsed": true
   },
   "outputs": [],
   "source": [
    "def add(x,y):\n",
    "    return x+y\n",
    "def apply(f,x,y):\n",
    "    return(f(x,y))"
   ]
  },
  {
   "cell_type": "code",
   "execution_count": 6,
   "metadata": {
    "collapsed": false
   },
   "outputs": [
    {
     "data": {
      "text/plain": [
       "4"
      ]
     },
     "execution_count": 6,
     "metadata": {},
     "output_type": "execute_result"
    }
   ],
   "source": [
    "apply(add,2,2)"
   ]
  },
  {
   "cell_type": "markdown",
   "metadata": {},
   "source": [
    "Domknięcia"
   ]
  },
  {
   "cell_type": "code",
   "execution_count": 21,
   "metadata": {
    "collapsed": false
   },
   "outputs": [],
   "source": [
    "def generate_power_func(n):\n",
    "    print(\"id(n): {:X}\".format(id(n)))    \n",
    "    def nth_power(x):\n",
    "        return x**n\n",
    "    print(\"id(nth_power): {:X}\".format(id(nth_power)))\n",
    "    return nth_power"
   ]
  },
  {
   "cell_type": "code",
   "execution_count": 22,
   "metadata": {
    "collapsed": false
   },
   "outputs": [
    {
     "name": "stdout",
     "output_type": "stream",
     "text": [
      "id(n): 618BE3A0\n",
      "id(nth_power): 140D2B8\n"
     ]
    }
   ],
   "source": [
    "raised_to_4 = generate_power_func(4)"
   ]
  },
  {
   "cell_type": "code",
   "execution_count": 23,
   "metadata": {
    "collapsed": false
   },
   "outputs": [
    {
     "data": {
      "text/plain": [
       "'<function generate_power_func.<locals>.nth_power at 0x0140D2B8>'"
      ]
     },
     "execution_count": 23,
     "metadata": {},
     "output_type": "execute_result"
    }
   ],
   "source": [
    "repr(raised_to_4)"
   ]
  },
  {
   "cell_type": "code",
   "execution_count": 24,
   "metadata": {
    "collapsed": true
   },
   "outputs": [],
   "source": [
    "del generate_power_func"
   ]
  },
  {
   "cell_type": "code",
   "execution_count": 25,
   "metadata": {
    "collapsed": false
   },
   "outputs": [
    {
     "ename": "NameError",
     "evalue": "name 'generate_power_func' is not defined",
     "output_type": "error",
     "traceback": [
      "\u001b[0;31m---------------------------------------------------------------------------\u001b[0m",
      "\u001b[0;31mNameError\u001b[0m                                 Traceback (most recent call last)",
      "\u001b[0;32m<ipython-input-25-627bb15d9ada>\u001b[0m in \u001b[0;36m<module>\u001b[0;34m()\u001b[0m\n\u001b[0;32m----> 1\u001b[0;31m \u001b[0mgenerate_power_func\u001b[0m\u001b[1;33m(\u001b[0m\u001b[1;36m1\u001b[0m\u001b[1;33m)\u001b[0m\u001b[1;33m\u001b[0m\u001b[0m\n\u001b[0m",
      "\u001b[0;31mNameError\u001b[0m: name 'generate_power_func' is not defined"
     ]
    }
   ],
   "source": [
    "generate_power_func(1)"
   ]
  },
  {
   "cell_type": "code",
   "execution_count": 26,
   "metadata": {
    "collapsed": false
   },
   "outputs": [
    {
     "data": {
      "text/plain": [
       "16"
      ]
     },
     "execution_count": 26,
     "metadata": {},
     "output_type": "execute_result"
    }
   ],
   "source": [
    "raised_to_4(2)"
   ]
  },
  {
   "cell_type": "code",
   "execution_count": 31,
   "metadata": {
    "collapsed": false
   },
   "outputs": [
    {
     "data": {
      "text/plain": [
       "4"
      ]
     },
     "execution_count": 31,
     "metadata": {},
     "output_type": "execute_result"
    }
   ],
   "source": [
    "raised_to_4.__closure__[0].cell_contents"
   ]
  },
  {
   "cell_type": "markdown",
   "metadata": {},
   "source": [
    "Domkniecia c.d."
   ]
  },
  {
   "cell_type": "code",
   "execution_count": 53,
   "metadata": {
    "collapsed": false
   },
   "outputs": [],
   "source": [
    "def outer():\n",
    "    x = 137\n",
    "    def inner():\n",
    "        nonlocal x\n",
    "        print(\"inner\", x)\n",
    "        x = 0\n",
    "    print(\"outer pre\", x)\n",
    "    inner()\n",
    "    print(\"outer post\", x)"
   ]
  },
  {
   "cell_type": "code",
   "execution_count": 54,
   "metadata": {
    "collapsed": false
   },
   "outputs": [
    {
     "name": "stdout",
     "output_type": "stream",
     "text": [
      "outer pre 137\n",
      "inner 137\n",
      "outer post 0\n"
     ]
    }
   ],
   "source": [
    "outer()"
   ]
  },
  {
   "cell_type": "code",
   "execution_count": 40,
   "metadata": {
    "collapsed": false
   },
   "outputs": [
    {
     "name": "stdout",
     "output_type": "stream",
     "text": [
      "salad\n",
      "salad\n",
      "salad\n"
     ]
    }
   ],
   "source": [
    "def foo():\n",
    "    bar = []\n",
    "    for spam in ('ham', 'eggs', 'salad'):\n",
    "        bar.append(lambda: spam)\n",
    "    return bar\n",
    "\n",
    "for bar in foo():\n",
    "    print(bar())"
   ]
  },
  {
   "cell_type": "markdown",
   "metadata": {},
   "source": [
    "## Dekoratory"
   ]
  },
  {
   "cell_type": "code",
   "execution_count": 60,
   "metadata": {
    "collapsed": false
   },
   "outputs": [],
   "source": [
    "def enhanced(function):\n",
    "    def tmp(y):\n",
    "        print(\"But now, I am enhanced\")\n",
    "        return function(y)\n",
    "    return tmp\n"
   ]
  },
  {
   "cell_type": "code",
   "execution_count": 61,
   "metadata": {
    "collapsed": false
   },
   "outputs": [],
   "source": [
    "def f(n):\n",
    "    print(\"Just a simple method printing %d.\" % n)"
   ]
  },
  {
   "cell_type": "code",
   "execution_count": 62,
   "metadata": {
    "collapsed": false
   },
   "outputs": [
    {
     "name": "stdout",
     "output_type": "stream",
     "text": [
      "Just a simple method printing 1.\n"
     ]
    }
   ],
   "source": [
    "f(1)"
   ]
  },
  {
   "cell_type": "code",
   "execution_count": 63,
   "metadata": {
    "collapsed": false
   },
   "outputs": [],
   "source": [
    "f = enhanced(f)"
   ]
  },
  {
   "cell_type": "code",
   "execution_count": 64,
   "metadata": {
    "collapsed": false
   },
   "outputs": [
    {
     "name": "stdout",
     "output_type": "stream",
     "text": [
      "But now, I am enhanced\n",
      "Just a simple method printing 1.\n"
     ]
    }
   ],
   "source": [
    "f(1)"
   ]
  },
  {
   "cell_type": "code",
   "execution_count": 65,
   "metadata": {
    "collapsed": false
   },
   "outputs": [],
   "source": [
    "@enhanced\n",
    "def g(n):\n",
    "    print(\"Another simple method printing %d.\" % n)"
   ]
  },
  {
   "cell_type": "code",
   "execution_count": 66,
   "metadata": {
    "collapsed": false
   },
   "outputs": [
    {
     "name": "stdout",
     "output_type": "stream",
     "text": [
      "But now, I am enhanced\n",
      "Another simple method printing 2.\n"
     ]
    }
   ],
   "source": [
    "g(2)"
   ]
  },
  {
   "cell_type": "code",
   "execution_count": 67,
   "metadata": {
    "collapsed": false
   },
   "outputs": [],
   "source": [
    "def veryenhanced(function):\n",
    "    def new(y):\n",
    "        print(\"But now, I am very enhanced\")\n",
    "        return function(y)\n",
    "    return new"
   ]
  },
  {
   "cell_type": "code",
   "execution_count": 68,
   "metadata": {
    "collapsed": false
   },
   "outputs": [],
   "source": [
    "@veryenhanced\n",
    "@enhanced\n",
    "def h(n):\n",
    "    print(\"So simple method printing %d.\" % n)"
   ]
  },
  {
   "cell_type": "code",
   "execution_count": 69,
   "metadata": {
    "collapsed": false
   },
   "outputs": [
    {
     "name": "stdout",
     "output_type": "stream",
     "text": [
      "But now, I am very enhanced\n",
      "But now, I am enhanced\n",
      "So simple method printing 3.\n"
     ]
    }
   ],
   "source": [
    "h(3)"
   ]
  },
  {
   "cell_type": "markdown",
   "metadata": {},
   "source": [
    "    #Example ...\n",
    "    @synchronized\n",
    "    @logging\n",
    "    def myfunc(arg1, arg2, ...):\n",
    "    # ...do something\n"
   ]
  },
  {
   "cell_type": "markdown",
   "metadata": {},
   "source": [
    "Ciąg dalszy nastąpi za chwilę..."
   ]
  },
  {
   "cell_type": "markdown",
   "metadata": {},
   "source": [
    "## Obiektowość"
   ]
  },
  {
   "cell_type": "code",
   "execution_count": 72,
   "metadata": {
    "collapsed": false
   },
   "outputs": [
    {
     "data": {
      "text/plain": [
       "'hello world'"
      ]
     },
     "execution_count": 72,
     "metadata": {},
     "output_type": "execute_result"
    }
   ],
   "source": [
    "class MyClass:\n",
    "    \n",
    "    def f(self, m):\n",
    "        self.n = m\n",
    "        return 'hello world'\n",
    "    \n",
    "    def __init__(self):\n",
    "        self.n = 12345  # zmienna instancji (pole zwykłe)\n",
    "    i = 12345  # zmienna klasy (pole statyczne)\n",
    "\n",
    "m = MyClass()\n",
    "m.f(1)\n",
    "    "
   ]
  },
  {
   "cell_type": "code",
   "execution_count": 73,
   "metadata": {
    "collapsed": false
   },
   "outputs": [
    {
     "name": "stdout",
     "output_type": "stream",
     "text": [
      "12345\n"
     ]
    }
   ],
   "source": [
    "print(MyClass.i)"
   ]
  },
  {
   "cell_type": "code",
   "execution_count": 74,
   "metadata": {
    "collapsed": false
   },
   "outputs": [
    {
     "name": "stdout",
     "output_type": "stream",
     "text": [
      "12345\n"
     ]
    }
   ],
   "source": [
    "m2 = MyClass()\n",
    "print(m2.i)"
   ]
  },
  {
   "cell_type": "code",
   "execution_count": 75,
   "metadata": {
    "collapsed": false
   },
   "outputs": [
    {
     "name": "stdout",
     "output_type": "stream",
     "text": [
      "12344 12345 12345\n"
     ]
    }
   ],
   "source": [
    "#podstawienie\n",
    "m.i -= 1\n",
    "print(m.i, MyClass.i, m2.i)"
   ]
  },
  {
   "cell_type": "code",
   "execution_count": 92,
   "metadata": {
    "collapsed": false
   },
   "outputs": [
    {
     "name": "stdout",
     "output_type": "stream",
     "text": [
      "Fido says: woof! woof! woof! \n",
      "There are 1 dogs.\n",
      "They are:\n",
      "  Fido\n",
      "There are 2 dogs.\n",
      "The dog indexed at 0 is Fido.\n"
     ]
    }
   ],
   "source": [
    "class Dog:\n",
    "    count = 0 # this is a class variable\n",
    "    dogs = [] # this is a class variable\n",
    "\n",
    "    def __init__(self, name):\n",
    "        self.name = name #self.name is an instance variable\n",
    "        Dog.count += 1\n",
    "        Dog.dogs.append(name)\n",
    "\n",
    "    def bark(self, n): # this is an instance method\n",
    "        print(\"{} says: {}\".format(self.name, \"woof! \" * n))\n",
    "\n",
    "    #@staticmethod\n",
    "    def rollCall(n): #this is implicitly a class method \n",
    "        print(\"There are {} dogs.\".format(Dog.count))\n",
    "        if n >= len(Dog.dogs) or n < 0:\n",
    "            print(\"They are:\")\n",
    "            for dog in Dog.dogs:\n",
    "                print(\"  {}\".format(dog))\n",
    "        else:\n",
    "            print(\"The dog indexed at {} is {}.\".format(n, Dog.dogs[n]))\n",
    "\n",
    "fido = Dog(\"Fido\")\n",
    "fido.bark(3)\n",
    "Dog.rollCall(-1)\n",
    "rex = Dog(\"Rex\")\n",
    "Dog.rollCall(0)"
   ]
  },
  {
   "cell_type": "code",
   "execution_count": 93,
   "metadata": {
    "collapsed": false
   },
   "outputs": [
    {
     "name": "stdout",
     "output_type": "stream",
     "text": [
      "There are 2 dogs.\n",
      "They are:\n",
      "  Fido\n",
      "  Rex\n"
     ]
    }
   ],
   "source": [
    "rex.rollCall(-1)"
   ]
  },
  {
   "cell_type": "code",
   "execution_count": 97,
   "metadata": {
    "collapsed": false
   },
   "outputs": [
    {
     "name": "stdout",
     "output_type": "stream",
     "text": [
      "<class '__main__.MyClass'>\n",
      "1\n",
      "<class '__main__.MyClass'>\n",
      "2\n",
      "<class 'method'>\n"
     ]
    }
   ],
   "source": [
    "class MyClass(object):\n",
    "    \n",
    "    def method1(self, x):\n",
    "        print(x)\n",
    "    \n",
    "    @classmethod\n",
    "    def someclassmethod(cls, x):\n",
    "        \"\"\"\n",
    "        W metodzie klasy, do atrybutu __self__ funkcji,\n",
    "        przypisywana jest klasa a nie instancja (jak w przypadku tradycyjnych metod)\n",
    "        \"\"\"\n",
    "        print(cls)\n",
    "        print(x)\n",
    "\n",
    "        \n",
    "m = MyClass()\n",
    "MyClass.someclassmethod(1)\n",
    "m.someclassmethod(2)\n",
    "\n",
    "g = MyClass.someclassmethod\n",
    "print(g.__class__)"
   ]
  },
  {
   "cell_type": "code",
   "execution_count": 98,
   "metadata": {
    "collapsed": false
   },
   "outputs": [],
   "source": [
    "class Employee:\n",
    "    pass\n",
    "\n",
    "\n",
    "john = Employee()  # Create an empty employee\n",
    "# Fill the fields of the record\n",
    "john.name = 'John Doe'\n",
    "john.dept = 'computer lab'\n",
    "john.salary = 1000"
   ]
  },
  {
   "cell_type": "code",
   "execution_count": 3,
   "metadata": {
    "collapsed": true
   },
   "outputs": [],
   "source": [
    "def goo():\n",
    "    return 20\n",
    "\n",
    "class Foo(object):\n",
    "    \n",
    "    stat = 1\n",
    "    \n",
    "    @staticmethod\n",
    "    def foo():\n",
    "        return 10\n",
    "    \n",
    "    def bar(self, x):\n",
    "        pass\n",
    "    \n",
    "    stat2 = goo"
   ]
  },
  {
   "cell_type": "code",
   "execution_count": 4,
   "metadata": {
    "collapsed": false
   },
   "outputs": [
    {
     "name": "stdout",
     "output_type": "stream",
     "text": [
      "Foo.bar is <function Foo.bar at 0x02E5BF18>\n",
      "Foo.stat is 1\n",
      "Foo.foo() returns 10\n"
     ]
    }
   ],
   "source": [
    "print('Foo.bar is', Foo.bar)\n",
    "print('Foo.stat is', Foo.stat)\n",
    "print('Foo.foo() returns', Foo.foo())"
   ]
  },
  {
   "cell_type": "code",
   "execution_count": 5,
   "metadata": {
    "collapsed": false
   },
   "outputs": [
    {
     "name": "stdout",
     "output_type": "stream",
     "text": [
      "20\n"
     ]
    }
   ],
   "source": [
    "print(Foo.stat2())"
   ]
  },
  {
   "cell_type": "code",
   "execution_count": 6,
   "metadata": {
    "collapsed": false
   },
   "outputs": [
    {
     "name": "stdout",
     "output_type": "stream",
     "text": [
      "goo is <function goo at 0x02E5BFA8>\n",
      "Now, Foo.stat is <function goo at 0x02E5BFA8>\n"
     ]
    }
   ],
   "source": [
    "print('goo is', goo)\n",
    "Foo.stat = goo\n",
    "print('Now, Foo.stat is', Foo.stat)"
   ]
  },
  {
   "cell_type": "code",
   "execution_count": 7,
   "metadata": {
    "collapsed": false
   },
   "outputs": [
    {
     "data": {
      "text/plain": [
       "20"
      ]
     },
     "execution_count": 7,
     "metadata": {},
     "output_type": "execute_result"
    }
   ],
   "source": [
    "Foo.stat()"
   ]
  },
  {
   "cell_type": "code",
   "execution_count": 8,
   "metadata": {
    "collapsed": false
   },
   "outputs": [
    {
     "name": "stdout",
     "output_type": "stream",
     "text": [
      "Foo.foo is <function Foo.foo at 0x02E5BE88>\n",
      "Now, Foo.stat is <__main__.Bar object at 0x02E7B890>\n",
      "Foo.stat() returns 30\n"
     ]
    }
   ],
   "source": [
    "class Bar(object):\n",
    "    \n",
    "    def __call__(self):\n",
    "        return 30\n",
    "    \n",
    "b = Bar()\n",
    "\n",
    "print('Foo.foo is', Foo.foo)\n",
    "Foo.stat = b\n",
    "print('Now, Foo.stat is', Foo.stat)\n",
    "print('Foo.stat() returns', Foo.stat())"
   ]
  },
  {
   "cell_type": "markdown",
   "metadata": {},
   "source": [
    "### Nie ma pól i metod prywatnych, ale..."
   ]
  },
  {
   "cell_type": "markdown",
   "metadata": {},
   "source": [
    "### Pola zaczynające się od „__” mają nazwę zmienioną"
   ]
  },
  {
   "cell_type": "code",
   "execution_count": 2,
   "metadata": {
    "collapsed": false
   },
   "outputs": [
    {
     "name": "stdout",
     "output_type": "stream",
     "text": [
      "['_MyClass__n', '__class__', '__delattr__', '__dict__', '__dir__', '__doc__', '__eq__', '__format__', '__ge__', '__getattribute__', '__gt__', '__hash__', '__init__', '__le__', '__lt__', '__module__', '__ne__', '__new__', '__reduce__', '__reduce_ex__', '__repr__', '__setattr__', '__sizeof__', '__str__', '__subclasshook__', '__weakref__']\n",
      "12345\n"
     ]
    }
   ],
   "source": [
    "class MyClass:\n",
    "    \n",
    "    def __init__(self):\n",
    "        self.__n = 12345  # pole \"prywatne\"\n",
    "\n",
    "m = MyClass()\n",
    "print(dir(m))\n",
    "print(m._MyClass__n)"
   ]
  },
  {
   "cell_type": "markdown",
   "metadata": {},
   "source": [
    "## Metody Specjalne (wprowadzenie)"
   ]
  },
  {
   "cell_type": "markdown",
   "metadata": {},
   "source": [
    "    __init__ - konstruktor\n",
    "    __del__ - destruktor (nie korzystamy - bo garbage collector jest nieprzewidywalny)\n",
    "    __add__, __sub__, __mul__ etc. - przeciążanie operatorów\n",
    "    __lt__ (<), __gt__ (<=), __eq__ (==), __ne__ (!=,<>), etc ... porównanie\n",
    "    __call__ - obiekt staje się funktorem - można go wywołać jak funkcję"
   ]
  },
  {
   "cell_type": "code",
   "execution_count": 109,
   "metadata": {
    "collapsed": false
   },
   "outputs": [],
   "source": [
    "class MyClass(object):\n",
    "    \"\"\" To jest docstring \"\"\"\n",
    "    \n",
    "    def __init__(self):\n",
    "        self.n=1\n",
    "        \n",
    "    def __getattr__(self, name):\n",
    "        print(\"Looking for {}\".format(name))\n",
    "        return 0\n",
    "  "
   ]
  },
  {
   "cell_type": "code",
   "execution_count": 110,
   "metadata": {
    "collapsed": false
   },
   "outputs": [
    {
     "name": "stdout",
     "output_type": "stream",
     "text": [
      "1\n",
      "\n",
      "Looking for m\n",
      "0\n"
     ]
    }
   ],
   "source": [
    "a = MyClass()\n",
    "\n",
    "print(a.n)\n",
    "\n",
    "print()\n",
    "\n",
    "print(a.m)"
   ]
  },
  {
   "cell_type": "code",
   "execution_count": 111,
   "metadata": {
    "collapsed": false
   },
   "outputs": [
    {
     "name": "stdout",
     "output_type": "stream",
     "text": [
      "{'__getattr__': <function MyClass.__getattr__ at 0x0140D4F8>, '__module__': '__main__', '__dict__': <attribute '__dict__' of 'MyClass' objects>, '__weakref__': <attribute '__weakref__' of 'MyClass' objects>, '__doc__': ' To jest docstring ', '__init__': <function MyClass.__init__ at 0x0140D270>}\n",
      "\n",
      "{'n': 1}\n"
     ]
    }
   ],
   "source": [
    "print(MyClass.__dict__)\n",
    "\n",
    "print()\n",
    "\n",
    "print(a.__dict__)"
   ]
  },
  {
   "cell_type": "code",
   "execution_count": 112,
   "metadata": {
    "collapsed": false
   },
   "outputs": [
    {
     "name": "stdout",
     "output_type": "stream",
     "text": [
      "False\n",
      "\n",
      "17\n"
     ]
    }
   ],
   "source": [
    "class Borg:\n",
    "\n",
    "    __shared_state = {}\n",
    "\n",
    "    def __init__(self):\n",
    "        self.__dict__ = self.__shared_state\n",
    "        \n",
    "a = Borg()\n",
    "b = Borg()\n",
    "\n",
    "print(a is b)\n",
    "print()\n",
    "\n",
    "a.n = 17\n",
    "print(b.n)"
   ]
  },
  {
   "cell_type": "code",
   "execution_count": 133,
   "metadata": {
    "collapsed": false
   },
   "outputs": [],
   "source": [
    "\n",
    "\n",
    "class MyClass:\n",
    "    \"\"\"To jest docstring\"\"\"\n",
    "    \n",
    "    def __init__(self):\n",
    "        self.n = 1\n",
    "        \n",
    "    def __getattribute__(self, name): \n",
    "        print(\"Looking for {}\".format(name))\n",
    "        if name == 'm':\n",
    "            print(\"oh, m is not here\")\n",
    "            return 0\n",
    "        else:\n",
    "            return object.__getattribute__(self, name)\n",
    "      \n",
    "    \"\"\"\n",
    "    In order to avoid infinite recursion in this method, \n",
    "    its implementation should always call the base class method with \n",
    "    the same name to access any attributes it needs, for example, \n",
    "    object.__getattribute__(self, name).\n",
    "    \"\"\"    \n",
    "    \n",
    "    def __setattr__(self, name, value):\n",
    "        print(\"Setting {} at {}\".format(name, value))\n",
    "        object.__setattr__(self, name, value)\n",
    "        return value    "
   ]
  },
  {
   "cell_type": "code",
   "execution_count": 134,
   "metadata": {
    "collapsed": false
   },
   "outputs": [
    {
     "name": "stdout",
     "output_type": "stream",
     "text": [
      "Setting n at 1\n",
      "Looking for n\n",
      "1\n",
      "Looking for m\n",
      "oh, m is not here\n",
      "0\n",
      "\n",
      "Setting n at 3\n",
      "Setting m at 2\n"
     ]
    }
   ],
   "source": [
    "a = MyClass()\n",
    "\n",
    "print(a.n)\n",
    "print(a.m)\n",
    "\n",
    "print()\n",
    "\n",
    "a.n = 3\n",
    "a.m = 2"
   ]
  },
  {
   "cell_type": "code",
   "execution_count": 137,
   "metadata": {
    "collapsed": false
   },
   "outputs": [],
   "source": [
    "class C(object):\n",
    "\n",
    "    def __init__(self):\n",
    "        self._x = 3\n",
    "\n",
    "    def getx(self):\n",
    "        return self._x\n",
    "\n",
    "    def setx(self, value):\n",
    "        self._x = value\n",
    "\n",
    "    def delx(self):\n",
    "        del self._x\n",
    "        \n",
    "    x = property(getx, setx, delx, \"I'm the 'x' property.\")"
   ]
  },
  {
   "cell_type": "code",
   "execution_count": 138,
   "metadata": {
    "collapsed": false
   },
   "outputs": [
    {
     "name": "stdout",
     "output_type": "stream",
     "text": [
      "3\n",
      "9\n",
      "9\n",
      "True\n"
     ]
    }
   ],
   "source": [
    "c = C()\n",
    "print(c.x)\n",
    "\n",
    "c.x = 9\n",
    "print(c.x)\n",
    "\n",
    "print(c._x)\n",
    "\n",
    "print(c.x is c._x)"
   ]
  },
  {
   "cell_type": "code",
   "execution_count": 117,
   "metadata": {
    "collapsed": false
   },
   "outputs": [],
   "source": [
    "class C(object):\n",
    "    def __init__(self):\n",
    "        self._x = 3\n",
    "\n",
    "    @property\n",
    "    def x(self):\n",
    "        \"\"\"I'm the 'x' property.\"\"\"\n",
    "        return self._x\n",
    "\n",
    "    @x.setter\n",
    "    def x(self, value):\n",
    "        self._x = value\n",
    "\n",
    "    @x.deleter\n",
    "    def x(self):\n",
    "        del self._x"
   ]
  },
  {
   "cell_type": "code",
   "execution_count": 118,
   "metadata": {
    "collapsed": false
   },
   "outputs": [
    {
     "name": "stdout",
     "output_type": "stream",
     "text": [
      "3\n"
     ]
    }
   ],
   "source": [
    "c = C()\n",
    "\n",
    "print(c.x)"
   ]
  },
  {
   "cell_type": "markdown",
   "metadata": {},
   "source": [
    "## Dekoratory, c.d."
   ]
  },
  {
   "cell_type": "code",
   "execution_count": 119,
   "metadata": {
    "collapsed": false
   },
   "outputs": [],
   "source": [
    "def entryExit(f):\n",
    "    def new_f():\n",
    "        print(\"Entering\", f.__name__)\n",
    "        f()\n",
    "        print(\"Exited\", f.__name__)\n",
    "    return new_f\n"
   ]
  },
  {
   "cell_type": "code",
   "execution_count": 120,
   "metadata": {
    "collapsed": false
   },
   "outputs": [
    {
     "name": "stdout",
     "output_type": "stream",
     "text": [
      "Entering func1\n",
      "inside func1()\n",
      "Exited func1\n"
     ]
    }
   ],
   "source": [
    "@entryExit\n",
    "def func1():\n",
    "    print(\"inside func1()\")\n",
    "func1()"
   ]
  },
  {
   "cell_type": "code",
   "execution_count": 121,
   "metadata": {
    "collapsed": false
   },
   "outputs": [],
   "source": [
    "class entryExit(object):\n",
    "    \n",
    "    def __init__(self, f):\n",
    "        self.f = f\n",
    "        self.n = 0\n",
    "    \n",
    "    def __call__(self):\n",
    "        self.n += 1\n",
    "        print(\"Entering\", self.f.__name__, self.n, \"time\" + (\"s\" if self.n > 1 else \"\"))\n",
    "        self.f()\n",
    "        print(\"Exited\", self.f.__name__)\n",
    "\n",
    "        \n",
    "@entryExit\n",
    "def func1():\n",
    "    print(\"inside func1()\")\n"
   ]
  },
  {
   "cell_type": "code",
   "execution_count": 122,
   "metadata": {
    "collapsed": false
   },
   "outputs": [
    {
     "data": {
      "text/plain": [
       "__main__.entryExit"
      ]
     },
     "execution_count": 122,
     "metadata": {},
     "output_type": "execute_result"
    }
   ],
   "source": [
    "type(func1)"
   ]
  },
  {
   "cell_type": "code",
   "execution_count": 123,
   "metadata": {
    "collapsed": false
   },
   "outputs": [
    {
     "name": "stdout",
     "output_type": "stream",
     "text": [
      "Entering func1 1 time\n",
      "inside func1()\n",
      "Exited func1\n"
     ]
    }
   ],
   "source": [
    "func1()"
   ]
  },
  {
   "cell_type": "code",
   "execution_count": 125,
   "metadata": {
    "collapsed": false
   },
   "outputs": [],
   "source": [
    "class Decorator(object):\n",
    "    \n",
    "    def __init__(self, arg):\n",
    "        self.arg = arg\n",
    "    \n",
    "    def __call__(self, cls):\n",
    "        class Wrapped(cls):\n",
    "            classattr = self.arg\n",
    "            def new_method(self, value):\n",
    "                return value * 2\n",
    "        return Wrapped"
   ]
  },
  {
   "cell_type": "code",
   "execution_count": 126,
   "metadata": {
    "collapsed": false
   },
   "outputs": [
    {
     "name": "stdout",
     "output_type": "stream",
     "text": [
      "10\n"
     ]
    }
   ],
   "source": [
    "@Decorator(\"decorated class\")\n",
    "class TestClass(object):\n",
    "    \n",
    "    def new_method(self, value):\n",
    "        return value * 3\n",
    "    \n",
    "t = TestClass()\n",
    "\n",
    "print(t.new_method(5))"
   ]
  },
  {
   "cell_type": "code",
   "execution_count": 127,
   "metadata": {
    "collapsed": false
   },
   "outputs": [
    {
     "data": {
      "text/plain": [
       "'decorated class'"
      ]
     },
     "execution_count": 127,
     "metadata": {},
     "output_type": "execute_result"
    }
   ],
   "source": [
    "t.classattr"
   ]
  },
  {
   "cell_type": "code",
   "execution_count": null,
   "metadata": {
    "collapsed": false
   },
   "outputs": [],
   "source": []
  }
 ],
 "metadata": {
  "kernelspec": {
   "display_name": "Python 3",
   "language": "python",
   "name": "python3"
  },
  "language_info": {
   "codemirror_mode": {
    "name": "ipython",
    "version": 3
   },
   "file_extension": ".py",
   "mimetype": "text/x-python",
   "name": "python",
   "nbconvert_exporter": "python",
   "pygments_lexer": "ipython3",
   "version": "3.4.4"
  }
 },
 "nbformat": 4,
 "nbformat_minor": 0
}
