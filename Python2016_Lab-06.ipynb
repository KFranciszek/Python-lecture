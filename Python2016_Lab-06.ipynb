{
 "cells": [
  {
   "cell_type": "markdown",
   "metadata": {},
   "source": [
    "## Język Python - Laboratorium 6"
   ]
  },
  {
   "cell_type": "markdown",
   "metadata": {},
   "source": [
    "## ZADANIE 1"
   ]
  },
  {
   "cell_type": "markdown",
   "metadata": {},
   "source": [
    "*Rozwiązanie należy przesłać mailem w pliku o nazwie L06_ImieNazwisko.py (proszę nie używać polskich znaków w nazwach plików). Rozwiązanie proszę przesłać w przeciągu pięciu dni od zakończenia zajęć.*"
   ]
  },
  {
   "cell_type": "markdown",
   "metadata": {},
   "source": [
    "Zaimplementuj grę w wisielca (ang. hangman) korzystającego z zewnętrznej listy słów (pobierz np. http://www.mieliestronk.com/corncob_lowercase.txt przy czym należy usunąć z tego pliku linię 11653 ze słowem zawierającym znaki niezgodnym z założeniami programu: cross-bun). Gra powinna wyglądać mniej więcej tak:"
   ]
  },
  {
   "cell_type": "markdown",
   "metadata": {},
   "source": [
    "python hangman.py corncob_lowercase.txt"
   ]
  },
  {
   "cell_type": "markdown",
   "metadata": {},
   "source": [
    "Hangman game v0.1\n",
    "\n",
    "_ _ _ _ _ _ _\n",
    "\n",
    "bad guesses: 0/6 []\n",
    "\n",
    "Guess a letter: \n",
    "\n",
    "`>>> a`\n",
    "\n",
    "-----------------\n",
    "\n",
    "Hangman game v0.1\n",
    "\n",
    "_ a _ _ _ _ _\n",
    "\n",
    "bad guesses: 0/6 []\n",
    "\n",
    "Guess a letter: \n",
    "\n",
    "`>>> b`\n",
    "\n",
    "-----------------\n",
    "\n",
    "Hangman game v0.1\n",
    "\n",
    "_ a _ _ _ _ _\n",
    "\n",
    "bad guesses: 1/6 [b]\n",
    "\n",
    "Guess a letter: \n",
    "\n",
    "`>>> D`\n",
    "\n",
    "-----------------\n",
    "\n",
    "Hangman game v0.1\n",
    "\n",
    "_ a d _ _ _ _\n",
    "\n",
    "bad guesses: 1/6 [b]\n",
    "\n",
    "Guess a letter: \n",
    "\n",
    "`>>> e`\n",
    "\n",
    "-----------------\n",
    "\n",
    "Hangman game v0.1\n",
    "\n",
    "_ a d _ _ _ _\n",
    "\n",
    "bad guesses: 2/6 [b, e]\n",
    "\n",
    "Guess a letter: \n",
    "\n",
    "`>>> z`\n",
    "\n",
    "-----------------\n",
    "\n",
    "Hangman game v0.1\n",
    "\n",
    "_ a d _ _ _ _\n",
    "\n",
    "bad guesses: 3/6 [b, e, z]\n",
    "\n",
    "Guess a letter: \n",
    "\n",
    "`>>> u`\n",
    "\n",
    "-----------------\n",
    "\n",
    "Hangman game v0.1\n",
    "\n",
    "_ a d _ _ u _\n",
    "\n",
    "bad guesses: 3/6 [b, e, z]\n",
    "\n",
    "Guess a letter: \n",
    "\n",
    "`>>> h`\n",
    "\n",
    "-----------------\n",
    "\n",
    "Hangman game v0.1\n",
    "\n",
    "_ a d _ _ u _\n",
    "\n",
    "bad guesses: 4/6 [b, e, z, h]\n",
    "\n",
    "Guess a letter: \n",
    "\n",
    "`>>> just_a_random_string!`\n",
    "\n",
    "-----------------\n",
    "\n",
    "Hangman game v0.1\n",
    "\n",
    "_ a d _ _ u _\n",
    "\n",
    "bad guesses: 4/6 [b, e, z, h]\n",
    "\n",
    "Guess a letter: \n",
    "\n",
    "`>>> i`\n",
    "\n",
    "-----------------\n",
    "\n",
    "Hangman game v0.1\n",
    "\n",
    "_ a d _ _ u _\n",
    "\n",
    "bad guesses: 5/6 [b, e, z, h, i]\n",
    "\n",
    "Guess a letter: \n",
    "\n",
    "`>>> j`\n",
    "\n",
    "-----------------\n",
    "\n",
    "Hangman game v0.1\n",
    "\n",
    "_ a d _ _ u _\n",
    "\n",
    "bad guesses: 6/6 [b, e, z, h, i, j]\n",
    "\n",
    "YOU LOST !\n",
    "The word you were looking for is: ladybug\n",
    "\n",
    "Do you want to play again? (Y/N):\n",
    "\n",
    "`>>> 3`\n",
    "\n",
    "Do you want to play again? (Y/N):\n",
    "\n",
    "`>>> N`\n",
    "\n",
    "Ok, good bye!"
   ]
  },
  {
   "cell_type": "markdown",
   "metadata": {},
   "source": [
    "Gra powinna:\n",
    "\n",
    "1. Korzystać z zewnętrznego słownika\n",
    "2. Być odporna na niepoprawne akcje użytkownika:\n",
    " - wczytanie pliku który nie jest listą słów [a-zA-Z]\n",
    " - podawanie niepoprawnych komend (np. nie liter)\n"
   ]
  },
  {
   "cell_type": "markdown",
   "metadata": {},
   "source": [
    "## Zadanie 2\n",
    "\n",
    "Napisz tę grę w taki sposób by można było z kodu skorzystać następująco (czyli zdefiniuj klasę `HangmanGame`):"
   ]
  },
  {
   "cell_type": "code",
   "execution_count": null,
   "metadata": {
    "collapsed": false
   },
   "outputs": [],
   "source": [
    "game = HangmanGame('slownik.txt', max_mistakes=6) # inicjujemy gre\n",
    "game.start() # losujemy slowo\n",
    "\n",
    "print 'Slowo ma', game.get_word_length(), 'liter' # pobieramy dlugosc wylosowanego slowa\n",
    "\n",
    "while not game.finished(): # finished() zwraca True gdy gra sie zakonczyla\n",
    "    response = game.guess('a') # zgadujemy litere, .guess powinno zwrocic liste pozycji gdzie 'a' wystepuje\n",
    "    ... # robimy cos z wynikiem\n",
    "    \n",
    "print game.did_I_win() # True jesli wygralismy, False w przeciwnym przypadku    "
   ]
  },
  {
   "cell_type": "markdown",
   "metadata": {},
   "source": [
    "Dopisz inteligencję uzupełniając definicję klasy:"
   ]
  },
  {
   "cell_type": "code",
   "execution_count": null,
   "metadata": {
    "collapsed": false
   },
   "outputs": [],
   "source": [
    "class HangmanAI(object):\n",
    "    \n",
    "    def __init__(self, dictionary, max_mistakes):\n",
    "        pass\n",
    "    \n",
    "    def start(self, length): # podajemy dlugosc slowa\n",
    "        pass\n",
    "    \n",
    "    def get_guess(self): # zwraca litere ktora powinniśmy zgadywac\n",
    "        pass\n",
    "    \n",
    "    def update_response(self, response): # robimy cos z odpowiedzia gry\n",
    "        pass"
   ]
  },
  {
   "cell_type": "markdown",
   "metadata": {},
   "source": [
    "tak, żeby komputer mógł grać sam ze sobą:"
   ]
  },
  {
   "cell_type": "code",
   "execution_count": null,
   "metadata": {
    "collapsed": false
   },
   "outputs": [],
   "source": [
    "game = HangmanGame('slownik.txt', max_mistakes=6)\n",
    "ai = HangmanAI('slownik.txt', max_mistakes=6)\n",
    "\n",
    "score = 0\n",
    "for _ in range(1000):\n",
    "    \n",
    "    game.start()\n",
    "    ai.start(game.get_word_length())\n",
    "    \n",
    "    while not game.finished():\n",
    "        ai.update_response(game.guess(ai.get_guess()))\n",
    "        \n",
    "    score += game.did_I_win()\n",
    "    \n",
    "print score"
   ]
  },
  {
   "cell_type": "markdown",
   "metadata": {},
   "source": [
    "Czy potrafisz stworzyć klasę `HumanPlayer`, która pozwoli teraz grać interaktywnie, nie modyfikując powyższego kodu?"
   ]
  },
  {
   "cell_type": "code",
   "execution_count": null,
   "metadata": {
    "collapsed": true
   },
   "outputs": [],
   "source": []
  }
 ],
 "metadata": {
  "kernelspec": {
   "display_name": "Python 3",
   "language": "python",
   "name": "python3"
  },
  "language_info": {
   "codemirror_mode": {
    "name": "ipython",
    "version": 3
   },
   "file_extension": ".py",
   "mimetype": "text/x-python",
   "name": "python",
   "nbconvert_exporter": "python",
   "pygments_lexer": "ipython3",
   "version": "3.4.4"
  }
 },
 "nbformat": 4,
 "nbformat_minor": 0
}
