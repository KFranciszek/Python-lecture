{
 "cells": [
  {
   "cell_type": "markdown",
   "metadata": {},
   "source": [
    "## Język Python - Laboratorium 12 - pandas"
   ]
  },
  {
   "cell_type": "markdown",
   "metadata": {},
   "source": [
    "*Rozwiązania zadań proszę przedstawić na zajęciach lub przesłać w jednym pliku o nazwie **L12_ImieNazwisko.ipynb** (notebook) lub **L12_ImieNazwisko.py** (skrypt) (proszę nie używać polskich znaków w nazwach plików). Rozwiązanie należy przesłać w przeciągu pięciu dni od zakończenia zajęć.*"
   ]
  },
  {
   "cell_type": "markdown",
   "metadata": {},
   "source": [
    "### Zadanie 1\n",
    "\n",
    "Stwórz *DataFrame* wskazany poniżej za pomocą trzech różnych metod:\n",
    "\n",
    "1) słownik serii danych\n",
    "\n",
    "2) lista słowników\n",
    "\n",
    "3) lista serii danych\n",
    "\n",
    "```\n",
    "                                         movie_title  imdb_score\n",
    "0                                            Avatar          7.9\n",
    "1          Pirates of the Caribbean: At World's End          7.1\n",
    "2                                           Spectre          6.8\n",
    "```\n",
    "\n",
    "Help: http://pandas.pydata.org/pandas-docs/stable/dsintro.html#from-dict-of-series-or-dicts"
   ]
  },
  {
   "cell_type": "markdown",
   "metadata": {},
   "source": [
    "### Zadanie 2"
   ]
  },
  {
   "cell_type": "markdown",
   "metadata": {},
   "source": [
    "Wczytaj [bazę filmów](L12_files/movies.csv) do zmiennej `movies`. \n",
    "\n",
    "1) Określ rozmiary i zawartość bazy.\n",
    "\n",
    "2) Wypisz filmy reżyserowane przez Clina Eastwooda.\n",
    "\n",
    "3) Które filmy zarobiły więcej niż 500 mln $?\n",
    "\n",
    "4) Czy są w bazie jakieś polskie filmy?\n",
    "\n",
    "5) Wskaż rewelacyjne i bardzo popularne filmy (> 100k FB likes, > 8.5 IMDB score).\n",
    "\n",
    "6) W których filmach główne role grali Jason Statham, Sylvester Stallone lub Morgan Freeman?\n",
    "\n",
    "7) Stwórz plik .csv zawierający tytuły oraz obsadę filmów, których budżet przekroczył 200 mln $.\n",
    "\n",
    "8) Stwórz listę słowników zawierających tytuły oraz liczbę polubień na facebooku filmów reżyserowanych przez Christophera Nolana.\n",
    "\n",
    "9) Wskaż 10 najbardziej rentownych filmów (stosunek przychodów do budżetu).\n",
    "\n",
    "10) Dodaj kolumnę `first_genre`. Jak się rozkładają wartości w tej kolumnie?\n",
    "\n",
    "11) Narysuj wykres pokazujący przychody filmów reżyserowanych przez Christophera Nolana.\n",
    "\n",
    "12) Narysuj histogram pokazujący czasy trwania tych filmów.\n",
    "\n",
    "13) Narysuj wykres typu `cake` pokazujący procentowy rozkład dla `first genre\n",
    "\n",
    "14) Dla każdego roku wskaż maksymalny przychód ze sprzedaży jednego filmu.\n",
    "\n",
    "15) Który reżyser ma największe przeciętne zarobki?\n"
   ]
  },
  {
   "cell_type": "markdown",
   "metadata": {},
   "source": [
    "### Zadanie 3"
   ]
  },
  {
   "cell_type": "markdown",
   "metadata": {},
   "source": [
    "Załaduj plik [The Force Awakens's tweets](L12_files/theforceawakens_tweets.csv). \n",
    "\n",
    "1) Utwórz `DateTimeIndex` z kolumny `created_at`.\n",
    "\n",
    "2) Jak dużo tweetów było każdego z ostatnich kilku listowanych dni?\n",
    "\n",
    "3) W jakich godzinach najczęściej pojawiają się tweety?\n"
   ]
  },
  {
   "cell_type": "markdown",
   "metadata": {},
   "source": [
    "### Zadanie 4 (dodatkowe)"
   ]
  },
  {
   "cell_type": "markdown",
   "metadata": {},
   "source": [
    "Stwórz model przewidujący przychody filmu (wykorzystaj `scikit-learn`). "
   ]
  },
  {
   "cell_type": "code",
   "execution_count": null,
   "metadata": {
    "collapsed": true
   },
   "outputs": [],
   "source": []
  }
 ],
 "metadata": {
  "kernelspec": {
   "display_name": "Python 3",
   "language": "python",
   "name": "python3"
  },
  "language_info": {
   "codemirror_mode": {
    "name": "ipython",
    "version": 3
   },
   "file_extension": ".py",
   "mimetype": "text/x-python",
   "name": "python",
   "nbconvert_exporter": "python",
   "pygments_lexer": "ipython3",
   "version": "3.4.4"
  }
 },
 "nbformat": 4,
 "nbformat_minor": 0
}
