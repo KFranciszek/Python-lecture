{
 "cells": [
  {
   "cell_type": "markdown",
   "metadata": {},
   "source": [
    "## Język Python - Laboratorium 5."
   ]
  },
  {
   "cell_type": "markdown",
   "metadata": {},
   "source": [
    "Rozwiązania zadań pokazujemy nas zajęciach, a te, których nie zdążyliśmy przesyłamy w jednym pliku o nazwie L05_ImieNazwisko.ipynb (notebook) lub L05_ImieNazwisko.py (skrypt) (proszę nie używać polskich znaków w nazwach plików). Rozwiązanie należy przesłać w przeciągu pięciu dni od zakończenia zajęć."
   ]
  },
  {
   "cell_type": "markdown",
   "metadata": {},
   "source": [
    "** ZADANIE 1** (1 pkt)"
   ]
  },
  {
   "cell_type": "markdown",
   "metadata": {},
   "source": [
    "Przerób przewodnik (15 zadań) dostępny na stronie http://regexone.com/\n",
    "W rozwiązaniach używaj konstrukcji, których dotyczą poszczególne tematy."
   ]
  },
  {
   "cell_type": "markdown",
   "metadata": {},
   "source": [
    "**ZADANIE 2** (0,5 pkt)"
   ]
  },
  {
   "cell_type": "markdown",
   "metadata": {},
   "source": [
    "Napisz program (używając wyrażeń regularnych), który przefiltruje plik `atoms.log` tak by pozostały jedynie linie dotyczące bezproblemowego przebiegu eksperymentu.\n",
    "\n",
    "Czyli np. powinny zostać odrzucone takie linie jak:\n",
    "\n",
    "    RUN 000039 COMPLETED. OUTPUT IN FILE yttrium.dat. 1 UNDERFLOW WARNING.\n",
    "\n",
    "oraz:\n",
    "\n",
    "    RUN 000058 COMPLETED. OUTPUT IN FILE cerium.dat. ALGORITHM DID NOT CONVERGE AFTER 100000 ITERATIONS.\n",
    "    \n",
    "Zakładamy, że każda linijka pasuje do poniższego schematu:\n",
    "\n",
    "    RUN [[NUMER Z DOKŁADNIE 6 CYFR]] COMPLETED. OUTPUT IN FILE [[NAZWA]].dat. [[COKOLWIEK]]"
   ]
  },
  {
   "cell_type": "code",
   "execution_count": null,
   "metadata": {
    "collapsed": false
   },
   "outputs": [],
   "source": [
    "pattern = ...\n",
    "\n",
    "with open('atoms.log') as atoms:\n",
    "    for line in atoms:\n",
    "        if ........:\n",
    "            print(line)"
   ]
  },
  {
   "cell_type": "markdown",
   "metadata": {},
   "source": [
    "** ZADANIE 3** (0,5 pkt)"
   ]
  },
  {
   "cell_type": "markdown",
   "metadata": {},
   "source": [
    "Napisz program który wypisze linie z logu systemowego \"messages.txt\" które zawierają informacje o nieprawidłowej nazwie użytkownika (invalid user)."
   ]
  },
  {
   "cell_type": "code",
   "execution_count": null,
   "metadata": {
    "collapsed": false
   },
   "outputs": [],
   "source": [
    "pattern = ...\n",
    "\n",
    "with open('messages.txt') as messages:\n",
    "    for line in messages:\n",
    "        if ........:\n",
    "            print(line)"
   ]
  },
  {
   "cell_type": "markdown",
   "metadata": {},
   "source": [
    "** ZADANIE 3b** (0,5 pkt)"
   ]
  },
  {
   "cell_type": "markdown",
   "metadata": {},
   "source": [
    "Przerób program tak, żeby wyświetlał sformatowane komunikaty, tzn.\n",
    "\n",
    "    Jun 29 20:18:40 noether sshd[5805]: Invalid user tester from 218.189.194.200\n",
    "    \n",
    "powinno zostać przerobione na:\n",
    "\n",
    "    Niepoprawna nazwa użytkownika: \"tester\", połaczenie z 218.189.194.200 nawiązano 29 czerwca o godz. 20:18\n"
   ]
  },
  {
   "cell_type": "markdown",
   "metadata": {},
   "source": [
    "** ZADANIE 4** (0,75 pkt)"
   ]
  },
  {
   "cell_type": "markdown",
   "metadata": {},
   "source": [
    "Skopiuj implementację BagOfWords z poprzednich ćwiczeń. Przerób ją tak, żeby interpunkcja, cyfry i wszelkie inne znaki nie przeszkadzały w parsowaniu tekstu. Uruchom go na tekście hamleta (http://www.gutenberg.org/dirs/etext98/2ws2610.txt). Ile razy występuje słowo hamlet? Jak brzmi 10 najczęściej występujących słów?"
   ]
  },
  {
   "cell_type": "markdown",
   "metadata": {},
   "source": [
    "**ZADANIE 5** (0,75 pkt)"
   ]
  },
  {
   "cell_type": "markdown",
   "metadata": {},
   "source": [
    "Napisz wyrażenie regularne które sprawdza czy adres email jest poprawny. Wg. definicji z wikipedii:\n",
    "http://en.wikipedia.org/wiki/Email_address"
   ]
  },
  {
   "cell_type": "markdown",
   "metadata": {},
   "source": [
    "**ZADANIE 6 (domowe)** (1 pkt)\n",
    "\n",
    "Pobierz strony z publikacjami pracowników IIMK\n",
    "\n",
    "* http://apacz.matinf.uj.edu.pl/jednostki/2-instytut-informatyki-i-matematyki-komputerowej-wydzial-matematyki-i-informatyki-uj?page=1\n",
    "* http://apacz.matinf.uj.edu.pl/jednostki/2-instytut-informatyki-i-matematyki-komputerowej-wydzial-matematyki-i-informatyki-uj?page=2\n",
    "* http://apacz.matinf.uj.edu.pl/jednostki/2-instytut-informatyki-i-matematyki-komputerowej-wydzial-matematyki-i-informatyki-uj?page=3\n",
    "* http://apacz.matinf.uj.edu.pl/jednostki/2-instytut-informatyki-i-matematyki-komputerowej-wydzial-matematyki-i-informatyki-uj?page=4\n",
    "* http://apacz.matinf.uj.edu.pl/jednostki/2-instytut-informatyki-i-matematyki-komputerowej-wydzial-matematyki-i-informatyki-uj?page=5\n",
    "* http://apacz.matinf.uj.edu.pl/jednostki/2-instytut-informatyki-i-matematyki-komputerowej-wydzial-matematyki-i-informatyki-uj?page=6\n",
    "* http://apacz.matinf.uj.edu.pl/jednostki/2-instytut-informatyki-i-matematyki-komputerowej-wydzial-matematyki-i-informatyki-uj?page=7\n",
    "* http://apacz.matinf.uj.edu.pl/jednostki/2-instytut-informatyki-i-matematyki-komputerowej-wydzial-matematyki-i-informatyki-uj?page=8\n",
    "* http://apacz.matinf.uj.edu.pl/jednostki/2-instytut-informatyki-i-matematyki-komputerowej-wydzial-matematyki-i-informatyki-uj?page=9\n",
    "* http://apacz.matinf.uj.edu.pl/jednostki/2-instytut-informatyki-i-matematyki-komputerowej-wydzial-matematyki-i-informatyki-uj?page=10\n",
    "\n",
    "Napisz program (obiektowo), który używając wyrażeń regularnych sparsuje te dokumenty i wyjmie z nich ustruktoryzowaną wiedzę w postaci listy publikacji każdego pracownika, tzn.\n",
    "\n",
    "    pubs = Publications([PATH1, PATH2, ...])\n",
    "    \n",
    "    for author in pubs:\n",
    "        for publication in pubs[author]:\n",
    "            print(author, 'published', publication) \n",
    "            \n",
    "    # wypisuje linie w postaci: AUTOR published NAZWA_PUBLIKACJI\n",
    "    # w kolejnosci malejacej liczby publikacji, czyli w szczegolnosci napisanie\n",
    "    \n",
    "    for author in pubs:\n",
    "        print(author, 'published', len(pubs[author]), 'works')\n",
    "    \n",
    "    # wyswietli liste autorow i ich publikacji w porzadku malejacym\n",
    "    \n",
    "\n"
   ]
  },
  {
   "cell_type": "code",
   "execution_count": null,
   "metadata": {
    "collapsed": true
   },
   "outputs": [],
   "source": []
  }
 ],
 "metadata": {
  "kernelspec": {
   "display_name": "Python 3",
   "language": "python",
   "name": "python3"
  },
  "language_info": {
   "codemirror_mode": {
    "name": "ipython",
    "version": 3
   },
   "file_extension": ".py",
   "mimetype": "text/x-python",
   "name": "python",
   "nbconvert_exporter": "python",
   "pygments_lexer": "ipython3",
   "version": "3.4.4"
  }
 },
 "nbformat": 4,
 "nbformat_minor": 0
}
