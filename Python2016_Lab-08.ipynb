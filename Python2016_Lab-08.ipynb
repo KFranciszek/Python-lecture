{
 "cells": [
  {
   "cell_type": "markdown",
   "metadata": {},
   "source": [
    "## Język Python - Laboratorium 8  (testowanie)"
   ]
  },
  {
   "cell_type": "markdown",
   "metadata": {},
   "source": [
    "*Rozwiązanie należy przesłać mailem w paczce o nazwie L08_ImieNazwisko.zip (proszę nie używać polskich znaków w nazwach plików). Rozwiązanie proszę przesłać w przeciągu pięciu dni od zakończenia zajęć.*"
   ]
  },
  {
   "cell_type": "markdown",
   "metadata": {},
   "source": [
    "### Zadanie 1\n",
    "\n",
    "(2 pkt)"
   ]
  },
  {
   "cell_type": "markdown",
   "metadata": {},
   "source": [
    "1.Otwórz plik `L08_files/sorting.py`"
   ]
  },
  {
   "cell_type": "code",
   "execution_count": null,
   "metadata": {
    "collapsed": false
   },
   "outputs": [],
   "source": [
    "with open('L08_files/sorting.py') as fh:\n",
    "    print(fh.read())"
   ]
  },
  {
   "cell_type": "markdown",
   "metadata": {},
   "source": [
    "2.Popraw kod tak, aby uzyskać 100% oceny wg. `pylint`"
   ]
  },
  {
   "cell_type": "markdown",
   "metadata": {},
   "source": [
    "3.Napisz testy sprawdzające czy poszczególne metody dobrze sortują ciągi :\n",
    "\n",
    "* puste\n",
    "* singletony\n",
    "* ciągi liczb od 0 do N\n",
    "* alfabet\n",
    "\n",
    "Użyj zewnętrznego pliku z testami"
   ]
  },
  {
   "cell_type": "markdown",
   "metadata": {},
   "source": [
    "### Zadanie 2"
   ]
  },
  {
   "cell_type": "markdown",
   "metadata": {},
   "source": [
    "(1 pkt) Otwórz rozwiązanie zadania `SetOfWords` z ćwiczeń 4 (jeśli nie masz własnego, użyj tego z forum). Napisz 3 testy dla **każdej** z używanych tam metod."
   ]
  },
  {
   "cell_type": "markdown",
   "metadata": {},
   "source": [
    "### Zadanie 3\n",
    "\n",
    "(1 pkt) Otwórz swoje rozwiązanie gry `Hangman` i popraw je tak, aby uzyskać `100%` notę z `pylint`. Następnie przygotuj unit testy dla całego kodu. "
   ]
  },
  {
   "cell_type": "code",
   "execution_count": null,
   "metadata": {
    "collapsed": true
   },
   "outputs": [],
   "source": []
  }
 ],
 "metadata": {
  "kernelspec": {
   "display_name": "Python 3",
   "language": "python",
   "name": "python3"
  },
  "language_info": {
   "codemirror_mode": {
    "name": "ipython",
    "version": 3
   },
   "file_extension": ".py",
   "mimetype": "text/x-python",
   "name": "python",
   "nbconvert_exporter": "python",
   "pygments_lexer": "ipython3",
   "version": "3.4.4"
  }
 },
 "nbformat": 4,
 "nbformat_minor": 0
}
