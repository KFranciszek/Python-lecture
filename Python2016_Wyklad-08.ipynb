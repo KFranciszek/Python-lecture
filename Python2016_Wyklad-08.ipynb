{
 "cells": [
  {
   "cell_type": "markdown",
   "metadata": {},
   "source": [
    "# Język Python - Wykład 8"
   ]
  },
  {
   "cell_type": "markdown",
   "metadata": {},
   "source": [
    "## Testowanie kodu"
   ]
  },
  {
   "cell_type": "markdown",
   "metadata": {},
   "source": [
    "### assert\n",
    "\n",
    "* w kodzie można traktować jako dodatkową dokumentację (uruchamialną)\n",
    "* nie zastępują testów (jedynie uzupełniają je)\n",
    "* pozwalają szybciej wyłapywać bugi"
   ]
  },
  {
   "cell_type": "code",
   "execution_count": 7,
   "metadata": {
    "collapsed": false
   },
   "outputs": [],
   "source": [
    "assert True"
   ]
  },
  {
   "cell_type": "code",
   "execution_count": 8,
   "metadata": {
    "collapsed": false
   },
   "outputs": [
    {
     "ename": "AssertionError",
     "evalue": "Cos poszlo nie tak :-(",
     "output_type": "error",
     "traceback": [
      "\u001b[0;31m---------------------------------------------------------------------------\u001b[0m",
      "\u001b[0;31mAssertionError\u001b[0m                            Traceback (most recent call last)",
      "\u001b[0;32m<ipython-input-8-1081fa441fa0>\u001b[0m in \u001b[0;36m<module>\u001b[0;34m()\u001b[0m\n\u001b[0;32m----> 1\u001b[0;31m \u001b[1;32massert\u001b[0m \u001b[1;32mFalse\u001b[0m\u001b[1;33m,\u001b[0m \u001b[1;34m\"Cos poszlo nie tak :-(\"\u001b[0m\u001b[1;33m\u001b[0m\u001b[0m\n\u001b[0m",
      "\u001b[0;31mAssertionError\u001b[0m: Cos poszlo nie tak :-("
     ]
    }
   ],
   "source": [
    "assert False, \"Cos poszlo nie tak :-(\""
   ]
  },
  {
   "cell_type": "code",
   "execution_count": 9,
   "metadata": {
    "collapsed": false
   },
   "outputs": [],
   "source": [
    "assert 2+3 == 5"
   ]
  },
  {
   "cell_type": "markdown",
   "metadata": {},
   "source": [
    "Niektórzy używają assertów do kontroli typów w Pythonie! (ale to jak wiemy zabija kaczki)"
   ]
  },
  {
   "cell_type": "code",
   "execution_count": 10,
   "metadata": {
    "collapsed": false
   },
   "outputs": [],
   "source": [
    "def add(a, b):\n",
    "    assert type(a) is int, 'a is not an integer, a=%r' % a\n",
    "    assert type(b) is int, 'b is not an integer, b=%r' % b\n",
    "    return a + b"
   ]
  },
  {
   "cell_type": "code",
   "execution_count": 11,
   "metadata": {
    "collapsed": false
   },
   "outputs": [
    {
     "data": {
      "text/plain": [
       "8"
      ]
     },
     "execution_count": 11,
     "metadata": {},
     "output_type": "execute_result"
    }
   ],
   "source": [
    "add(3, 5)"
   ]
  },
  {
   "cell_type": "code",
   "execution_count": 12,
   "metadata": {
    "collapsed": false
   },
   "outputs": [
    {
     "ename": "AssertionError",
     "evalue": "a is not an integer, a=4.0",
     "output_type": "error",
     "traceback": [
      "\u001b[0;31m---------------------------------------------------------------------------\u001b[0m",
      "\u001b[0;31mAssertionError\u001b[0m                            Traceback (most recent call last)",
      "\u001b[0;32m<ipython-input-12-e88a488a8a15>\u001b[0m in \u001b[0;36m<module>\u001b[0;34m()\u001b[0m\n\u001b[0;32m----> 1\u001b[0;31m \u001b[0madd\u001b[0m\u001b[1;33m(\u001b[0m\u001b[1;36m4.0\u001b[0m\u001b[1;33m,\u001b[0m \u001b[1;36m1\u001b[0m\u001b[1;33m)\u001b[0m\u001b[1;33m\u001b[0m\u001b[0m\n\u001b[0m",
      "\u001b[0;32m<ipython-input-10-5d728de5fd73>\u001b[0m in \u001b[0;36madd\u001b[0;34m(a, b)\u001b[0m\n\u001b[1;32m      1\u001b[0m \u001b[1;32mdef\u001b[0m \u001b[0madd\u001b[0m\u001b[1;33m(\u001b[0m\u001b[0ma\u001b[0m\u001b[1;33m,\u001b[0m \u001b[0mb\u001b[0m\u001b[1;33m)\u001b[0m\u001b[1;33m:\u001b[0m\u001b[1;33m\u001b[0m\u001b[0m\n\u001b[0;32m----> 2\u001b[0;31m     \u001b[1;32massert\u001b[0m \u001b[0mtype\u001b[0m\u001b[1;33m(\u001b[0m\u001b[0ma\u001b[0m\u001b[1;33m)\u001b[0m \u001b[1;32mis\u001b[0m \u001b[0mint\u001b[0m\u001b[1;33m,\u001b[0m \u001b[1;34m'a is not an integer, a=%r'\u001b[0m \u001b[1;33m%\u001b[0m \u001b[0ma\u001b[0m\u001b[1;33m\u001b[0m\u001b[0m\n\u001b[0m\u001b[1;32m      3\u001b[0m     \u001b[1;32massert\u001b[0m \u001b[0mtype\u001b[0m\u001b[1;33m(\u001b[0m\u001b[0mb\u001b[0m\u001b[1;33m)\u001b[0m \u001b[1;32mis\u001b[0m \u001b[0mint\u001b[0m\u001b[1;33m,\u001b[0m \u001b[1;34m'b is not an integer, b=%r'\u001b[0m \u001b[1;33m%\u001b[0m \u001b[0mb\u001b[0m\u001b[1;33m\u001b[0m\u001b[0m\n\u001b[1;32m      4\u001b[0m     \u001b[1;32mreturn\u001b[0m \u001b[0ma\u001b[0m \u001b[1;33m+\u001b[0m \u001b[0mb\u001b[0m\u001b[1;33m\u001b[0m\u001b[0m\n",
      "\u001b[0;31mAssertionError\u001b[0m: a is not an integer, a=4.0"
     ]
    }
   ],
   "source": [
    "add(4.0, 1)"
   ]
  },
  {
   "cell_type": "markdown",
   "metadata": {},
   "source": [
    "Asercję można wyłączać! (np. na produkcji ze względów wydajnościowych!)"
   ]
  },
  {
   "cell_type": "markdown",
   "metadata": {},
   "source": [
    "## doctest"
   ]
  },
  {
   "cell_type": "code",
   "execution_count": 13,
   "metadata": {
    "collapsed": false
   },
   "outputs": [
    {
     "data": {
      "text/plain": [
       "TestResults(failed=0, attempted=2)"
      ]
     },
     "execution_count": 13,
     "metadata": {},
     "output_type": "execute_result"
    }
   ],
   "source": [
    "def add(a, b):\n",
    "    \"\"\"\n",
    "    Zwraca sumę dwóch liczb, np:\n",
    "    \n",
    "    >>> add(1, 2)\n",
    "    3\n",
    "    \n",
    "    >>> add(1, '2')\n",
    "    Traceback (most recent call last):\n",
    "    ...\n",
    "    TypeError: unsupported operand type(s) for +: 'int' and 'str'\n",
    "    \"\"\"\n",
    "    return a + b \n",
    "\n",
    "import doctest\n",
    "doctest.testmod()"
   ]
  },
  {
   "cell_type": "code",
   "execution_count": 17,
   "metadata": {
    "collapsed": false
   },
   "outputs": [
    {
     "data": {
      "text/plain": [
       "TestResults(failed=0, attempted=8)"
      ]
     },
     "execution_count": 17,
     "metadata": {},
     "output_type": "execute_result"
    }
   ],
   "source": [
    "def factorial(n):\n",
    "    \"\"\"Return the factorial of n, an exact integer >= 0.\n",
    "\n",
    "    >>> [factorial(n) for n in range(6)]\n",
    "    [1, 1, 2, 6, 24, 120]\n",
    "    >>> factorial(30)\n",
    "    265252859812191058636308480000000\n",
    "    >>> factorial(-1)\n",
    "    Traceback (most recent call last):\n",
    "        ...\n",
    "    ValueError: n must be >= 0\n",
    "\n",
    "    Factorials of floats are OK, but the float must be an exact integer:\n",
    "    >>> factorial(30.1)\n",
    "    Traceback (most recent call last):\n",
    "        ...\n",
    "    ValueError: n must be exact integer\n",
    "    >>> factorial(30.0)\n",
    "    265252859812191058636308480000000\n",
    "\n",
    "    It must also not be ridiculously large:\n",
    "    >>> factorial(1e100)\n",
    "    Traceback (most recent call last):\n",
    "        ...\n",
    "    OverflowError: n too large\n",
    "    \"\"\"\n",
    "\n",
    "    import math\n",
    "    if not n >= 0:\n",
    "        raise ValueError(\"n must be >= 0\")\n",
    "    if math.floor(n) != n:\n",
    "        raise ValueError(\"n must be exact integer\")\n",
    "    if n+1 == n:  # catch a value like 1e300\n",
    "        raise OverflowError(\"n too large\")\n",
    "    result = 1\n",
    "    factor = 2\n",
    "    while factor <= n:\n",
    "        result *= factor\n",
    "        factor += 1\n",
    "    return result\n",
    "\n",
    "\n",
    "import doctest\n",
    "doctest.testmod()"
   ]
  },
  {
   "cell_type": "raw",
   "metadata": {},
   "source": [
    "$ python factorial.py -v\n",
    "\n",
    "Trying:\n",
    "    [factorial(n) for n in range(6)]\n",
    "Expecting:\n",
    "    [1, 1, 2, 6, 24, 120]\n",
    "ok\n",
    "Trying:\n",
    "    factorial(30)\n",
    "Expecting:\n",
    "    265252859812191058636308480000000\n",
    "ok\n",
    "Trying:\n",
    "    factorial(-1)\n",
    "Expecting:\n",
    "    Traceback (most recent call last):\n",
    "        ...\n",
    "    ValueError: n must be >= 0\n",
    "ok\n",
    "Trying:\n",
    "    factorial(30.1)\n",
    "Expecting:\n",
    "    Traceback (most recent call last):\n",
    "        ...\n",
    "    ValueError: n must be exact integer\n",
    "ok\n",
    "Trying:\n",
    "    factorial(30.0)\n",
    "Expecting:\n",
    "    265252859812191058636308480000000\n",
    "ok\n",
    "Trying:\n",
    "    factorial(1e100)\n",
    "Expecting:\n",
    "    Traceback (most recent call last):\n",
    "        ...\n",
    "    OverflowError: n too large\n",
    "ok\n",
    "1 items had no tests:\n",
    "    __main__                                                                                                                                                          \n",
    "1 items passed all tests:                                                                                                                                             \n",
    "   6 tests in __main__.factorial                                                                                                                                      \n",
    "6 tests in 2 items.                                                                                                                                                   \n",
    "6 passed and 0 failed.                                                                                                                                                \n",
    "Test passed. "
   ]
  },
  {
   "cell_type": "markdown",
   "metadata": {},
   "source": [
    "### example.test"
   ]
  },
  {
   "cell_type": "raw",
   "metadata": {},
   "source": [
    "The ``example`` module\n",
    "======================\n",
    "\n",
    "Using ``factorial``\n",
    "-------------------\n",
    "\n",
    "This is an example text file in reStructuredText format.  First import\n",
    "``factorial`` from the ``example`` module:\n",
    "\n",
    "    >>> from example import factorial\n",
    "\n",
    "Now use it:\n",
    "\n",
    "    >>> factorial(6)\n",
    "    120"
   ]
  },
  {
   "cell_type": "code",
   "execution_count": null,
   "metadata": {
    "collapsed": false
   },
   "outputs": [],
   "source": [
    "import doctest\n",
    "doctest.testfile(\"example.test\")"
   ]
  },
  {
   "cell_type": "raw",
   "metadata": {},
   "source": [
    "File \"./example.test\", line 14, in example.txt\n",
    "Failed example:\n",
    "    factorial(6)\n",
    "Expected:\n",
    "    120\n",
    "Got:\n",
    "    720"
   ]
  },
  {
   "cell_type": "code",
   "execution_count": null,
   "metadata": {
    "collapsed": false
   },
   "outputs": [],
   "source": [
    "python -m doctest -v example.test"
   ]
  },
  {
   "cell_type": "raw",
   "metadata": {},
   "source": [
    "File \"./example.test\", line 14, in example.txt\n",
    "Failed example:\n",
    "    factorial(6)\n",
    "Expected:\n",
    "    120\n",
    "Got:\n",
    "    720"
   ]
  },
  {
   "cell_type": "code",
   "execution_count": 26,
   "metadata": {
    "collapsed": false
   },
   "outputs": [
    {
     "name": "stdout",
     "output_type": "stream",
     "text": [
      "Trying:\n",
      "    add(1, 2)\n",
      "Expecting:\n",
      "    3\n",
      "ok\n",
      "Trying:\n",
      "    add(1, '2')\n",
      "Expecting:\n",
      "    Traceback (most recent call last):\n",
      "    ...\n",
      "    TypeError: unsupported operand type(s) for +: 'int' and 'str'\n",
      "ok\n",
      "Trying:\n",
      "    [factorial(n) for n in range(6)]\n",
      "Expecting:\n",
      "    [1, 1, 2, 6, 24, 120]\n",
      "ok\n",
      "Trying:\n",
      "    factorial(30)\n",
      "Expecting:\n",
      "    265252859812191058636308480000000\n",
      "ok\n",
      "Trying:\n",
      "    factorial(-1)\n",
      "Expecting:\n",
      "    Traceback (most recent call last):\n",
      "        ...\n",
      "    ValueError: n must be >= 0\n",
      "ok\n",
      "Trying:\n",
      "    factorial(30.1)\n",
      "Expecting:\n",
      "    Traceback (most recent call last):\n",
      "        ...\n",
      "    ValueError: n must be exact integer\n",
      "ok\n",
      "Trying:\n",
      "    factorial(30.0)\n",
      "Expecting:\n",
      "    265252859812191058636308480000000\n",
      "ok\n",
      "Trying:\n",
      "    factorial(1e100)\n",
      "Expecting:\n",
      "    Traceback (most recent call last):\n",
      "        ...\n",
      "    OverflowError: n too large\n",
      "ok\n",
      "Trying:\n",
      "    print foo(range(10), range(4))\n",
      "Expecting:\n",
      "    [0, 1, 2, 3, 4, 5, 6, 7, 8, 9, 0, 1, 2, 3]\n",
      "**********************************************************************\n",
      "File \"__main__\", line 3, in __main__.foo\n",
      "Failed example:\n",
      "    print foo(range(10), range(4))\n",
      "Exception raised:\n",
      "    Traceback (most recent call last):\n",
      "      File \"C:\\Python34\\lib\\doctest.py\", line 1318, in __run\n",
      "        compileflags, 1), test.globs)\n",
      "      File \"<doctest __main__.foo[0]>\", line 1\n",
      "        print foo(range(10), range(4))\n",
      "                ^\n",
      "    SyntaxError: invalid syntax\n",
      "Trying:\n",
      "    print foo(range(10), range(4)) # doctest: +ELLIPSIS\n",
      "Expecting:\n",
      "    [0, 1, ..., 9, 0, 1, 2, 3]\n",
      "**********************************************************************\n",
      "File \"__main__\", line 6, in __main__.foo\n",
      "Failed example:\n",
      "    print foo(range(10), range(4)) # doctest: +ELLIPSIS\n",
      "Exception raised:\n",
      "    Traceback (most recent call last):\n",
      "      File \"C:\\Python34\\lib\\doctest.py\", line 1318, in __run\n",
      "        compileflags, 1), test.globs)\n",
      "      File \"<doctest __main__.foo[1]>\", line 1\n",
      "        print foo(range(10), range(4)) # doctest: +ELLIPSIS\n",
      "                ^\n",
      "    SyntaxError: invalid syntax\n",
      "Trying:\n",
      "    print foo(range(10), range(4)) # doctest: +ELLIPSIS, +NORMALIZE_WHITESPACE\n",
      "Expecting:\n",
      "    [0, ..., 9,    0, ..., 3]\n",
      "**********************************************************************\n",
      "File \"__main__\", line 9, in __main__.foo\n",
      "Failed example:\n",
      "    print foo(range(10), range(4)) # doctest: +ELLIPSIS, +NORMALIZE_WHITESPACE\n",
      "Exception raised:\n",
      "    Traceback (most recent call last):\n",
      "      File \"C:\\Python34\\lib\\doctest.py\", line 1318, in __run\n",
      "        compileflags, 1), test.globs)\n",
      "      File \"<doctest __main__.foo[2]>\", line 1\n",
      "        print foo(range(10), range(4)) # doctest: +ELLIPSIS, +NORMALIZE_WHITESPACE\n",
      "                ^\n",
      "    SyntaxError: invalid syntax\n",
      "2 items had no tests:\n",
      "    __main__\n",
      "    __main__.read\n",
      "2 items passed all tests:\n",
      "   2 tests in __main__.add\n",
      "   6 tests in __main__.factorial\n",
      "**********************************************************************\n",
      "1 items had failures:\n",
      "   3 of   3 in __main__.foo\n",
      "11 tests in 5 items.\n",
      "8 passed and 3 failed.\n",
      "***Test Failed*** 3 failures.\n"
     ]
    },
    {
     "data": {
      "text/plain": [
       "TestResults(failed=3, attempted=11)"
      ]
     },
     "execution_count": 26,
     "metadata": {},
     "output_type": "execute_result"
    }
   ],
   "source": [
    "def foo(*args):\n",
    "    \"\"\"\n",
    "    >>> print foo(range(10), range(4))\n",
    "    [0, 1, 2, 3, 4, 5, 6, 7, 8, 9, 0, 1, 2, 3]\n",
    "    \n",
    "    >>> print foo(range(10), range(4)) # doctest: +ELLIPSIS\n",
    "    [0, 1, ..., 9, 0, 1, 2, 3]\n",
    "    \n",
    "    >>> print foo(range(10), range(4)) # doctest: +ELLIPSIS, +NORMALIZE_WHITESPACE\n",
    "    [0, ..., 9,    0, ..., 3]\n",
    "    \"\"\"\n",
    "    return [x for el in args for x in el]\n",
    "\n",
    "import doctest\n",
    "doctest.testmod(verbose=3)"
   ]
  },
  {
   "cell_type": "markdown",
   "metadata": {},
   "source": [
    "## Unittest"
   ]
  },
  {
   "cell_type": "code",
   "execution_count": 30,
   "metadata": {
    "collapsed": false
   },
   "outputs": [
    {
     "name": "stderr",
     "output_type": "stream",
     "text": [
      "test_choice (__main__.TestSequenceFunctions) ... ok\n",
      "test_sample (__main__.TestSequenceFunctions) ... ok\n",
      "test_shuffle (__main__.TestSequenceFunctions) ... "
     ]
    },
    {
     "name": "stdout",
     "output_type": "stream",
     "text": [
      "<unittest.runner.TextTestResult run=3 errors=0 failures=0>\n"
     ]
    },
    {
     "name": "stderr",
     "output_type": "stream",
     "text": [
      "ok\n",
      "\n",
      "----------------------------------------------------------------------\n",
      "Ran 3 tests in 0.003s\n",
      "\n",
      "OK\n"
     ]
    }
   ],
   "source": [
    "import random\n",
    "import unittest\n",
    "\n",
    "class TestSequenceFunctions(unittest.TestCase):\n",
    "\n",
    "    def setUp(self):\n",
    "        self.seq = list(range(10))\n",
    "\n",
    "    def test_shuffle(self):\n",
    "        # make sure the shuffled sequence does not lose any elements\n",
    "        random.shuffle(self.seq)\n",
    "        self.seq.sort()\n",
    "        self.assertEqual(self.seq, list(range(10)))\n",
    "\n",
    "        # should raise an exception for an immutable sequence\n",
    "        self.assertRaises(TypeError, random.shuffle, (1,2,3))\n",
    "\n",
    "    def test_choice(self):\n",
    "        element = random.choice(self.seq)\n",
    "        self.assertTrue(element in self.seq)\n",
    "\n",
    "    def test_sample(self):\n",
    "        with self.assertRaises(ValueError):\n",
    "            random.sample(self.seq, 20)\n",
    "        for element in random.sample(self.seq, 5):\n",
    "            self.assertTrue(element in self.seq)\n",
    "\n",
    "suite = unittest.TestLoader().loadTestsFromTestCase(TestSequenceFunctions)\n",
    "print(unittest.TextTestRunner(verbosity=3).run(suite))"
   ]
  },
  {
   "cell_type": "code",
   "execution_count": 34,
   "metadata": {
    "collapsed": false
   },
   "outputs": [
    {
     "name": "stderr",
     "output_type": "stream",
     "text": [
      "test_choice (__main__.TestSequenceFunctions) ... ok\n",
      "test_sample (__main__.TestSequenceFunctions) ... ok\n",
      "test_shuffle (__main__.TestSequenceFunctions) ... "
     ]
    },
    {
     "name": "stdout",
     "output_type": "stream",
     "text": [
      "<unittest.runner.TextTestResult run=3 errors=0 failures=1>\n"
     ]
    },
    {
     "name": "stderr",
     "output_type": "stream",
     "text": [
      "FAIL\n",
      "\n",
      "======================================================================\n",
      "FAIL: test_shuffle (__main__.TestSequenceFunctions)\n",
      "----------------------------------------------------------------------\n",
      "Traceback (most recent call last):\n",
      "  File \"<ipython-input-34-d7e758f43733>\", line 13, in test_shuffle\n",
      "    self.assertEqual(self.seq, list(range(11)))\n",
      "AssertionError: Lists differ: [0, 1, 2, 3, 4, 5, 6, 7, 8, 9] != [0, 1, 2, 3, 4, 5, 6, 7, 8, 9, 10]\n",
      "\n",
      "Second list contains 1 additional elements.\n",
      "First extra element 10:\n",
      "10\n",
      "\n",
      "- [0, 1, 2, 3, 4, 5, 6, 7, 8, 9]\n",
      "+ [0, 1, 2, 3, 4, 5, 6, 7, 8, 9, 10]\n",
      "?                              ++++\n",
      "\n",
      "\n",
      "----------------------------------------------------------------------\n",
      "Ran 3 tests in 0.004s\n",
      "\n",
      "FAILED (failures=1)\n"
     ]
    }
   ],
   "source": [
    "import random\n",
    "import unittest\n",
    "\n",
    "class TestSequenceFunctions(unittest.TestCase):\n",
    "\n",
    "    def setUp(self):\n",
    "        self.seq = list(range(10))\n",
    "\n",
    "    def test_shuffle(self):\n",
    "        # make sure the shuffled sequence does not lose any elements\n",
    "        random.shuffle(self.seq)\n",
    "        self.seq.sort()\n",
    "        self.assertEqual(self.seq, list(range(11)))\n",
    "\n",
    "        # should raise an exception for an immutable sequence\n",
    "        self.assertRaises(TypeError, random.shuffle, (1,2,3))\n",
    "\n",
    "    def test_choice(self):\n",
    "        element = random.choice(self.seq)\n",
    "        self.assertTrue(element in self.seq)\n",
    "\n",
    "    def test_sample(self):\n",
    "        with self.assertRaises(ValueError):\n",
    "            random.sample(self.seq, 20)\n",
    "        for element in random.sample(self.seq, 5):\n",
    "            self.assertTrue(element in self.seq)\n",
    "\n",
    "suite = unittest.TestLoader().loadTestsFromTestCase(TestSequenceFunctions)\n",
    "print(unittest.TextTestRunner(verbosity=3).run(suite))"
   ]
  },
  {
   "cell_type": "code",
   "execution_count": 36,
   "metadata": {
    "collapsed": false
   },
   "outputs": [
    {
     "name": "stderr",
     "output_type": "stream",
     "text": [
      "test_default_size (__main__.WidgetTestCase) ... ok\n",
      "test_resize (__main__.WidgetTestCase) ... "
     ]
    },
    {
     "name": "stdout",
     "output_type": "stream",
     "text": [
      "<unittest.runner.TextTestResult run=2 errors=1 failures=0>\n"
     ]
    },
    {
     "name": "stderr",
     "output_type": "stream",
     "text": [
      "ERROR\n",
      "\n",
      "======================================================================\n",
      "ERROR: test_resize (__main__.WidgetTestCase)\n",
      "----------------------------------------------------------------------\n",
      "Traceback (most recent call last):\n",
      "  File \"<ipython-input-36-c635f2067186>\", line 31, in test_resize\n",
      "    self.widget.resize(100,150)\n",
      "TypeError: resize() takes 2 positional arguments but 3 were given\n",
      "\n",
      "----------------------------------------------------------------------\n",
      "Ran 2 tests in 0.003s\n",
      "\n",
      "FAILED (errors=1)\n"
     ]
    }
   ],
   "source": [
    "import unittest\n",
    "\n",
    "class Widget(object):\n",
    "    \n",
    "    def __init__(self, name):\n",
    "        self.name = name\n",
    "        self._size = (50, 50)\n",
    "    \n",
    "    def size(self):\n",
    "        return self._size\n",
    "    \n",
    "    def resize(self, size):\n",
    "        self._size = size\n",
    "        \n",
    "    def dispose(self):\n",
    "        pass\n",
    "\n",
    "class WidgetTestCase(unittest.TestCase):\n",
    "    def setUp(self):\n",
    "        self.widget = Widget('The widget')\n",
    "\n",
    "    def tearDown(self):\n",
    "        self.widget.dispose()\n",
    "        self.widget = None\n",
    "\n",
    "    def test_default_size(self):\n",
    "        self.assertEqual(self.widget.size(), (50,50),\n",
    "                         'incorrect default size')\n",
    "\n",
    "    def test_resize(self):\n",
    "        self.widget.resize(100,150)\n",
    "        self.assertEqual(self.widget.size(), (100,150),\n",
    "                         'wrong size after resize')\n",
    "\n",
    "suite = unittest.TestLoader().loadTestsFromTestCase(WidgetTestCase)\n",
    "print(unittest.TextTestRunner(verbosity=3).run(suite))"
   ]
  },
  {
   "cell_type": "code",
   "execution_count": 38,
   "metadata": {
    "collapsed": false
   },
   "outputs": [
    {
     "name": "stderr",
     "output_type": "stream",
     "text": [
      "test_default_size (__main__.WidgetTestCase) ... ok\n",
      "test_resize (__main__.WidgetTestCase) ... "
     ]
    },
    {
     "name": "stdout",
     "output_type": "stream",
     "text": [
      "<unittest.runner.TextTestResult run=2 errors=0 failures=0>\n"
     ]
    },
    {
     "name": "stderr",
     "output_type": "stream",
     "text": [
      "ok\n",
      "\n",
      "----------------------------------------------------------------------\n",
      "Ran 2 tests in 0.004s\n",
      "\n",
      "OK\n"
     ]
    }
   ],
   "source": [
    "import unittest\n",
    "\n",
    "class Widget(object):\n",
    "    \n",
    "    def __init__(self, name):\n",
    "        self.name = name\n",
    "        self._size = (50, 50)\n",
    "    \n",
    "    def size(self):\n",
    "        return self._size\n",
    "    \n",
    "    def resize(self, width, height):\n",
    "        self._size = (width, height)\n",
    "        \n",
    "    def dispose(self):\n",
    "        pass\n",
    "\n",
    "class WidgetTestCase(unittest.TestCase):\n",
    "    def setUp(self):\n",
    "        self.widget = Widget('The widget')\n",
    "\n",
    "    def tearDown(self):\n",
    "        self.widget.dispose()\n",
    "        self.widget = None\n",
    "\n",
    "    def test_default_size(self):\n",
    "        self.assertEqual(self.widget.size(), (50,50),\n",
    "                         'incorrect default size')\n",
    "\n",
    "    def test_resize(self):\n",
    "        self.widget.resize(100,150)\n",
    "        self.assertEqual(self.widget.size(), (100,150),\n",
    "                         'wrong size after resize')\n",
    "\n",
    "suite = unittest.TestLoader().loadTestsFromTestCase(WidgetTestCase)\n",
    "print(unittest.TextTestRunner(verbosity=3).run(suite))"
   ]
  },
  {
   "cell_type": "code",
   "execution_count": null,
   "metadata": {
    "collapsed": true
   },
   "outputs": [],
   "source": []
  }
 ],
 "metadata": {
  "kernelspec": {
   "display_name": "Python 3",
   "language": "python",
   "name": "python3"
  },
  "language_info": {
   "codemirror_mode": {
    "name": "ipython",
    "version": 3
   },
   "file_extension": ".py",
   "mimetype": "text/x-python",
   "name": "python",
   "nbconvert_exporter": "python",
   "pygments_lexer": "ipython3",
   "version": "3.4.4"
  }
 },
 "nbformat": 4,
 "nbformat_minor": 0
}
