{
 "cells": [
  {
   "cell_type": "markdown",
   "metadata": {},
   "source": [
    "## Język Python - Laboratorium 1."
   ]
  },
  {
   "cell_type": "markdown",
   "metadata": {},
   "source": [
    "*Rozwiązania zadań proszę przedstawić na zajęciach lub przesłać w jednym pliku o nazwie **L01_ImieNazwisko.ipynb** (notebook) lub **L01_ImieNazwisko.py** (skrypt) (proszę nie używać polskich znaków w nazwach plików). Rozwiązanie należy przesłać w przeciągu pięciu dni od zakończenia zajęć.*"
   ]
  },
  {
   "cell_type": "markdown",
   "metadata": {},
   "source": [
    "## Zasady zaliczenia\n",
    "\n",
    "* Laboratorium: 50+ pkt\n",
    "* Projekt: 50 pkt\n",
    "\n",
    "Szczegóły w odrębnym dokumencie na [stronie przedmiotu](http://jaceksmietanski.net/python)."
   ]
  },
  {
   "cell_type": "markdown",
   "metadata": {},
   "source": [
    "## Zadanie 1 (0.5 pkt)\n",
    "\n",
    "Napisz podstawowy program w pythonie, [Hello world](http://pl.wikipedia.org/wiki/Hello_world), i uruchom go:\n",
    "   * z linii poleceń *python hello.py*\n",
    "   * z interaktywnego interpretera pythona\n",
    "   * wewnątrz notebooka\n",
    "\n",
    "## Zadanie 2 (1.5 pkt)\n",
    " W każdym z poniższych programów znajduje się błąd w **dokładnie jednej** linijce, znajdź go i popraw.\n",
    "   * Nie można dodawać żadnych nowych linii\n",
    "   * Należy wybrać **dokładnie jedną linię** i zmodyfikować w niej dowolnie wiele znaków\n",
    "   * Każde zadanie wymaga **jedynie wiedzy z pierwszego wykładu**, nie trzeba znać żadnych dodatkowych funkcji (chyba, że są już użyte w dostarczonym snippecie)"
   ]
  },
  {
   "cell_type": "code",
   "execution_count": null,
   "metadata": {
    "collapsed": true
   },
   "outputs": [],
   "source": [
    "def sum_of_cubes(n): \n",
    "    \"\"\" Funkcja powinna zwrócić sumę sześcianów liczb od 1 do n włącznie \"\"\"\n",
    "    i = 0\n",
    "    for i in range(1, n+1):\n",
    "        result += i**3\n",
    "    return result\n",
    "\n",
    "print(sum_of_cubes(1) == 1)\n",
    "print(sum_of_cubes(3) == 36)"
   ]
  },
  {
   "cell_type": "code",
   "execution_count": null,
   "metadata": {
    "collapsed": true
   },
   "outputs": [],
   "source": [
    "def how_many_digits(n):\n",
    "    \"\"\" Zwraca liczbę cyfr liczby n \"\"\"\n",
    "    if n==0:\n",
    "        return 1\n",
    "    digits = 0\n",
    "    while n > 0:\n",
    "        n %= 10\n",
    "        digits += 1\n",
    "    return digits\n",
    "\n",
    "print(how_many_digits(0) == 1)\n",
    "print(how_many_digits(10) == 2)\n",
    "print(how_many_digits(1234567890) == 10)"
   ]
  },
  {
   "cell_type": "code",
   "execution_count": null,
   "metadata": {
    "collapsed": true
   },
   "outputs": [],
   "source": [
    "def is_palindrome(word):\n",
    "    \"\"\" Funkcja sprawdza czy *word* jest palindromem \"\"\"\n",
    "    n = len(word)\n",
    "    for i, letter in enumerate(word):\n",
    "        if letter != word[i]:\n",
    "            return False\n",
    "    return True\n",
    "\n",
    "print(is_palindrome('ala') == True)\n",
    "print(is_palindrome('ananas') == False)\n",
    "print(is_palindrome('ananasa') == False)\n",
    "print(is_palindrome('tomek') == False)"
   ]
  },
  {
   "cell_type": "code",
   "execution_count": null,
   "metadata": {
    "collapsed": true
   },
   "outputs": [],
   "source": [
    "def how_many_different_letters(word):\n",
    "    \"\"\" Zwraca liczbę unikalnych znaków w słowie, możemy założyć, że słowo składa się z małych liter alfabetu angielskiego \"\"\"\n",
    "    letters = 0\n",
    "    for letter in word:\n",
    "        letters += 1\n",
    "    return letters\n",
    "\n",
    "print(how_many_different_letters('tomek') == 5)\n",
    "print(how_many_different_letters('ala') == 2)\n",
    "print(how_many_different_letters('ananas') == 3)\n",
    "print(how_many_different_letters('jola') == 4)"
   ]
  },
  {
   "cell_type": "code",
   "execution_count": null,
   "metadata": {
    "collapsed": true
   },
   "outputs": [],
   "source": [
    "def rot13(word):\n",
    "    \"\"\" Implementacja znanego szyfru ROT13 (http://pl.wikipedia.org/wiki/ROT13) dla słów z małych liter alfabetu angielskiego \"\"\"\n",
    "    rotated = ''\n",
    "    a = ord('a') # Zwraca kod znaku, funkcją odwrotną jest chr(int)\n",
    "    z = ord('z')\n",
    "    for letter in word:\n",
    "        rotated += chr(a+(ord(letter)+13-a) % z)\n",
    "    return rotated\n",
    "\n",
    "print(rot13('ala') == 'nyn')\n",
    "print(rot13('ananas') == 'nananf')\n",
    "print(rot13('tomek') == 'gbzrx')\n",
    "print(rot13('abcdefghijklmnoprstuwxyz') == 'nopqrstuvwxyzabcefghjklm')"
   ]
  },
  {
   "cell_type": "code",
   "execution_count": null,
   "metadata": {
    "collapsed": true
   },
   "outputs": [],
   "source": [
    "def find_a_word_in_sentence(word, sentence):\n",
    "    \"\"\" Sprawdza czy słowo wystepuje w zdaniu \"\"\"\n",
    "    return word in sentence\n",
    "\n",
    "print(find_a_word_in_sentence('ala', 'ala ma kota') == True)\n",
    "print(find_a_word_in_sentence('al', 'ala ma kota') == False)\n",
    "print(find_a_word_in_sentence('ma k', 'ala ma kota') == False)\n",
    "print(find_a_word_in_sentence('ma', 'ala ma kota') == True)"
   ]
  },
  {
   "cell_type": "markdown",
   "metadata": {},
   "source": [
    "\n",
    "## Zadanie 3 (2pkt)\n",
    "\n",
    "Napisz definicję funkcji *how_many_integers(N)*, która zwróci jak wiele liczb z zakresu [1,N) składa się wyłącznie z cyfr {0,2,7,9}. Czyli np.\n",
    " \n",
    "    how_many_integers(1) = 0\n",
    "    how_many_integers(10) = 3 # 2,7,9\n",
    "    how_many_integers(28) = 6 # 2,7,9,20,22,27\n",
    "    \n",
    "Twoje rozwiązanie powinno mieć jak najmniej *niebiałych* znaków. Czy uda się w 71? A może da się jeszcze mniej?\n",
    " "
   ]
  }
 ],
 "metadata": {
  "kernelspec": {
   "display_name": "Python 3",
   "language": "python",
   "name": "python3"
  },
  "language_info": {
   "codemirror_mode": {
    "name": "ipython",
    "version": 3
   },
   "file_extension": ".py",
   "mimetype": "text/x-python",
   "name": "python",
   "nbconvert_exporter": "python",
   "pygments_lexer": "ipython3",
   "version": "3.4.4"
  },
  "name": ""
 },
 "nbformat": 4,
 "nbformat_minor": 0
}
