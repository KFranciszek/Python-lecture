{
 "cells": [
  {
   "cell_type": "markdown",
   "metadata": {},
   "source": [
    "## Język Python - Laboratorium 2."
   ]
  },
  {
   "cell_type": "markdown",
   "metadata": {},
   "source": [
    "*Rozwiązania wszystkich zadań przesyłamy w jednym pliku o nazwie **L02_ImieNazwisko.py** (bez polskich znaków) w przeciągu dwóch dni od zakończenia zajęć. Przed wysłaniem upewnij się, że kod wykonuje się poprawnie.*"
   ]
  },
  {
   "cell_type": "markdown",
   "metadata": {},
   "source": [
    "## ZADANIE 1\n",
    "( 1pkt)"
   ]
  },
  {
   "cell_type": "markdown",
   "metadata": {},
   "source": [
    "Uzupełnij definicje poniższych funkcji"
   ]
  },
  {
   "cell_type": "code",
   "execution_count": null,
   "metadata": {
    "collapsed": false
   },
   "outputs": [],
   "source": [
    "def mean(...):\n",
    "    \"\"\"Zwraca średnią liczb podanych jako argumenty pozycyjne\"\"\"\n",
    "    pass\n",
    "\n",
    "print(mean(1, 2, 3) == 2)\n",
    "print(mean(2, 2, 4, 4) == 3)\n",
    "print(mean(1, 2, 3, 4, 5, 61, 2, 12, 123, 123) == 33.6)"
   ]
  },
  {
   "cell_type": "code",
   "execution_count": null,
   "metadata": {
    "collapsed": false
   },
   "outputs": [],
   "source": [
    "def check_dictionary_content(...):\n",
    "    \"\"\"Sprawdza, czy w danym słowniku znajduje się conajmniej podana liczba elementów\"\"\"\n",
    "    pass\n",
    "\n",
    "d = {'orange': 3, 'apple': 1, 'dogs': 10}\n",
    "print(check_dictionary_content(d, orange=2) == True)\n",
    "print(check_dictionary_content(d, orange=2, apple=1) == True)\n",
    "print(check_dictionary_content(d, dogs=11) == False)\n",
    "print(check_dictionary_content(d, dogs=9, cats=0) == True)\n",
    "print(check_dictionary_content(d, apple=0, cats=1) == False)\n",
    "print(check_dictionary_content(d, **d) == True)"
   ]
  },
  {
   "cell_type": "markdown",
   "metadata": {},
   "source": [
    "## ZADANIE 2 \n",
    "(3 pkt = 5*0.6pkt)"
   ]
  },
  {
   "cell_type": "markdown",
   "metadata": {},
   "source": [
    "Zapisz każdą z poniższych funkcji w postaci list/dict/set comprehension. Nie należy używać żadnych zmiennych tymczasowych ani dodatkowych linii, każda funkcja ma zostać wyrażona w postaci\n",
    "\n",
    "\n",
    "    def FUNKCJA(ARGUMENTY):\n",
    "        return COMPREHENSION"
   ]
  },
  {
   "cell_type": "code",
   "execution_count": null,
   "metadata": {
    "collapsed": false
   },
   "outputs": [],
   "source": [
    "def even_numbers_from_list(data):\n",
    "    \"\"\"Zwraca podlistę \"data\" zawierającą wyłącznie parzyste liczby\"\"\"\n",
    "    result = []\n",
    "    for point in data:\n",
    "        if point % 2 == 0:\n",
    "            result.append(point)\n",
    "    return result\n",
    "\n",
    "print(even_numbers_from_list([1, 2, 3, 4]) == [2, 4])\n",
    "print(even_numbers_from_list(range(10)) == range(0, 10, 2))\n",
    "print(even_numbers_from_list(range(1000)) == range(0, 1000, 2))\n",
    "print(even_numbers_from_list([10, 2, 3, 4, 6, -3, -4]) == [10, 2, 4, 6, -4])"
   ]
  },
  {
   "cell_type": "code",
   "execution_count": null,
   "metadata": {
    "collapsed": false
   },
   "outputs": [],
   "source": [
    "def words_analyze(words):\n",
    "    \"\"\"Zwraca listę trójek, gdzie i'ta trójka to (i, i'te słowo, długość i'tego słowa)\"\"\"\n",
    "    result = []\n",
    "    i = 0\n",
    "    for word in words:\n",
    "        result.append((i, word, len(word)))\n",
    "        i += 1\n",
    "    return result\n",
    "\n",
    "print(words_analyze(['tomek', 'jadzia']) == [(0, 'tomek', 5), (1, 'jadzia', 6)])\n",
    "print(words_analyze([]) == [])"
   ]
  },
  {
   "cell_type": "code",
   "execution_count": null,
   "metadata": {
    "collapsed": false
   },
   "outputs": [],
   "source": [
    "def count_words_starting_with_given_letter(text, letter):\n",
    "    \"\"\"Zwraca słownik gdzie kluczami są wszystkie słowa występujące w tekście \n",
    "    rozpoczynające się na zadaną literę, a wartością ile razy wystąpiy\"\"\"\n",
    "    result = {}\n",
    "    for word in text.split():\n",
    "        if word[0] == letter:\n",
    "            if word not in result:\n",
    "                result[word] = 1\n",
    "            else:\n",
    "                result[word] += 1\n",
    "    return result\n",
    "\n",
    "print(count_words_starting_with_given_letter('ola ma kota o imieniu ola', 'o') == {'ola': 2, 'o': 1})\n",
    "print(count_words_starting_with_given_letter('ola ma kota o imieniu ola', 'k') == {'kota': 1})\n",
    "print(count_words_starting_with_given_letter('ola ma kota o imieniu ola', 'x') == {})"
   ]
  },
  {
   "cell_type": "code",
   "execution_count": null,
   "metadata": {
    "collapsed": false
   },
   "outputs": [],
   "source": [
    "def dna_to_aminos(sequence):\n",
    "    \"\"\"Zwraca listę trójek liter z sekwencji, dopuszczając jedynie trójki złożone z liter A, C, G oraz  U\"\"\"\n",
    "    result = []\n",
    "    current = ''\n",
    "    for nucleodite in sequence:\n",
    "        if len(current)<3:\n",
    "            if nucleodite not in ['A', 'C', 'G', 'U']:\n",
    "                nucleodite = 'X' # marker niepoprawnej sekwencji\n",
    "            current += nucleodite\n",
    "            if len(current) == 3:\n",
    "                if 'X' not in current:\n",
    "                    result.append(current)\n",
    "                current = ''\n",
    "    return result\n",
    "\n",
    "print(dna_to_aminos('AAUAAUAAAUCAUAA') == ['AAU', 'AAU', 'AAA', 'UCA', 'UAA'])\n",
    "print(dna_to_aminos('AAUAAXAAAUCAUAA') == ['AAU', 'AAA', 'UCA', 'UAA'])"
   ]
  },
  {
   "cell_type": "code",
   "execution_count": null,
   "metadata": {
    "collapsed": false
   },
   "outputs": [],
   "source": [
    "from math import sqrt\n",
    "\n",
    "def primes(N):\n",
    "    \"\"\"Zwraca zbiór liczb pierwszych od 0 do N włącznie\"\"\"\n",
    "    pass\n",
    "    \n",
    "print(primes(5) == {2, 3, 5})\n",
    "print(primes(10) == {2, 3, 5, 7})\n",
    "print(primes(100) == {2, 3, 5, 7, 11, 13, 17, 19, 23, 29, 31, 37, 41, 43, 47, 53, 59, 61, 67, 71, 73, 79, 83, 89, 97})"
   ]
  },
  {
   "cell_type": "markdown",
   "metadata": {},
   "source": [
    "**Zadanie dodatkowe** (1 pkt)\n",
    "\n",
    "Napisz funkcję primes jeszcze raz, tym razem jednak nie wolno Ci użyć:\n",
    "* operatorów <, >, ==, !=\n",
    "* funkcji range/xrange\n",
    "* więcej jak stałej ilości pamięci (nie można alokować żadnej struktury o wielkości zależnej od N)\n",
    "* kodu, który sprawi że dla N=100000 będzie się ona liczyć więcej jak kilka-kilkanaście sekund"
   ]
  },
  {
   "cell_type": "code",
   "execution_count": null,
   "metadata": {
    "collapsed": false
   },
   "outputs": [],
   "source": [
    "def primes_extra(N):\n",
    "    pass\n",
    "    \n",
    "print(set(primes_extra(5)) == {2, 3, 5})\n",
    "print(set(primes_extra(10)) == {2, 3, 5, 7})\n",
    "print(set(primes_extra(100)) == {2, 3, 5, 7, 11, 13, 17, 19, 23, 29, 31, 37, 41, 43, 47, 53, 59, 61, 67, 71, 73, 79, 83, 89, 97})"
   ]
  }
 ],
 "metadata": {
  "kernelspec": {
   "display_name": "Python 3",
   "language": "python",
   "name": "python3"
  },
  "language_info": {
   "codemirror_mode": {
    "name": "ipython",
    "version": 3
   },
   "file_extension": ".py",
   "mimetype": "text/x-python",
   "name": "python",
   "nbconvert_exporter": "python",
   "pygments_lexer": "ipython3",
   "version": "3.4.4"
  }
 },
 "nbformat": 4,
 "nbformat_minor": 0
}
