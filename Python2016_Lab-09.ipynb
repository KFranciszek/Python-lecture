{
 "cells": [
  {
   "cell_type": "markdown",
   "metadata": {},
   "source": [
    "## Język Python - Laboratorium 9"
   ]
  },
  {
   "cell_type": "markdown",
   "metadata": {},
   "source": [
    "*Rozwiązania zadań proszę przedstawić na zajęciach lub przesłać w jednym pliku o nazwie **L09_ImieNazwisko.ipynb** (notebook) lub **L09_ImieNazwisko.py** (skrypt) (proszę nie używać polskich znaków w nazwach plików). Rozwiązanie należy przesłać w przeciągu pięciu dni od zakończenia zajęć.*\n",
    "\n",
    "Punktacja: zadania 1-8 po 0.5 pkt, zadanie dodatkowe: 1pkt."
   ]
  },
  {
   "cell_type": "markdown",
   "metadata": {},
   "source": [
    "## ZADANIE 0\n",
    "\n",
    "Zaimportuj `numpy` jako `np` i uruchom `np.__config__.show()`. Przyjrzyj sie wynikowi dzialania tej komendy. Jaka wiedze mozesz  stad uzyskac? W szczegolnosci, od ktorych elementow zalezec bedzie wydajnosc wykonywanych operacji?"
   ]
  },
  {
   "cell_type": "markdown",
   "metadata": {},
   "source": [
    "## ZADANIE 1\n",
    "\n",
    "Stwórz losową tablicę liczb, następnie do każdego elementu dodaj 1. Następnie napisz dokładnie tę samą funkcję używając `numpy` i jego tablic. Porównaj czas działania swoich rozwiązań. Dlaczego tak się dzieje?"
   ]
  },
  {
   "cell_type": "markdown",
   "metadata": {},
   "source": [
    "## ZADANIE 2\n",
    "\n",
    "Napisz funkcje obliczajaca $\\sin(x) + \\cos(x)$ dla kazdego elementu tablicy uzywajac petli oraz uzywajac numpy, porownaj ich szybkosc podobnie jak w poprzednim zadaniu."
   ]
  },
  {
   "cell_type": "markdown",
   "metadata": {},
   "source": [
    "## ZADANIE 3\n",
    "\n",
    "Napisz wydajniejsza forme nastepujacych funkcji. Dopisz do kazdej test potwierdzajacy szybkosc zaproponowanego rozwiazania."
   ]
  },
  {
   "cell_type": "code",
   "execution_count": null,
   "metadata": {
    "collapsed": true
   },
   "outputs": [],
   "source": [
    "def cube_sum(x):\n",
    "    \"\"\"Zwraca sume szescianow elementow\"\"\"\n",
    "    result = 0\n",
    "    for i in range(len(x)):\n",
    "        result += x[i] ** 3\n",
    "    return result\n",
    "\n",
    "def almost_variance(x):\n",
    "    \"\"\"Oblicza 1/n * SUM (x_i - mean(x))^4\"\"\"\n",
    "    m = sum(x) / len(x)\n",
    "    result = 0\n",
    "    for i in range(len(x)):\n",
    "        result += (x[i] - m) ** 4\n",
    "    result /= len(x)\n",
    "    return result"
   ]
  },
  {
   "cell_type": "markdown",
   "metadata": {},
   "source": [
    "## ZADANIE 4\n",
    "\n",
    "Wykorzystujac `broadcasting` (popatrz na rysunek ponizej) stworz tabliczke mnozenia tzn. tablice $A$ taka, ze $$A_{ij} = i \\cdot j\\;\\;\\;\\;\\; \\forall i,j \\in \\{1,\\dots,10\\}$$\n",
    "\n",
    "Czy potrafisz wykonac to jednym poleceniem? Tzn. jednolinijkowo, nie uzywajac przy tym petli/comprehensions?"
   ]
  },
  {
   "cell_type": "markdown",
   "metadata": {},
   "source": [
    "<img src=\"L09_files/fig_broadcast_visual_1.png\">"
   ]
  },
  {
   "cell_type": "markdown",
   "metadata": {},
   "source": [
    "## ZADANIE 5\n",
    "\n",
    "Wygeneruj losowa tablice `100 x 10`, ktora bedzie reprezentowac `100` punktow w `10` wymiarowej przestrzeni. Napisz funkcje ktora policzy odleglosc euklidesowa pomiedzy kazda para punktow, czy potrafisz zrobic to **w jednej linijce, bez uzycia zadnych petli/comprehensions**? Przypomnienie, dla dwoch wektorow $x$ i $y$ $$d_{e}(x,y) = \\| x - y \\|^2_2 = \\sum_{i=1}^d (x_i - y_i)^2 $$"
   ]
  },
  {
   "cell_type": "markdown",
   "metadata": {},
   "source": [
    "## ZADANIE 6\n",
    "\n",
    "Napisz funkcje do \"wybielania\" zbioru punktow, tj. aplikowania nastepujacej transformacji (ponownie, zrob to w jednej linijce, bez uzycia petli etc.)\n",
    "$$\n",
    "\\mathrm{white}(X)_{ij} = \\frac{X_{ij} - \\mu_j}{\\sigma_j}\n",
    "$$\n",
    "gdzie $\\mu_j$ to srednia po $j$ej kolumnie, a $\\sigma_j$ to odchylenie standardowe po tej kolumnie, np.\n",
    "\n",
    "$$\n",
    "\\mathrm{white}\\left ( \\left [ \\begin{matrix} \n",
    "0& 1\\\\\n",
    "2& 3\\\\\n",
    "4& 5\\\\\n",
    "6& 7\\\\\n",
    "8& 9\n",
    "\\end{matrix} \\right ] \\right ) = \n",
    "\\left [ \\begin{matrix} \n",
    "-1.41421356& -1.41421356\\\\\n",
    "-0.70710678& -0.70710678\\\\\n",
    "0.        &  0.        \\\\\n",
    "0.70710678&  0.70710678\\\\\n",
    "1.41421356&  1.41421356\n",
    "\\end{matrix} \\right ]\n",
    "$$\n",
    "W szczegolnosci srednia po poszczegolnych kolumnach nowej macierzy powinna wynosic `0` a odchylenie standardowe `1`."
   ]
  },
  {
   "cell_type": "markdown",
   "metadata": {},
   "source": [
    "## ZADANIE 7\n",
    "\n",
    "Majac dana tablice dowolnie wymiarowa (dla uproszczenia mozesz przyjac ze jedno lub dwu) oraz liczbe `x` znajdz najblizsza wartosc `x` w `A`, tzn. \n",
    "$$\n",
    "\\mathrm{closest}(x, A) = \\arg\\min_{a\\in A}| x - a| \n",
    "$$\n",
    "np. \n",
    "$$\n",
    "\\mathrm{closest}(1.5, [1, -4, 3]) = 1\n",
    "$$\n",
    "Ponownie, czy potrafisz zrobic to jedna linijka bez petli, etc.?\n"
   ]
  },
  {
   "cell_type": "markdown",
   "metadata": {},
   "source": [
    "## ZADANIE 8.\n",
    "\n",
    "Zaimplementuj proste liczenie wartosci wielomianu o zadanych wspolczynnikach (analogie `np.poly1d`), czyli funkcje\n",
    "$$\n",
    "\\mathrm{poly}(x, a) = a_0 + a_1 x + a_2 x^2 + \\dots + a_k x^k = \\sum_{i=1}^k a_i x^i\n",
    "$$\n",
    "Czy potrafisz zrobić to jednolinijkowo bez użycia pętli, etc. (oraz `np.poly1d` :-)). Może Ci sie przydać metoda `cumprod`"
   ]
  },
  {
   "cell_type": "markdown",
   "metadata": {},
   "source": [
    "## Zadanie dodatkowe\n",
    "\n",
    "Zaimplementuj grę w życie używając numpy."
   ]
  },
  {
   "cell_type": "code",
   "execution_count": null,
   "metadata": {
    "collapsed": false
   },
   "outputs": [],
   "source": [
    "import numpy as np\n",
    "def evolve(Z):\n",
    "    ... # tutaj maksymalnie piec linii\n",
    "    return Z\n",
    "\n",
    "def print_life(Z):\n",
    "    trans = {0: ' ', 1: '*'}\n",
    "    for line in Z:\n",
    "        print(''.join([trans[el] for el in line]))\n",
    "\n",
    "import os\n",
    "import time\n",
    "data = np.random.randint(0,2,(10,20))\n",
    "for i in range(100): \n",
    "    os.system('clear') #na windowsie os.system('cls')\n",
    "    print_life(data)\n",
    "    time.sleep(1)\n",
    "    data = evolve(data)"
   ]
  },
  {
   "cell_type": "markdown",
   "metadata": {},
   "source": [
    "Czy potrafisz zrobić to w nie więcej jak 5 linijkach (caly kod metody `evolve`, bez linijki `return` ani `def`, nie używając `;`)"
   ]
  },
  {
   "cell_type": "code",
   "execution_count": null,
   "metadata": {
    "collapsed": true
   },
   "outputs": [],
   "source": []
  }
 ],
 "metadata": {
  "kernelspec": {
   "display_name": "Python 3",
   "language": "python",
   "name": "python3"
  },
  "language_info": {
   "codemirror_mode": {
    "name": "ipython",
    "version": 3
   },
   "file_extension": ".py",
   "mimetype": "text/x-python",
   "name": "python",
   "nbconvert_exporter": "python",
   "pygments_lexer": "ipython3",
   "version": "3.4.4"
  }
 },
 "nbformat": 4,
 "nbformat_minor": 0
}
